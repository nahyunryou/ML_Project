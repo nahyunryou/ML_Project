{
  "nbformat": 4,
  "nbformat_minor": 0,
  "metadata": {
    "colab": {
      "provenance": [],
      "machine_shape": "hm",
      "include_colab_link": true
    },
    "kernelspec": {
      "name": "python3",
      "display_name": "Python 3"
    },
    "language_info": {
      "name": "python"
    }
  },
  "cells": [
    {
      "cell_type": "markdown",
      "metadata": {
        "id": "view-in-github",
        "colab_type": "text"
      },
      "source": [
        "<a href=\"https://colab.research.google.com/github/nahyunryou/ML_Project/blob/main/Catboost.ipynb\" target=\"_parent\"><img src=\"https://colab.research.google.com/assets/colab-badge.svg\" alt=\"Open In Colab\"/></a>"
      ]
    },
    {
      "cell_type": "code",
      "metadata": {
        "id": "CQBWHsKcPWVc"
      },
      "source": [
        "import warnings\n",
        "warnings.filterwarnings('ignore')\n",
        "\n",
        "import glob\n",
        "import pandas as pd\n",
        "import numpy as np\n",
        "\n",
        "from catboost import CatBoostClassifier\n",
        "from sklearn.model_selection import StratifiedKFold,train_test_split\n",
        "from sklearn.metrics import log_loss\n",
        "from sklearn.preprocessing import OneHotEncoder\n",
        "import random\n",
        "\n",
        "import optuna\n",
        "from optuna.samplers import TPESampler"
      ],
      "execution_count": 16,
      "outputs": []
    },
    {
      "cell_type": "code",
      "source": [
        "from google.colab import drive\n",
        "drive.mount('/content/drive')"
      ],
      "metadata": {
        "colab": {
          "base_uri": "https://localhost:8080/"
        },
        "id": "Z0YnN38gCIaD",
        "outputId": "0903da6d-5c7d-4686-b9d8-9a1e3890ae37"
      },
      "execution_count": 17,
      "outputs": [
        {
          "output_type": "stream",
          "name": "stdout",
          "text": [
            "Drive already mounted at /content/drive; to attempt to forcibly remount, call drive.mount(\"/content/drive\", force_remount=True).\n"
          ]
        }
      ]
    },
    {
      "cell_type": "markdown",
      "metadata": {
        "id": "OzjdFz4xP4SN"
      },
      "source": [
        "#Data Load & Preprocessing\n",
        "  * 훈련에 필요없는 index 컬럼 삭제.\n",
        "  * missing value를 모두 NAN 문자열로 대체\n",
        "  * 범주형 특성 중 일부를 Ordinal하게 바꿈\n",
        "  * 동일 인물이 시간순서에 따라 Credit이 바뀐다고 가정하였으므로 동일인물을 구분할 주민등록번호 같은 고유코드를 만듬"
      ]
    },
    {
      "cell_type": "code",
      "metadata": {
        "id": "-tAWdE1eQAQ7"
      },
      "source": [
        "train = pd.read_csv('/content/drive/MyDrive/ml_project/train.csv')\n",
        "train = train.drop(['index'], axis=1)\n",
        "train.fillna('NAN',inplace=True)\n",
        "\n",
        "test = pd.read_csv('/content/drive/MyDrive/ml_project/test.csv')\n",
        "test = test.drop(['index'],axis=1)\n",
        "test.fillna('NAN',inplace=True)\n",
        "\n",
        "submit = pd.read_csv('/content/drive/MyDrive/ml_project/sample_submission.csv')"
      ],
      "execution_count": 18,
      "outputs": []
    },
    {
      "cell_type": "code",
      "metadata": {
        "id": "KR7YbBAIWHV1"
      },
      "source": [
        "edu_dict = {'Lower secondary':1,\n",
        " 'Secondary / secondary special':2,\n",
        " 'Incomplete higher':3,\n",
        " 'Higher education':4,\n",
        " 'Academic degree':5}\n",
        "\n",
        "train['edu_type'].replace(edu_dict,inplace=True)\n",
        "test['edu_type'].replace(edu_dict,inplace=True)"
      ],
      "execution_count": 19,
      "outputs": []
    },
    {
      "cell_type": "code",
      "metadata": {
        "id": "5NvHDjB0nHUL"
      },
      "source": [
        "house_dict = {'With parents':3,\n",
        " 'Co-op apartment':2,\n",
        " 'Municipal apartment':1,\n",
        " 'Rented apartment':4,\n",
        " 'Office apartment':5,\n",
        " 'House / apartment':6}\n",
        "\n",
        "train['house_type'].replace(house_dict,inplace=True)\n",
        "test['house_type'].replace(house_dict,inplace=True)"
      ],
      "execution_count": 20,
      "outputs": []
    },
    {
      "cell_type": "code",
      "metadata": {
        "id": "5pgmz_k7GdZE"
      },
      "source": [
        "train['CODE'] = train['gender']+train['DAYS_BIRTH'].apply(str)+train['income_total'].apply(str)+train['income_type'].apply(str)\n",
        "test['CODE'] = test['gender']+test['DAYS_BIRTH'].apply(str)+test['income_total'].apply(str)+test['income_type'].apply(str)"
      ],
      "execution_count": 21,
      "outputs": []
    },
    {
      "cell_type": "code",
      "metadata": {
        "colab": {
          "base_uri": "https://localhost:8080/"
        },
        "id": "GGZImp3XkB4I",
        "outputId": "68da2c1d-7df5-42f0-dcd1-a6f837bcd0dc"
      },
      "source": [
        "train.info()"
      ],
      "execution_count": 22,
      "outputs": [
        {
          "output_type": "stream",
          "name": "stdout",
          "text": [
            "<class 'pandas.core.frame.DataFrame'>\n",
            "RangeIndex: 26457 entries, 0 to 26456\n",
            "Data columns (total 20 columns):\n",
            " #   Column         Non-Null Count  Dtype  \n",
            "---  ------         --------------  -----  \n",
            " 0   gender         26457 non-null  object \n",
            " 1   car            26457 non-null  object \n",
            " 2   reality        26457 non-null  object \n",
            " 3   child_num      26457 non-null  int64  \n",
            " 4   income_total   26457 non-null  float64\n",
            " 5   income_type    26457 non-null  object \n",
            " 6   edu_type       26457 non-null  int64  \n",
            " 7   family_type    26457 non-null  object \n",
            " 8   house_type     26457 non-null  int64  \n",
            " 9   DAYS_BIRTH     26457 non-null  int64  \n",
            " 10  DAYS_EMPLOYED  26457 non-null  int64  \n",
            " 11  FLAG_MOBIL     26457 non-null  int64  \n",
            " 12  work_phone     26457 non-null  int64  \n",
            " 13  phone          26457 non-null  int64  \n",
            " 14  email          26457 non-null  int64  \n",
            " 15  occyp_type     26457 non-null  object \n",
            " 16  family_size    26457 non-null  float64\n",
            " 17  begin_month    26457 non-null  float64\n",
            " 18  credit         26457 non-null  float64\n",
            " 19  CODE           26457 non-null  object \n",
            "dtypes: float64(4), int64(9), object(7)\n",
            "memory usage: 4.0+ MB\n"
          ]
        }
      ]
    },
    {
      "cell_type": "markdown",
      "metadata": {
        "id": "-JaWhfFYsgkP"
      },
      "source": [
        "#Training\n",
        "  * Optuna를 사용하여 best parameter 추출(Optuna를 K-Fold에 바로 적용하고 싶었으나 Colab에서 메모리 한계로 학습이 진행되지 않아 일반 데이터셋을 split하여 best parameter만 추출한 후 그것을 통해 Catboost 모델을 재학습함)\n",
        "  * 데이터 분리는 StratifiedKFold를 사용하여 y값 분포를 비슷하게 분리시킴 -> 5-fold\n",
        "  * CatBoostClasffier 사용(Optuna에서 추출한 best parameter 사용)\n",
        "  * 35번 이상 개선 없을 경우 조기종료\n",
        "  * 각 5개의 fold를 훈련하여 저장"
      ]
    },
    {
      "cell_type": "code",
      "metadata": {
        "id": "bsH9mEHs1LU-"
      },
      "source": [
        "#Optuna용 Train셋\n",
        "X = train.drop(['credit'],axis=1)\n",
        "y = train['credit']\n",
        "X_test = test.copy()"
      ],
      "execution_count": 23,
      "outputs": []
    },
    {
      "cell_type": "code",
      "metadata": {
        "id": "_X3xpkC80xe5"
      },
      "source": [
        "def objective(trial):\n",
        "  param = {\n",
        "      \"random_state\":42,\n",
        "      'learning_rate' : trial.suggest_loguniform('learning_rate', 0.01, 0.3),\n",
        "      'bagging_temperature' :trial.suggest_loguniform('bagging_temperature', 0.01, 100.00),\n",
        "      \"n_estimators\":trial.suggest_int(\"n_estimators\", 1000, 10000),\n",
        "      \"max_depth\":trial.suggest_int(\"max_depth\", 4, 16),\n",
        "      'random_strength' :trial.suggest_int('random_strength', 0, 100),\n",
        "      \"colsample_bylevel\":trial.suggest_float(\"colsample_bylevel\", 0.4, 1.0),\n",
        "      \"l2_leaf_reg\":trial.suggest_float(\"l2_leaf_reg\",1e-8,3e-5),\n",
        "      \"min_child_samples\": trial.suggest_int(\"min_child_samples\", 5, 100),\n",
        "      \"max_bin\": trial.suggest_int(\"max_bin\", 200, 500),\n",
        "      'od_type': trial.suggest_categorical('od_type', ['IncToDec', 'Iter']),\n",
        "  }\n",
        "\n",
        "  X_train, X_valid, y_train, y_valid = train_test_split(X,y,test_size=0.2)\n",
        "  \n",
        "  cat_features =[0,1,2,5,6,7,8,15,18]\n",
        "  cat = CatBoostClassifier(**param)\n",
        "  cat.fit(X_train, y_train,\n",
        "          eval_set=[(X_train, y_train), (X_valid,y_valid)],\n",
        "          early_stopping_rounds=35,cat_features=cat_features,\n",
        "          verbose=100)\n",
        "  cat_pred = cat.predict_proba(X_valid)\n",
        "  log_score = log_loss(y_valid, cat_pred)\n",
        "\n",
        "  return log_score"
      ],
      "execution_count": 24,
      "outputs": []
    },
    {
      "cell_type": "code",
      "metadata": {
        "colab": {
          "base_uri": "https://localhost:8080/"
        },
        "id": "37SNdUf10036",
        "outputId": "05d314ce-799b-45af-bff5-88c49c5a718a"
      },
      "source": [
        "sampler = TPESampler(seed=42)\n",
        "study = optuna.create_study(\n",
        "    study_name = 'cat_parameter_opt',\n",
        "    direction = 'minimize',\n",
        "    sampler = sampler,\n",
        ")\n",
        "study.optimize(objective, n_trials=10)\n",
        "print(\"Best Score:\",study.best_value)\n",
        "print(\"Best trial\",study.best_trial.params)"
      ],
      "execution_count": 25,
      "outputs": [
        {
          "output_type": "stream",
          "name": "stderr",
          "text": [
            "\u001b[32m[I 2022-11-30 10:15:58,901]\u001b[0m A new study created in memory with name: cat_parameter_opt\u001b[0m\n"
          ]
        },
        {
          "output_type": "stream",
          "name": "stdout",
          "text": [
            "0:\tlearn: 1.0828369\ttest: 1.0828369\ttest1: 1.0830686\tbest: 1.0830686 (0)\ttotal: 58ms\tremaining: 7m 20s\n",
            "100:\tlearn: 0.8813354\ttest: 0.8813354\ttest1: 0.8875935\tbest: 0.8875935 (100)\ttotal: 820ms\tremaining: 1m\n"
          ]
        },
        {
          "output_type": "stream",
          "name": "stderr",
          "text": [
            "\u001b[32m[I 2022-11-30 10:16:00,331]\u001b[0m Trial 0 finished with value: 0.8875591245663368 and parameters: {'learning_rate': 0.03574712922600244, 'bagging_temperature': 63.512210106407046, 'n_estimators': 7588, 'max_depth': 11, 'random_strength': 15, 'colsample_bylevel': 0.49359671220172163, 'l2_leaf_reg': 1.7519275289243016e-06, 'min_child_samples': 88, 'max_bin': 380, 'od_type': 'IncToDec'}. Best is trial 0 with value: 0.8875591245663368.\u001b[0m\n"
          ]
        },
        {
          "output_type": "stream",
          "name": "stdout",
          "text": [
            "Stopped by overfitting detector  (35 iterations wait)\n",
            "\n",
            "bestTest = 0.8875591246\n",
            "bestIteration = 116\n",
            "\n",
            "Shrink model to first 117 iterations.\n",
            "0:\tlearn: 0.9741562\ttest: 0.9741562\ttest1: 0.9735132\tbest: 0.9735132 (0)\ttotal: 42.6ms\tremaining: 2m 3s\n",
            "100:\tlearn: 0.7225655\ttest: 0.7393259\ttest1: 0.7978773\tbest: 0.7977820 (98)\ttotal: 4.9s\tremaining: 2m 16s\n",
            "200:\tlearn: 0.6427462\ttest: 0.6788736\ttest1: 0.7794359\tbest: 0.7792192 (197)\ttotal: 9.57s\tremaining: 2m 9s\n",
            "300:\tlearn: 0.5810492\ttest: 0.6305959\ttest1: 0.7690978\tbest: 0.7688184 (294)\ttotal: 14s\tremaining: 2m 1s\n",
            "400:\tlearn: 0.5023314\ttest: 0.4527164\ttest1: 0.7139884\tbest: 0.7130368 (382)\ttotal: 18.1s\tremaining: 1m 53s\n"
          ]
        },
        {
          "output_type": "stream",
          "name": "stderr",
          "text": [
            "\u001b[32m[I 2022-11-30 10:16:19,383]\u001b[0m Trial 1 finished with value: 0.7130368254561391 and parameters: {'learning_rate': 0.2708160864249968, 'bagging_temperature': 21.368329072358772, 'n_estimators': 2911, 'max_depth': 6, 'random_strength': 18, 'colsample_bylevel': 0.5825453457757226, 'l2_leaf_reg': 1.5747445384650815e-05, 'min_child_samples': 46, 'max_bin': 287, 'od_type': 'IncToDec'}. Best is trial 1 with value: 0.7130368254561391.\u001b[0m\n"
          ]
        },
        {
          "output_type": "stream",
          "name": "stdout",
          "text": [
            "Stopped by overfitting detector  (35 iterations wait)\n",
            "\n",
            "bestTest = 0.7130368255\n",
            "bestIteration = 382\n",
            "\n",
            "Shrink model to first 383 iterations.\n",
            "0:\tlearn: 1.0867188\ttest: 1.0867529\ttest1: 1.0864894\tbest: 1.0864894 (0)\ttotal: 50.2ms\tremaining: 4m 16s\n",
            "100:\tlearn: 0.8050453\ttest: 0.7102993\ttest1: 0.7780996\tbest: 0.7780996 (100)\ttotal: 11.6s\tremaining: 9m 34s\n",
            "200:\tlearn: 0.7572037\ttest: 0.5917983\ttest1: 0.7215075\tbest: 0.7215075 (200)\ttotal: 25.8s\tremaining: 10m 29s\n",
            "300:\tlearn: 0.7362899\ttest: 0.5482681\ttest1: 0.7047416\tbest: 0.7047416 (300)\ttotal: 46.5s\tremaining: 12m 22s\n",
            "400:\tlearn: 0.7152266\ttest: 0.5160743\ttest1: 0.6901818\tbest: 0.6901818 (400)\ttotal: 1m 9s\tremaining: 13m 35s\n",
            "500:\tlearn: 0.6109001\ttest: 0.4786337\ttest1: 0.6759109\tbest: 0.6755877 (496)\ttotal: 2m 9s\tremaining: 19m 49s\n",
            "Stopped by overfitting detector  (35 iterations wait)\n",
            "\n",
            "bestTest = 0.6747371939\n",
            "bestIteration = 528\n",
            "\n",
            "Shrink model to first 529 iterations.\n"
          ]
        },
        {
          "output_type": "stream",
          "name": "stderr",
          "text": [
            "\u001b[32m[I 2022-11-30 10:19:33,551]\u001b[0m Trial 2 finished with value: 0.6747371939040755 and parameters: {'learning_rate': 0.027010527749605478, 'bagging_temperature': 0.2920433847181412, 'n_estimators': 5105, 'max_depth': 14, 'random_strength': 20, 'colsample_bylevel': 0.708540663048167, 'l2_leaf_reg': 1.7776512920172654e-05, 'min_child_samples': 9, 'max_bin': 382, 'od_type': 'IncToDec'}. Best is trial 2 with value: 0.6747371939040755.\u001b[0m\n"
          ]
        },
        {
          "output_type": "stream",
          "name": "stdout",
          "text": [
            "0:\tlearn: 0.9992323\ttest: 0.9992323\ttest1: 1.0030961\tbest: 1.0030961 (0)\ttotal: 10.7ms\tremaining: 1m 28s\n"
          ]
        },
        {
          "output_type": "stream",
          "name": "stderr",
          "text": [
            "\u001b[32m[I 2022-11-30 10:19:34,161]\u001b[0m Trial 3 finished with value: 0.8931389702534419 and parameters: {'learning_rate': 0.2521267904777921, 'bagging_temperature': 72.86653737491046, 'n_estimators': 8276, 'max_depth': 7, 'random_strength': 9, 'colsample_bylevel': 0.8105398159072941, 'l2_leaf_reg': 1.3210173287250643e-05, 'min_child_samples': 16, 'max_bin': 349, 'od_type': 'Iter'}. Best is trial 2 with value: 0.6747371939040755.\u001b[0m\n"
          ]
        },
        {
          "output_type": "stream",
          "name": "stdout",
          "text": [
            "Stopped by overfitting detector  (35 iterations wait)\n",
            "\n",
            "bestTest = 0.8931389703\n",
            "bestIteration = 12\n",
            "\n",
            "Shrink model to first 13 iterations.\n",
            "0:\tlearn: 1.0877374\ttest: 1.0878935\ttest1: 1.0877731\tbest: 1.0877731 (0)\ttotal: 71ms\tremaining: 4m 30s\n",
            "100:\tlearn: 0.7667518\ttest: 0.6476960\ttest1: 0.7438608\tbest: 0.7438608 (100)\ttotal: 6.77s\tremaining: 4m 8s\n",
            "200:\tlearn: 0.7210036\ttest: 0.5603584\ttest1: 0.7050759\tbest: 0.7050759 (200)\ttotal: 14.2s\tremaining: 4m 14s\n",
            "300:\tlearn: 0.6926311\ttest: 0.5193043\ttest1: 0.6925235\tbest: 0.6925235 (300)\ttotal: 22.8s\tremaining: 4m 24s\n",
            "400:\tlearn: 0.6658337\ttest: 0.4982845\ttest1: 0.6873335\tbest: 0.6873225 (395)\ttotal: 30.8s\tremaining: 4m 21s\n",
            "500:\tlearn: 0.6087089\ttest: 0.4772132\ttest1: 0.6847708\tbest: 0.6846024 (477)\ttotal: 41.8s\tremaining: 4m 35s\n"
          ]
        },
        {
          "output_type": "stream",
          "name": "stderr",
          "text": [
            "\u001b[32m[I 2022-11-30 10:20:22,835]\u001b[0m Trial 4 finished with value: 0.6844135834612116 and parameters: {'learning_rate': 0.024112898115291985, 'bagging_temperature': 4.467752817973908, 'n_estimators': 3805, 'max_depth': 10, 'random_strength': 55, 'colsample_bylevel': 0.5109126733153162, 'l2_leaf_reg': 2.9087842986659113e-05, 'min_child_samples': 79, 'max_bin': 482, 'od_type': 'IncToDec'}. Best is trial 2 with value: 0.6747371939040755.\u001b[0m\n"
          ]
        },
        {
          "output_type": "stream",
          "name": "stdout",
          "text": [
            "Stopped by overfitting detector  (35 iterations wait)\n",
            "\n",
            "bestTest = 0.6844135835\n",
            "bestIteration = 525\n",
            "\n",
            "Shrink model to first 526 iterations.\n",
            "0:\tlearn: 1.0068801\ttest: 1.0068801\ttest1: 1.0095365\tbest: 1.0095365 (0)\ttotal: 16.2ms\tremaining: 44.6s\n",
            "100:\tlearn: 0.7148489\ttest: 0.4996758\ttest1: 0.6866187\tbest: 0.6755712 (76)\ttotal: 2.47s\tremaining: 1m 5s\n"
          ]
        },
        {
          "output_type": "stream",
          "name": "stderr",
          "text": [
            "\u001b[32m[I 2022-11-30 10:20:25,862]\u001b[0m Trial 5 finished with value: 0.6755711975928083 and parameters: {'learning_rate': 0.22999586428143728, 'bagging_temperature': 0.022592797420156956, 'n_estimators': 2764, 'max_depth': 4, 'random_strength': 32, 'colsample_bylevel': 0.6332063738136893, 'l2_leaf_reg': 8.147757462899138e-06, 'min_child_samples': 84, 'max_bin': 307, 'od_type': 'Iter'}. Best is trial 2 with value: 0.6747371939040755.\u001b[0m\n"
          ]
        },
        {
          "output_type": "stream",
          "name": "stdout",
          "text": [
            "Stopped by overfitting detector  (35 iterations wait)\n",
            "\n",
            "bestTest = 0.6755711976\n",
            "bestIteration = 76\n",
            "\n",
            "Shrink model to first 77 iterations.\n",
            "0:\tlearn: 1.0865877\ttest: 1.0865877\ttest1: 1.0892923\tbest: 1.0892923 (0)\ttotal: 2.72s\tremaining: 1h 15m 44s\n",
            "100:\tlearn: 0.5328258\ttest: 0.5866714\ttest1: 0.7921598\tbest: 0.7921598 (100)\ttotal: 4m 30s\tremaining: 1h 10m 9s\n",
            "200:\tlearn: 0.3504514\ttest: 0.4538978\ttest1: 0.7692114\tbest: 0.7687087 (178)\ttotal: 9m 10s\tremaining: 1h 7m 6s\n",
            "Stopped by overfitting detector  (35 iterations wait)\n",
            "\n",
            "bestTest = 0.7687086611\n",
            "bestIteration = 178\n",
            "\n",
            "Shrink model to first 179 iterations.\n"
          ]
        },
        {
          "output_type": "stream",
          "name": "stderr",
          "text": [
            "\u001b[32m[I 2022-11-30 10:30:13,200]\u001b[0m Trial 6 finished with value: 0.7687086611234646 and parameters: {'learning_rate': 0.016149614799999188, 'bagging_temperature': 16.172900811143155, 'n_estimators': 1671, 'max_depth': 16, 'random_strength': 77, 'colsample_bylevel': 0.5192294089205034, 'l2_leaf_reg': 1.7560829253683595e-07, 'min_child_samples': 83, 'max_bin': 412, 'od_type': 'Iter'}. Best is trial 2 with value: 0.6747371939040755.\u001b[0m\n"
          ]
        },
        {
          "output_type": "stream",
          "name": "stdout",
          "text": [
            "0:\tlearn: 1.0928729\ttest: 1.0928729\ttest1: 1.0929246\tbest: 1.0929246 (0)\ttotal: 15.3ms\tremaining: 31.2s\n",
            "100:\tlearn: 0.8710061\ttest: 0.8224832\ttest1: 0.8623075\tbest: 0.8623075 (100)\ttotal: 14.1s\tremaining: 4m 30s\n",
            "200:\tlearn: 0.8286465\ttest: 0.7384830\ttest1: 0.8119751\tbest: 0.8119751 (200)\ttotal: 28.4s\tremaining: 4m 20s\n",
            "300:\tlearn: 0.8018515\ttest: 0.6680194\ttest1: 0.7791920\tbest: 0.7791920 (300)\ttotal: 56.6s\tremaining: 5m 27s\n",
            "400:\tlearn: 0.7869539\ttest: 0.6319669\ttest1: 0.7611875\tbest: 0.7611875 (400)\ttotal: 1m 9s\tremaining: 4m 44s\n",
            "500:\tlearn: 0.7788715\ttest: 0.6079239\ttest1: 0.7522653\tbest: 0.7522653 (500)\ttotal: 1m 27s\tremaining: 4m 29s\n",
            "600:\tlearn: 0.7680890\ttest: 0.5813565\ttest1: 0.7416871\tbest: 0.7416871 (600)\ttotal: 1m 48s\tremaining: 4m 20s\n",
            "700:\tlearn: 0.7591783\ttest: 0.5638031\ttest1: 0.7337279\tbest: 0.7337279 (700)\ttotal: 2m 14s\tremaining: 4m 16s\n",
            "800:\tlearn: 0.7501072\ttest: 0.5469933\ttest1: 0.7247489\tbest: 0.7247489 (800)\ttotal: 2m 31s\tremaining: 3m 54s\n",
            "900:\tlearn: 0.7313032\ttest: 0.5256539\ttest1: 0.7065728\tbest: 0.7065728 (900)\ttotal: 3m 4s\tremaining: 3m 53s\n",
            "1000:\tlearn: 0.7116258\ttest: 0.5069480\ttest1: 0.6894798\tbest: 0.6894798 (1000)\ttotal: 3m 39s\tremaining: 3m 48s\n",
            "1100:\tlearn: 0.6450807\ttest: 0.4838112\ttest1: 0.6794477\tbest: 0.6794092 (1099)\ttotal: 5m 30s\tremaining: 4m 42s\n",
            "Stopped by overfitting detector  (35 iterations wait)\n",
            "\n",
            "bestTest = 0.6763703233\n",
            "bestIteration = 1160\n",
            "\n",
            "Shrink model to first 1161 iterations.\n"
          ]
        },
        {
          "output_type": "stream",
          "name": "stderr",
          "text": [
            "\u001b[32m[I 2022-11-30 10:38:13,533]\u001b[0m Trial 7 finished with value: 0.6763703233450424 and parameters: {'learning_rate': 0.012863908101989912, 'bagging_temperature': 0.27155819552829413, 'n_estimators': 2042, 'max_depth': 15, 'random_strength': 62, 'colsample_bylevel': 0.5985388149115896, 'l2_leaf_reg': 1.9161149250778487e-06, 'min_child_samples': 34, 'max_bin': 297, 'od_type': 'IncToDec'}. Best is trial 2 with value: 0.6747371939040755.\u001b[0m\n"
          ]
        },
        {
          "output_type": "stream",
          "name": "stdout",
          "text": [
            "0:\tlearn: 1.0159494\ttest: 1.0159524\ttest1: 1.0180829\tbest: 1.0180829 (0)\ttotal: 30.1ms\tremaining: 1m 2s\n",
            "100:\tlearn: 0.3346389\ttest: 0.4361284\ttest1: 0.7394030\tbest: 0.6993701 (72)\ttotal: 26.1s\tremaining: 8m 31s\n"
          ]
        },
        {
          "output_type": "stream",
          "name": "stderr",
          "text": [
            "\u001b[32m[I 2022-11-30 10:38:44,010]\u001b[0m Trial 8 finished with value: 0.6993700589281642 and parameters: {'learning_rate': 0.20441878352493792, 'bagging_temperature': 0.7742116473996251, 'n_estimators': 2076, 'max_depth': 13, 'random_strength': 76, 'colsample_bylevel': 0.7367663185416977, 'l2_leaf_reg': 2.3131305726837285e-05, 'min_child_samples': 52, 'max_bin': 357, 'od_type': 'IncToDec'}. Best is trial 2 with value: 0.6747371939040755.\u001b[0m\n"
          ]
        },
        {
          "output_type": "stream",
          "name": "stdout",
          "text": [
            "Stopped by overfitting detector  (35 iterations wait)\n",
            "\n",
            "bestTest = 0.6993700589\n",
            "bestIteration = 72\n",
            "\n",
            "Shrink model to first 73 iterations.\n",
            "0:\tlearn: 1.0921013\ttest: 1.0921450\ttest1: 1.0922042\tbest: 1.0922042 (0)\ttotal: 122ms\tremaining: 13m 40s\n",
            "100:\tlearn: 0.8688952\ttest: 0.8262831\ttest1: 0.8630202\tbest: 0.8630202 (100)\ttotal: 4.28s\tremaining: 4m 40s\n",
            "200:\tlearn: 0.8293842\ttest: 0.7404107\ttest1: 0.8140955\tbest: 0.8140955 (200)\ttotal: 8.48s\tremaining: 4m 35s\n",
            "300:\tlearn: 0.8061092\ttest: 0.6751043\ttest1: 0.7827051\tbest: 0.7827051 (300)\ttotal: 12.8s\tremaining: 4m 32s\n",
            "400:\tlearn: 0.7905250\ttest: 0.6260303\ttest1: 0.7620892\tbest: 0.7620890 (399)\ttotal: 18s\tremaining: 4m 44s\n",
            "500:\tlearn: 0.7799512\ttest: 0.5969967\ttest1: 0.7499649\tbest: 0.7499649 (500)\ttotal: 23.3s\tremaining: 4m 48s\n",
            "600:\tlearn: 0.7713141\ttest: 0.5797212\ttest1: 0.7413908\tbest: 0.7413908 (600)\ttotal: 28.5s\tremaining: 4m 51s\n",
            "700:\tlearn: 0.7588057\ttest: 0.5565381\ttest1: 0.7286432\tbest: 0.7286432 (700)\ttotal: 33.5s\tremaining: 4m 47s\n",
            "800:\tlearn: 0.7412652\ttest: 0.5326360\ttest1: 0.7113907\tbest: 0.7113907 (800)\ttotal: 39.2s\tremaining: 4m 50s\n",
            "900:\tlearn: 0.7226850\ttest: 0.5101589\ttest1: 0.6935549\tbest: 0.6935549 (900)\ttotal: 45.5s\tremaining: 4m 54s\n",
            "1000:\tlearn: 0.7091595\ttest: 0.4882547\ttest1: 0.6846031\tbest: 0.6846031 (1000)\ttotal: 54.3s\tremaining: 5m 10s\n",
            "1100:\tlearn: 0.6969691\ttest: 0.4774774\ttest1: 0.6819962\tbest: 0.6819801 (1098)\ttotal: 1m 5s\tremaining: 5m 36s\n",
            "1200:\tlearn: 0.6857883\ttest: 0.4721131\ttest1: 0.6810120\tbest: 0.6810120 (1200)\ttotal: 1m 16s\tremaining: 5m 51s\n",
            "1300:\tlearn: 0.6735423\ttest: 0.4680764\ttest1: 0.6806139\tbest: 0.6805422 (1295)\ttotal: 1m 26s\tremaining: 6m 1s\n",
            "Stopped by overfitting detector  (35 iterations wait)\n",
            "\n",
            "bestTest = 0.6803320351\n",
            "bestIteration = 1335\n",
            "\n",
            "Shrink model to first 1336 iterations.\n"
          ]
        },
        {
          "output_type": "stream",
          "name": "stderr",
          "text": [
            "\u001b[32m[I 2022-11-30 10:40:18,501]\u001b[0m Trial 9 finished with value: 0.6803320350932119 and parameters: {'learning_rate': 0.01443340240633889, 'bagging_temperature': 0.0133572404119741, 'n_estimators': 6728, 'max_depth': 8, 'random_strength': 51, 'colsample_bylevel': 0.9445398843556558, 'l2_leaf_reg': 7.486273952174759e-06, 'min_child_samples': 44, 'max_bin': 427, 'od_type': 'IncToDec'}. Best is trial 2 with value: 0.6747371939040755.\u001b[0m\n"
          ]
        },
        {
          "output_type": "stream",
          "name": "stdout",
          "text": [
            "Best Score: 0.6747371939040755\n",
            "Best trial {'learning_rate': 0.027010527749605478, 'bagging_temperature': 0.2920433847181412, 'n_estimators': 5105, 'max_depth': 14, 'random_strength': 20, 'colsample_bylevel': 0.708540663048167, 'l2_leaf_reg': 1.7776512920172654e-05, 'min_child_samples': 9, 'max_bin': 382, 'od_type': 'IncToDec'}\n"
          ]
        }
      ]
    },
    {
      "cell_type": "code",
      "metadata": {
        "id": "XiirClPbRJSV"
      },
      "source": [
        "skf = StratifiedKFold(n_splits=5, shuffle=True, random_state=42)\n",
        "folds = []\n",
        "for train_idx, valid_idx in skf.split(train, train['credit']):\n",
        "  folds.append((train_idx,valid_idx))"
      ],
      "execution_count": 26,
      "outputs": []
    },
    {
      "cell_type": "code",
      "metadata": {
        "colab": {
          "base_uri": "https://localhost:8080/"
        },
        "id": "35QkbKwnRU0W",
        "outputId": "96132bf5-2d90-4529-eae4-be69a9dcd9f3"
      },
      "source": [
        "random.seed(42)\n",
        "cat_models={}\n",
        "\n",
        "cat_features =[0,1,2,5,6,7,8,15,18]\n",
        "\n",
        "for fold in range(5):\n",
        "  print(f'===================================={fold+1}============================================')\n",
        "  train_idx, valid_idx = folds[fold]\n",
        "  X_train = train.drop(['credit'],axis=1).iloc[train_idx].values \n",
        "  X_valid = train.drop(['credit'],axis=1).iloc[valid_idx].values\n",
        "  y_train = train['credit'][train_idx].values\n",
        "  y_valid = train['credit'][valid_idx].values\n",
        "\n",
        "  cat = CatBoostClassifier(**study.best_params)\n",
        "  cat.fit(X_train, y_train,\n",
        "          eval_set=[(X_train, y_train), (X_valid,y_valid)],\n",
        "          early_stopping_rounds=35,cat_features=cat_features,\n",
        "          verbose=100)\n",
        "  cat_models[fold] = cat\n",
        "  print(f'================================================================================\\n\\n')"
      ],
      "execution_count": 27,
      "outputs": [
        {
          "output_type": "stream",
          "name": "stdout",
          "text": [
            "====================================1============================================\n",
            "0:\tlearn: 1.0867045\ttest: 1.0867045\ttest1: 1.0867133\tbest: 1.0867133 (0)\ttotal: 9.63ms\tremaining: 49.1s\n",
            "100:\tlearn: 0.8209018\ttest: 0.7588055\ttest1: 0.8078730\tbest: 0.8078730 (100)\ttotal: 13.5s\tremaining: 11m 10s\n",
            "200:\tlearn: 0.7655642\ttest: 0.6160920\ttest1: 0.7356912\tbest: 0.7356912 (200)\ttotal: 30.4s\tremaining: 12m 21s\n",
            "300:\tlearn: 0.7428103\ttest: 0.5657018\ttest1: 0.7094751\tbest: 0.7094751 (300)\ttotal: 47.8s\tremaining: 12m 42s\n",
            "400:\tlearn: 0.7220111\ttest: 0.5323016\ttest1: 0.6913722\tbest: 0.6913722 (399)\ttotal: 1m 7s\tremaining: 13m 7s\n",
            "500:\tlearn: 0.6233379\ttest: 0.4886209\ttest1: 0.6713989\tbest: 0.6713989 (500)\ttotal: 2m 5s\tremaining: 19m 10s\n",
            "Stopped by overfitting detector  (35 iterations wait)\n",
            "\n",
            "bestTest = 0.6673257765\n",
            "bestIteration = 556\n",
            "\n",
            "Shrink model to first 557 iterations.\n",
            "================================================================================\n",
            "\n",
            "\n",
            "====================================2============================================\n",
            "0:\tlearn: 1.0867045\ttest: 1.0867045\ttest1: 1.0867133\tbest: 1.0867133 (0)\ttotal: 11.5ms\tremaining: 58.7s\n",
            "100:\tlearn: 0.8109825\ttest: 0.7379882\ttest1: 0.7993746\tbest: 0.7993746 (100)\ttotal: 15.4s\tremaining: 12m 41s\n",
            "200:\tlearn: 0.7489112\ttest: 0.5914724\ttest1: 0.7266186\tbest: 0.7266186 (200)\ttotal: 40.4s\tremaining: 16m 26s\n",
            "300:\tlearn: 0.7297107\ttest: 0.5412836\ttest1: 0.7072524\tbest: 0.7072524 (300)\ttotal: 1m 1s\tremaining: 16m 18s\n",
            "400:\tlearn: 0.7113047\ttest: 0.5127657\ttest1: 0.6953106\tbest: 0.6953106 (400)\ttotal: 1m 25s\tremaining: 16m 40s\n",
            "500:\tlearn: 0.6256561\ttest: 0.4766386\ttest1: 0.6826187\tbest: 0.6826187 (500)\ttotal: 2m 27s\tremaining: 22m 38s\n",
            "Stopped by overfitting detector  (35 iterations wait)\n",
            "\n",
            "bestTest = 0.6815642038\n",
            "bestIteration = 526\n",
            "\n",
            "Shrink model to first 527 iterations.\n",
            "================================================================================\n",
            "\n",
            "\n",
            "====================================3============================================\n",
            "0:\tlearn: 1.0866929\ttest: 1.0866929\ttest1: 1.0866881\tbest: 1.0866881 (0)\ttotal: 32.6ms\tremaining: 2m 46s\n",
            "100:\tlearn: 0.8102877\ttest: 0.7195153\ttest1: 0.7948809\tbest: 0.7948809 (100)\ttotal: 9.29s\tremaining: 7m 40s\n",
            "200:\tlearn: 0.7518462\ttest: 0.5858509\ttest1: 0.7286466\tbest: 0.7286466 (200)\ttotal: 26.2s\tremaining: 10m 38s\n",
            "300:\tlearn: 0.7323724\ttest: 0.5393278\ttest1: 0.7120490\tbest: 0.7120490 (300)\ttotal: 49.4s\tremaining: 13m 8s\n",
            "400:\tlearn: 0.7120404\ttest: 0.5063116\ttest1: 0.6971984\tbest: 0.6971984 (400)\ttotal: 1m 16s\tremaining: 14m 52s\n",
            "500:\tlearn: 0.6110776\ttest: 0.4726064\ttest1: 0.6850727\tbest: 0.6849199 (492)\ttotal: 2m 10s\tremaining: 20m 1s\n",
            "Stopped by overfitting detector  (35 iterations wait)\n",
            "\n",
            "bestTest = 0.6842829178\n",
            "bestIteration = 530\n",
            "\n",
            "Shrink model to first 531 iterations.\n",
            "================================================================================\n",
            "\n",
            "\n",
            "====================================4============================================\n",
            "0:\tlearn: 1.0866879\ttest: 1.0866879\ttest1: 1.0867073\tbest: 1.0867073 (0)\ttotal: 33.3ms\tremaining: 2m 50s\n",
            "100:\tlearn: 0.8013827\ttest: 0.7172330\ttest1: 0.7845352\tbest: 0.7845352 (100)\ttotal: 15.8s\tremaining: 13m 4s\n",
            "200:\tlearn: 0.7576936\ttest: 0.6010820\ttest1: 0.7280505\tbest: 0.7280505 (200)\ttotal: 31.1s\tremaining: 12m 39s\n",
            "300:\tlearn: 0.7341643\ttest: 0.5390048\ttest1: 0.7046356\tbest: 0.7046356 (300)\ttotal: 57.6s\tremaining: 15m 20s\n",
            "400:\tlearn: 0.7138098\ttest: 0.5134620\ttest1: 0.6910046\tbest: 0.6910046 (400)\ttotal: 1m 26s\tremaining: 16m 52s\n",
            "500:\tlearn: 0.6095451\ttest: 0.4789177\ttest1: 0.6750428\tbest: 0.6750428 (500)\ttotal: 2m 27s\tremaining: 22m 35s\n",
            "Stopped by overfitting detector  (35 iterations wait)\n",
            "\n",
            "bestTest = 0.6731979452\n",
            "bestIteration = 533\n",
            "\n",
            "Shrink model to first 534 iterations.\n",
            "================================================================================\n",
            "\n",
            "\n",
            "====================================5============================================\n",
            "0:\tlearn: 1.0866991\ttest: 1.0866991\ttest1: 1.0866832\tbest: 1.0866832 (0)\ttotal: 30.7ms\tremaining: 2m 36s\n",
            "100:\tlearn: 0.8066845\ttest: 0.7283206\ttest1: 0.7932862\tbest: 0.7932862 (100)\ttotal: 16.7s\tremaining: 13m 46s\n",
            "200:\tlearn: 0.7530456\ttest: 0.5902640\ttest1: 0.7291213\tbest: 0.7291213 (200)\ttotal: 40.7s\tremaining: 16m 33s\n",
            "300:\tlearn: 0.7317991\ttest: 0.5358673\ttest1: 0.7086761\tbest: 0.7086761 (300)\ttotal: 1m\tremaining: 16m 7s\n",
            "400:\tlearn: 0.7136420\ttest: 0.5117275\ttest1: 0.6956843\tbest: 0.6956843 (398)\ttotal: 1m 18s\tremaining: 15m 24s\n",
            "500:\tlearn: 0.6231570\ttest: 0.4769941\ttest1: 0.6808907\tbest: 0.6807333 (499)\ttotal: 2m 19s\tremaining: 21m 22s\n",
            "Stopped by overfitting detector  (35 iterations wait)\n",
            "\n",
            "bestTest = 0.6794106422\n",
            "bestIteration = 531\n",
            "\n",
            "Shrink model to first 532 iterations.\n",
            "================================================================================\n",
            "\n",
            "\n"
          ]
        }
      ]
    },
    {
      "cell_type": "markdown",
      "metadata": {
        "id": "suc5P-tKQ5hD"
      },
      "source": [
        "#Test inference\n",
        "  * 각 fold를 훈련시킨 catboost model로 predict\n",
        "  * 해당 대회는 logloss score를 겨루는 것이기 때문에 각  class의 probability를 얻어야함\n",
        "  * 대부분의 머신러닝 모델에서 predict, predict_proba를 구분하여 사용함\n",
        "  * predict는 class 출력을 해주고 predict_probal는 class별 probability를 출력해줌\n",
        "  * predict_proba를 사용하여 예측한 것을 5-fold 더하여 평균내어 앙상블함"
      ]
    },
    {
      "cell_type": "code",
      "metadata": {
        "id": "vy0QI5WoSuy_"
      },
      "source": [
        "submit.iloc[:,1:]=0\n",
        "for fold in range(5):\n",
        "  submit.iloc[:,1:] += cat_models[fold].predict_proba(test)/5"
      ],
      "execution_count": 28,
      "outputs": []
    },
    {
      "cell_type": "code",
      "metadata": {
        "id": "B3QpKGOeS73r"
      },
      "source": [
        "import datetime\n",
        "now = datetime.datetime.now()\n",
        "created_time = now.strftime('%m%d-%H%M')\n",
        "\n",
        "submit.to_csv(f'/content/drive/MyDrive/ml_project/{created_time}_submit.csv',index=False)"
      ],
      "execution_count": 31,
      "outputs": []
    },
    {
      "cell_type": "code",
      "metadata": {
        "id": "lXWLYfphTRBG",
        "colab": {
          "base_uri": "https://localhost:8080/",
          "height": 676
        },
        "outputId": "8126f789-29ea-4db3-d232-99be223cc940"
      },
      "source": [
        "submit.head(20)"
      ],
      "execution_count": 32,
      "outputs": [
        {
          "output_type": "execute_result",
          "data": {
            "text/plain": [
              "    index         0         1         2\n",
              "0   26457  0.113632  0.153429  0.732939\n",
              "1   26458  0.260412  0.257944  0.481644\n",
              "2   26459  0.034347  0.086973  0.878680\n",
              "3   26460  0.060618  0.084505  0.854877\n",
              "4   26461  0.092354  0.208302  0.699344\n",
              "5   26462  0.046762  0.149603  0.803635\n",
              "6   26463  0.592821  0.383685  0.023494\n",
              "7   26464  0.058617  0.108954  0.832429\n",
              "8   26465  0.056959  0.105090  0.837951\n",
              "9   26466  0.059942  0.306479  0.633580\n",
              "10  26467  0.131332  0.102650  0.766018\n",
              "11  26468  0.035367  0.084454  0.880179\n",
              "12  26469  0.544972  0.090731  0.364297\n",
              "13  26470  0.096575  0.368511  0.534913\n",
              "14  26471  0.094203  0.134855  0.770942\n",
              "15  26472  0.068075  0.305456  0.626469\n",
              "16  26473  0.038650  0.074132  0.887218\n",
              "17  26474  0.363134  0.604221  0.032646\n",
              "18  26475  0.310722  0.232172  0.457106\n",
              "19  26476  0.046398  0.087533  0.866069"
            ],
            "text/html": [
              "\n",
              "  <div id=\"df-3ec218d4-74ba-4562-89bd-cbc4eb98ea87\">\n",
              "    <div class=\"colab-df-container\">\n",
              "      <div>\n",
              "<style scoped>\n",
              "    .dataframe tbody tr th:only-of-type {\n",
              "        vertical-align: middle;\n",
              "    }\n",
              "\n",
              "    .dataframe tbody tr th {\n",
              "        vertical-align: top;\n",
              "    }\n",
              "\n",
              "    .dataframe thead th {\n",
              "        text-align: right;\n",
              "    }\n",
              "</style>\n",
              "<table border=\"1\" class=\"dataframe\">\n",
              "  <thead>\n",
              "    <tr style=\"text-align: right;\">\n",
              "      <th></th>\n",
              "      <th>index</th>\n",
              "      <th>0</th>\n",
              "      <th>1</th>\n",
              "      <th>2</th>\n",
              "    </tr>\n",
              "  </thead>\n",
              "  <tbody>\n",
              "    <tr>\n",
              "      <th>0</th>\n",
              "      <td>26457</td>\n",
              "      <td>0.113632</td>\n",
              "      <td>0.153429</td>\n",
              "      <td>0.732939</td>\n",
              "    </tr>\n",
              "    <tr>\n",
              "      <th>1</th>\n",
              "      <td>26458</td>\n",
              "      <td>0.260412</td>\n",
              "      <td>0.257944</td>\n",
              "      <td>0.481644</td>\n",
              "    </tr>\n",
              "    <tr>\n",
              "      <th>2</th>\n",
              "      <td>26459</td>\n",
              "      <td>0.034347</td>\n",
              "      <td>0.086973</td>\n",
              "      <td>0.878680</td>\n",
              "    </tr>\n",
              "    <tr>\n",
              "      <th>3</th>\n",
              "      <td>26460</td>\n",
              "      <td>0.060618</td>\n",
              "      <td>0.084505</td>\n",
              "      <td>0.854877</td>\n",
              "    </tr>\n",
              "    <tr>\n",
              "      <th>4</th>\n",
              "      <td>26461</td>\n",
              "      <td>0.092354</td>\n",
              "      <td>0.208302</td>\n",
              "      <td>0.699344</td>\n",
              "    </tr>\n",
              "    <tr>\n",
              "      <th>5</th>\n",
              "      <td>26462</td>\n",
              "      <td>0.046762</td>\n",
              "      <td>0.149603</td>\n",
              "      <td>0.803635</td>\n",
              "    </tr>\n",
              "    <tr>\n",
              "      <th>6</th>\n",
              "      <td>26463</td>\n",
              "      <td>0.592821</td>\n",
              "      <td>0.383685</td>\n",
              "      <td>0.023494</td>\n",
              "    </tr>\n",
              "    <tr>\n",
              "      <th>7</th>\n",
              "      <td>26464</td>\n",
              "      <td>0.058617</td>\n",
              "      <td>0.108954</td>\n",
              "      <td>0.832429</td>\n",
              "    </tr>\n",
              "    <tr>\n",
              "      <th>8</th>\n",
              "      <td>26465</td>\n",
              "      <td>0.056959</td>\n",
              "      <td>0.105090</td>\n",
              "      <td>0.837951</td>\n",
              "    </tr>\n",
              "    <tr>\n",
              "      <th>9</th>\n",
              "      <td>26466</td>\n",
              "      <td>0.059942</td>\n",
              "      <td>0.306479</td>\n",
              "      <td>0.633580</td>\n",
              "    </tr>\n",
              "    <tr>\n",
              "      <th>10</th>\n",
              "      <td>26467</td>\n",
              "      <td>0.131332</td>\n",
              "      <td>0.102650</td>\n",
              "      <td>0.766018</td>\n",
              "    </tr>\n",
              "    <tr>\n",
              "      <th>11</th>\n",
              "      <td>26468</td>\n",
              "      <td>0.035367</td>\n",
              "      <td>0.084454</td>\n",
              "      <td>0.880179</td>\n",
              "    </tr>\n",
              "    <tr>\n",
              "      <th>12</th>\n",
              "      <td>26469</td>\n",
              "      <td>0.544972</td>\n",
              "      <td>0.090731</td>\n",
              "      <td>0.364297</td>\n",
              "    </tr>\n",
              "    <tr>\n",
              "      <th>13</th>\n",
              "      <td>26470</td>\n",
              "      <td>0.096575</td>\n",
              "      <td>0.368511</td>\n",
              "      <td>0.534913</td>\n",
              "    </tr>\n",
              "    <tr>\n",
              "      <th>14</th>\n",
              "      <td>26471</td>\n",
              "      <td>0.094203</td>\n",
              "      <td>0.134855</td>\n",
              "      <td>0.770942</td>\n",
              "    </tr>\n",
              "    <tr>\n",
              "      <th>15</th>\n",
              "      <td>26472</td>\n",
              "      <td>0.068075</td>\n",
              "      <td>0.305456</td>\n",
              "      <td>0.626469</td>\n",
              "    </tr>\n",
              "    <tr>\n",
              "      <th>16</th>\n",
              "      <td>26473</td>\n",
              "      <td>0.038650</td>\n",
              "      <td>0.074132</td>\n",
              "      <td>0.887218</td>\n",
              "    </tr>\n",
              "    <tr>\n",
              "      <th>17</th>\n",
              "      <td>26474</td>\n",
              "      <td>0.363134</td>\n",
              "      <td>0.604221</td>\n",
              "      <td>0.032646</td>\n",
              "    </tr>\n",
              "    <tr>\n",
              "      <th>18</th>\n",
              "      <td>26475</td>\n",
              "      <td>0.310722</td>\n",
              "      <td>0.232172</td>\n",
              "      <td>0.457106</td>\n",
              "    </tr>\n",
              "    <tr>\n",
              "      <th>19</th>\n",
              "      <td>26476</td>\n",
              "      <td>0.046398</td>\n",
              "      <td>0.087533</td>\n",
              "      <td>0.866069</td>\n",
              "    </tr>\n",
              "  </tbody>\n",
              "</table>\n",
              "</div>\n",
              "      <button class=\"colab-df-convert\" onclick=\"convertToInteractive('df-3ec218d4-74ba-4562-89bd-cbc4eb98ea87')\"\n",
              "              title=\"Convert this dataframe to an interactive table.\"\n",
              "              style=\"display:none;\">\n",
              "        \n",
              "  <svg xmlns=\"http://www.w3.org/2000/svg\" height=\"24px\"viewBox=\"0 0 24 24\"\n",
              "       width=\"24px\">\n",
              "    <path d=\"M0 0h24v24H0V0z\" fill=\"none\"/>\n",
              "    <path d=\"M18.56 5.44l.94 2.06.94-2.06 2.06-.94-2.06-.94-.94-2.06-.94 2.06-2.06.94zm-11 1L8.5 8.5l.94-2.06 2.06-.94-2.06-.94L8.5 2.5l-.94 2.06-2.06.94zm10 10l.94 2.06.94-2.06 2.06-.94-2.06-.94-.94-2.06-.94 2.06-2.06.94z\"/><path d=\"M17.41 7.96l-1.37-1.37c-.4-.4-.92-.59-1.43-.59-.52 0-1.04.2-1.43.59L10.3 9.45l-7.72 7.72c-.78.78-.78 2.05 0 2.83L4 21.41c.39.39.9.59 1.41.59.51 0 1.02-.2 1.41-.59l7.78-7.78 2.81-2.81c.8-.78.8-2.07 0-2.86zM5.41 20L4 18.59l7.72-7.72 1.47 1.35L5.41 20z\"/>\n",
              "  </svg>\n",
              "      </button>\n",
              "      \n",
              "  <style>\n",
              "    .colab-df-container {\n",
              "      display:flex;\n",
              "      flex-wrap:wrap;\n",
              "      gap: 12px;\n",
              "    }\n",
              "\n",
              "    .colab-df-convert {\n",
              "      background-color: #E8F0FE;\n",
              "      border: none;\n",
              "      border-radius: 50%;\n",
              "      cursor: pointer;\n",
              "      display: none;\n",
              "      fill: #1967D2;\n",
              "      height: 32px;\n",
              "      padding: 0 0 0 0;\n",
              "      width: 32px;\n",
              "    }\n",
              "\n",
              "    .colab-df-convert:hover {\n",
              "      background-color: #E2EBFA;\n",
              "      box-shadow: 0px 1px 2px rgba(60, 64, 67, 0.3), 0px 1px 3px 1px rgba(60, 64, 67, 0.15);\n",
              "      fill: #174EA6;\n",
              "    }\n",
              "\n",
              "    [theme=dark] .colab-df-convert {\n",
              "      background-color: #3B4455;\n",
              "      fill: #D2E3FC;\n",
              "    }\n",
              "\n",
              "    [theme=dark] .colab-df-convert:hover {\n",
              "      background-color: #434B5C;\n",
              "      box-shadow: 0px 1px 3px 1px rgba(0, 0, 0, 0.15);\n",
              "      filter: drop-shadow(0px 1px 2px rgba(0, 0, 0, 0.3));\n",
              "      fill: #FFFFFF;\n",
              "    }\n",
              "  </style>\n",
              "\n",
              "      <script>\n",
              "        const buttonEl =\n",
              "          document.querySelector('#df-3ec218d4-74ba-4562-89bd-cbc4eb98ea87 button.colab-df-convert');\n",
              "        buttonEl.style.display =\n",
              "          google.colab.kernel.accessAllowed ? 'block' : 'none';\n",
              "\n",
              "        async function convertToInteractive(key) {\n",
              "          const element = document.querySelector('#df-3ec218d4-74ba-4562-89bd-cbc4eb98ea87');\n",
              "          const dataTable =\n",
              "            await google.colab.kernel.invokeFunction('convertToInteractive',\n",
              "                                                     [key], {});\n",
              "          if (!dataTable) return;\n",
              "\n",
              "          const docLinkHtml = 'Like what you see? Visit the ' +\n",
              "            '<a target=\"_blank\" href=https://colab.research.google.com/notebooks/data_table.ipynb>data table notebook</a>'\n",
              "            + ' to learn more about interactive tables.';\n",
              "          element.innerHTML = '';\n",
              "          dataTable['output_type'] = 'display_data';\n",
              "          await google.colab.output.renderOutput(dataTable, element);\n",
              "          const docLink = document.createElement('div');\n",
              "          docLink.innerHTML = docLinkHtml;\n",
              "          element.appendChild(docLink);\n",
              "        }\n",
              "      </script>\n",
              "    </div>\n",
              "  </div>\n",
              "  "
            ]
          },
          "metadata": {},
          "execution_count": 32
        }
      ]
    },
    {
      "cell_type": "code",
      "source": [],
      "metadata": {
        "id": "_kdsyNQlMMMr"
      },
      "execution_count": null,
      "outputs": []
    }
  ]
}