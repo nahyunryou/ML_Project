{
  "cells": [
    {
      "cell_type": "markdown",
      "metadata": {
        "id": "view-in-github",
        "colab_type": "text"
      },
      "source": [
        "<a href=\"https://colab.research.google.com/github/nahyunryou/ML_Project/blob/main/Catboost2.ipynb\" target=\"_parent\"><img src=\"https://colab.research.google.com/assets/colab-badge.svg\" alt=\"Open In Colab\"/></a>"
      ]
    },
    {
      "cell_type": "code",
      "execution_count": 1,
      "metadata": {
        "colab": {
          "base_uri": "https://localhost:8080/"
        },
        "id": "wB-mNLPze-it",
        "outputId": "a5f58b39-8420-4bff-d9e5-4b50d16dfbcf"
      },
      "outputs": [
        {
          "output_type": "stream",
          "name": "stdout",
          "text": [
            "Looking in indexes: https://pypi.org/simple, https://us-python.pkg.dev/colab-wheels/public/simple/\n",
            "Collecting catboost\n",
            "  Downloading catboost-1.1.1-cp38-none-manylinux1_x86_64.whl (76.6 MB)\n",
            "\u001b[K     |████████████████████████████████| 76.6 MB 27 kB/s \n",
            "\u001b[?25hRequirement already satisfied: numpy>=1.16.0 in /usr/local/lib/python3.8/dist-packages (from catboost) (1.21.6)\n",
            "Requirement already satisfied: plotly in /usr/local/lib/python3.8/dist-packages (from catboost) (5.5.0)\n",
            "Requirement already satisfied: six in /usr/local/lib/python3.8/dist-packages (from catboost) (1.15.0)\n",
            "Requirement already satisfied: graphviz in /usr/local/lib/python3.8/dist-packages (from catboost) (0.10.1)\n",
            "Requirement already satisfied: matplotlib in /usr/local/lib/python3.8/dist-packages (from catboost) (3.2.2)\n",
            "Requirement already satisfied: pandas>=0.24.0 in /usr/local/lib/python3.8/dist-packages (from catboost) (1.3.5)\n",
            "Requirement already satisfied: scipy in /usr/local/lib/python3.8/dist-packages (from catboost) (1.7.3)\n",
            "Requirement already satisfied: pytz>=2017.3 in /usr/local/lib/python3.8/dist-packages (from pandas>=0.24.0->catboost) (2022.6)\n",
            "Requirement already satisfied: python-dateutil>=2.7.3 in /usr/local/lib/python3.8/dist-packages (from pandas>=0.24.0->catboost) (2.8.2)\n",
            "Requirement already satisfied: kiwisolver>=1.0.1 in /usr/local/lib/python3.8/dist-packages (from matplotlib->catboost) (1.4.4)\n",
            "Requirement already satisfied: pyparsing!=2.0.4,!=2.1.2,!=2.1.6,>=2.0.1 in /usr/local/lib/python3.8/dist-packages (from matplotlib->catboost) (3.0.9)\n",
            "Requirement already satisfied: cycler>=0.10 in /usr/local/lib/python3.8/dist-packages (from matplotlib->catboost) (0.11.0)\n",
            "Requirement already satisfied: tenacity>=6.2.0 in /usr/local/lib/python3.8/dist-packages (from plotly->catboost) (8.1.0)\n",
            "Installing collected packages: catboost\n",
            "Successfully installed catboost-1.1.1\n"
          ]
        }
      ],
      "source": [
        "!pip3 install catboost"
      ]
    },
    {
      "cell_type": "code",
      "execution_count": 2,
      "metadata": {
        "colab": {
          "base_uri": "https://localhost:8080/"
        },
        "id": "EYeX1QwvfK4V",
        "outputId": "30e1bc91-0786-4ded-c4f9-414a43808d12"
      },
      "outputs": [
        {
          "output_type": "stream",
          "name": "stdout",
          "text": [
            "Looking in indexes: https://pypi.org/simple, https://us-python.pkg.dev/colab-wheels/public/simple/\n",
            "Collecting optuna\n",
            "  Downloading optuna-3.0.4-py3-none-any.whl (348 kB)\n",
            "\u001b[K     |████████████████████████████████| 348 kB 4.1 MB/s \n",
            "\u001b[?25hRequirement already satisfied: scipy<1.9.0,>=1.7.0 in /usr/local/lib/python3.8/dist-packages (from optuna) (1.7.3)\n",
            "Requirement already satisfied: importlib-metadata<5.0.0 in /usr/local/lib/python3.8/dist-packages (from optuna) (4.13.0)\n",
            "Collecting cmaes>=0.8.2\n",
            "  Downloading cmaes-0.9.0-py3-none-any.whl (23 kB)\n",
            "Requirement already satisfied: sqlalchemy>=1.3.0 in /usr/local/lib/python3.8/dist-packages (from optuna) (1.4.44)\n",
            "Requirement already satisfied: tqdm in /usr/local/lib/python3.8/dist-packages (from optuna) (4.64.1)\n",
            "Collecting cliff\n",
            "  Downloading cliff-4.1.0-py3-none-any.whl (81 kB)\n",
            "\u001b[K     |████████████████████████████████| 81 kB 10.1 MB/s \n",
            "\u001b[?25hRequirement already satisfied: numpy in /usr/local/lib/python3.8/dist-packages (from optuna) (1.21.6)\n",
            "Requirement already satisfied: PyYAML in /usr/local/lib/python3.8/dist-packages (from optuna) (6.0)\n",
            "Collecting colorlog\n",
            "  Downloading colorlog-6.7.0-py2.py3-none-any.whl (11 kB)\n",
            "Requirement already satisfied: packaging>=20.0 in /usr/local/lib/python3.8/dist-packages (from optuna) (21.3)\n",
            "Collecting alembic>=1.5.0\n",
            "  Downloading alembic-1.8.1-py3-none-any.whl (209 kB)\n",
            "\u001b[K     |████████████████████████████████| 209 kB 61.3 MB/s \n",
            "\u001b[?25hCollecting Mako\n",
            "  Downloading Mako-1.2.4-py3-none-any.whl (78 kB)\n",
            "\u001b[K     |████████████████████████████████| 78 kB 8.2 MB/s \n",
            "\u001b[?25hRequirement already satisfied: importlib-resources in /usr/local/lib/python3.8/dist-packages (from alembic>=1.5.0->optuna) (5.10.0)\n",
            "Requirement already satisfied: zipp>=0.5 in /usr/local/lib/python3.8/dist-packages (from importlib-metadata<5.0.0->optuna) (3.10.0)\n",
            "Requirement already satisfied: pyparsing!=3.0.5,>=2.0.2 in /usr/local/lib/python3.8/dist-packages (from packaging>=20.0->optuna) (3.0.9)\n",
            "Requirement already satisfied: greenlet!=0.4.17 in /usr/local/lib/python3.8/dist-packages (from sqlalchemy>=1.3.0->optuna) (2.0.1)\n",
            "Collecting stevedore>=2.0.1\n",
            "  Downloading stevedore-4.1.1-py3-none-any.whl (50 kB)\n",
            "\u001b[K     |████████████████████████████████| 50 kB 3.7 MB/s \n",
            "\u001b[?25hRequirement already satisfied: PrettyTable>=0.7.2 in /usr/local/lib/python3.8/dist-packages (from cliff->optuna) (3.5.0)\n",
            "Collecting cmd2>=1.0.0\n",
            "  Downloading cmd2-2.4.2-py3-none-any.whl (147 kB)\n",
            "\u001b[K     |████████████████████████████████| 147 kB 56.0 MB/s \n",
            "\u001b[?25hCollecting autopage>=0.4.0\n",
            "  Downloading autopage-0.5.1-py3-none-any.whl (29 kB)\n",
            "Requirement already satisfied: wcwidth>=0.1.7 in /usr/local/lib/python3.8/dist-packages (from cmd2>=1.0.0->cliff->optuna) (0.2.5)\n",
            "Collecting pyperclip>=1.6\n",
            "  Downloading pyperclip-1.8.2.tar.gz (20 kB)\n",
            "Requirement already satisfied: attrs>=16.3.0 in /usr/local/lib/python3.8/dist-packages (from cmd2>=1.0.0->cliff->optuna) (22.1.0)\n",
            "Collecting pbr!=2.1.0,>=2.0.0\n",
            "  Downloading pbr-5.11.0-py2.py3-none-any.whl (112 kB)\n",
            "\u001b[K     |████████████████████████████████| 112 kB 61.7 MB/s \n",
            "\u001b[?25hRequirement already satisfied: MarkupSafe>=0.9.2 in /usr/local/lib/python3.8/dist-packages (from Mako->alembic>=1.5.0->optuna) (2.0.1)\n",
            "Building wheels for collected packages: pyperclip\n",
            "  Building wheel for pyperclip (setup.py) ... \u001b[?25l\u001b[?25hdone\n",
            "  Created wheel for pyperclip: filename=pyperclip-1.8.2-py3-none-any.whl size=11136 sha256=3f8e28e5d82684144b7da019130d9133e48dbb6157358795d8b5d313add42d81\n",
            "  Stored in directory: /root/.cache/pip/wheels/7f/1a/65/84ff8c386bec21fca6d220ea1f5498a0367883a78dd5ba6122\n",
            "Successfully built pyperclip\n",
            "Installing collected packages: pyperclip, pbr, stevedore, Mako, cmd2, autopage, colorlog, cmaes, cliff, alembic, optuna\n",
            "Successfully installed Mako-1.2.4 alembic-1.8.1 autopage-0.5.1 cliff-4.1.0 cmaes-0.9.0 cmd2-2.4.2 colorlog-6.7.0 optuna-3.0.4 pbr-5.11.0 pyperclip-1.8.2 stevedore-4.1.1\n"
          ]
        }
      ],
      "source": [
        "!pip install optuna"
      ]
    },
    {
      "cell_type": "code",
      "execution_count": 3,
      "metadata": {
        "id": "CQBWHsKcPWVc"
      },
      "outputs": [],
      "source": [
        "import warnings\n",
        "warnings.filterwarnings('ignore')\n",
        "\n",
        "import glob\n",
        "import pandas as pd\n",
        "import numpy as np\n",
        "\n",
        "from catboost import CatBoostClassifier\n",
        "from sklearn.model_selection import StratifiedKFold,train_test_split\n",
        "from sklearn.metrics import log_loss\n",
        "from sklearn.preprocessing import OneHotEncoder\n",
        "import random\n",
        "\n",
        "import optuna\n",
        "from optuna.samplers import TPESampler"
      ]
    },
    {
      "cell_type": "code",
      "execution_count": 4,
      "metadata": {
        "colab": {
          "base_uri": "https://localhost:8080/"
        },
        "id": "Z0YnN38gCIaD",
        "outputId": "ba364231-4147-4e13-b69c-f8abdeb752c4"
      },
      "outputs": [
        {
          "output_type": "stream",
          "name": "stdout",
          "text": [
            "Mounted at /content/drive\n"
          ]
        }
      ],
      "source": [
        "from google.colab import drive\n",
        "drive.mount('/content/drive')"
      ]
    },
    {
      "cell_type": "code",
      "execution_count": 17,
      "metadata": {
        "id": "-tAWdE1eQAQ7"
      },
      "outputs": [],
      "source": [
        "train = pd.read_csv('/content/drive/MyDrive/ml_project/train.csv')\n",
        "train = train.drop(['index'], axis=1)\n",
        "train.fillna('NAN',inplace=True)\n",
        "\n",
        "test = pd.read_csv('/content/drive/MyDrive/ml_project/test.csv')\n",
        "test = test.drop(['index'],axis=1)\n",
        "test.fillna('NAN',inplace=True)\n",
        "\n",
        "submit = pd.read_csv('/content/drive/MyDrive/ml_project/sample_submission.csv')"
      ]
    },
    {
      "cell_type": "code",
      "execution_count": 18,
      "metadata": {
        "id": "KR7YbBAIWHV1"
      },
      "outputs": [],
      "source": [
        "edu_dict = {'Lower secondary':1,\n",
        " 'Secondary / secondary special':2,\n",
        " 'Incomplete higher':3,\n",
        " 'Higher education':4,\n",
        " 'Academic degree':5}\n",
        "\n",
        "train['edu_type'].replace(edu_dict,inplace=True)\n",
        "test['edu_type'].replace(edu_dict,inplace=True)"
      ]
    },
    {
      "cell_type": "code",
      "execution_count": 19,
      "metadata": {
        "id": "5NvHDjB0nHUL"
      },
      "outputs": [],
      "source": [
        "house_dict = {'With parents':3,\n",
        " 'Co-op apartment':2,\n",
        " 'Municipal apartment':1,\n",
        " 'Rented apartment':4,\n",
        " 'Office apartment':5,\n",
        " 'House / apartment':6}\n",
        "\n",
        "train['house_type'].replace(house_dict,inplace=True)\n",
        "test['house_type'].replace(house_dict,inplace=True)"
      ]
    },
    {
      "cell_type": "code",
      "execution_count": 20,
      "metadata": {
        "id": "5pgmz_k7GdZE"
      },
      "outputs": [],
      "source": [
        "#train['CODE'] = train['gender']+train['DAYS_BIRTH'].apply(str)+train['income_total'].apply(str)+train['income_type'].apply(str)\n",
        "#test['CODE'] = test['gender']+test['DAYS_BIRTH'].apply(str)+test['income_total'].apply(str)+test['income_type'].apply(str)"
      ]
    },
    {
      "cell_type": "code",
      "execution_count": 21,
      "metadata": {
        "colab": {
          "base_uri": "https://localhost:8080/"
        },
        "id": "GGZImp3XkB4I",
        "outputId": "499899a2-1636-4430-c0ae-d5f532b48bd6"
      },
      "outputs": [
        {
          "output_type": "stream",
          "name": "stdout",
          "text": [
            "<class 'pandas.core.frame.DataFrame'>\n",
            "RangeIndex: 26457 entries, 0 to 26456\n",
            "Data columns (total 19 columns):\n",
            " #   Column         Non-Null Count  Dtype  \n",
            "---  ------         --------------  -----  \n",
            " 0   gender         26457 non-null  object \n",
            " 1   car            26457 non-null  object \n",
            " 2   reality        26457 non-null  object \n",
            " 3   child_num      26457 non-null  int64  \n",
            " 4   income_total   26457 non-null  float64\n",
            " 5   income_type    26457 non-null  object \n",
            " 6   edu_type       26457 non-null  int64  \n",
            " 7   family_type    26457 non-null  object \n",
            " 8   house_type     26457 non-null  int64  \n",
            " 9   DAYS_BIRTH     26457 non-null  int64  \n",
            " 10  DAYS_EMPLOYED  26457 non-null  int64  \n",
            " 11  FLAG_MOBIL     26457 non-null  int64  \n",
            " 12  work_phone     26457 non-null  int64  \n",
            " 13  phone          26457 non-null  int64  \n",
            " 14  email          26457 non-null  int64  \n",
            " 15  occyp_type     26457 non-null  object \n",
            " 16  family_size    26457 non-null  float64\n",
            " 17  begin_month    26457 non-null  float64\n",
            " 18  credit         26457 non-null  float64\n",
            "dtypes: float64(4), int64(9), object(6)\n",
            "memory usage: 3.8+ MB\n"
          ]
        }
      ],
      "source": [
        "train.info()"
      ]
    },
    {
      "cell_type": "code",
      "execution_count": 22,
      "metadata": {
        "id": "x4SbHHX8cce3"
      },
      "outputs": [],
      "source": [
        "#train.to_csv(f'/content/drive/MyDrive/ml_project/code_column.csv',index=False)"
      ]
    },
    {
      "cell_type": "code",
      "execution_count": 23,
      "metadata": {
        "id": "bsH9mEHs1LU-"
      },
      "outputs": [],
      "source": [
        "#Optuna용 Train셋\n",
        "X = train.drop(['credit'],axis=1)\n",
        "y = train['credit']\n",
        "X_test = test.copy()"
      ]
    },
    {
      "cell_type": "code",
      "execution_count": 26,
      "metadata": {
        "id": "_X3xpkC80xe5"
      },
      "outputs": [],
      "source": [
        "def objective(trial):\n",
        "  param = {\n",
        "      \"random_state\":42,\n",
        "      'learning_rate' : trial.suggest_loguniform('learning_rate', 0.01, 0.3),\n",
        "      'bagging_temperature' :trial.suggest_loguniform('bagging_temperature', 0.01, 100.00),\n",
        "      \"n_estimators\":trial.suggest_int(\"n_estimators\", 1000, 10000),\n",
        "      \"max_depth\":trial.suggest_int(\"max_depth\", 4, 16),\n",
        "      'random_strength' :trial.suggest_int('random_strength', 0, 100),\n",
        "      \"colsample_bylevel\":trial.suggest_float(\"colsample_bylevel\", 0.4, 1.0),\n",
        "      \"l2_leaf_reg\":trial.suggest_float(\"l2_leaf_reg\",1e-8,3e-5),\n",
        "      \"min_child_samples\": trial.suggest_int(\"min_child_samples\", 5, 100),\n",
        "      \"max_bin\": trial.suggest_int(\"max_bin\", 200, 500),\n",
        "      'od_type': trial.suggest_categorical('od_type', ['IncToDec', 'Iter']),\n",
        "  }\n",
        "\n",
        "  X_train, X_valid, y_train, y_valid = train_test_split(X,y,test_size=0.2)\n",
        "  \n",
        "  #cat_features =[0,1,2,5,6,7,8,15,18]\n",
        "  cat_features =[0,1,2,5,6,7,8,15]\n",
        "  cat = CatBoostClassifier(**param)\n",
        "  cat.fit(X_train, y_train,\n",
        "          eval_set=[(X_train, y_train), (X_valid,y_valid)],\n",
        "          early_stopping_rounds=35,cat_features=cat_features,\n",
        "          verbose=100)\n",
        "  cat_pred = cat.predict_proba(X_valid)\n",
        "  log_score = log_loss(y_valid, cat_pred)\n",
        "\n",
        "  return log_score"
      ]
    },
    {
      "cell_type": "code",
      "execution_count": 27,
      "metadata": {
        "colab": {
          "base_uri": "https://localhost:8080/"
        },
        "id": "37SNdUf10036",
        "outputId": "fea07875-94ed-4e27-faa9-63f82644f537"
      },
      "outputs": [
        {
          "metadata": {
            "tags": null
          },
          "name": "stderr",
          "output_type": "stream",
          "text": [
            "\u001b[32m[I 2022-12-02 09:10:42,747]\u001b[0m A new study created in memory with name: cat_parameter_opt\u001b[0m\n"
          ]
        },
        {
          "metadata": {
            "tags": null
          },
          "name": "stdout",
          "output_type": "stream",
          "text": [
            "0:\tlearn: 1.0829143\ttest: 1.0829143\ttest1: 1.0829492\tbest: 1.0829492 (0)\ttotal: 58.2ms\tremaining: 7m 21s\n",
            "100:\tlearn: 0.8827588\ttest: 0.8827588\ttest1: 0.8821878\tbest: 0.8821878 (100)\ttotal: 887ms\tremaining: 1m 5s\n",
            "200:\tlearn: 0.8825838\ttest: 0.8825838\ttest1: 0.8819301\tbest: 0.8819301 (200)\ttotal: 1.7s\tremaining: 1m 2s\n",
            "300:\tlearn: 0.8825836\ttest: 0.8825836\ttest1: 0.8819277\tbest: 0.8819277 (300)\ttotal: 2.5s\tremaining: 1m\n",
            "400:\tlearn: 0.8825836\ttest: 0.8825836\ttest1: 0.8819277\tbest: 0.8819277 (400)\ttotal: 3.31s\tremaining: 59.4s\n",
            "500:\tlearn: 0.8825836\ttest: 0.8825836\ttest1: 0.8819277\tbest: 0.8819277 (500)\ttotal: 4.13s\tremaining: 58.5s\n",
            "600:\tlearn: 0.8825836\ttest: 0.8825836\ttest1: 0.8819277\tbest: 0.8819277 (600)\ttotal: 4.94s\tremaining: 57.4s\n",
            "700:\tlearn: 0.8825836\ttest: 0.8825836\ttest1: 0.8819277\tbest: 0.8819277 (694)\ttotal: 5.75s\tremaining: 56.5s\n"
          ]
        },
        {
          "metadata": {
            "tags": null
          },
          "name": "stderr",
          "output_type": "stream",
          "text": [
            "\u001b[32m[I 2022-12-02 09:10:49,568]\u001b[0m Trial 0 finished with value: 0.8819276502263708 and parameters: {'learning_rate': 0.03574712922600244, 'bagging_temperature': 63.512210106407046, 'n_estimators': 7588, 'max_depth': 11, 'random_strength': 15, 'colsample_bylevel': 0.49359671220172163, 'l2_leaf_reg': 1.7519275289243016e-06, 'min_child_samples': 88, 'max_bin': 380, 'od_type': 'IncToDec'}. Best is trial 0 with value: 0.8819276502263708.\u001b[0m\n"
          ]
        },
        {
          "metadata": {
            "tags": null
          },
          "name": "stdout",
          "output_type": "stream",
          "text": [
            "Stopped by overfitting detector  (35 iterations wait)\n",
            "\n",
            "bestTest = 0.8819276502\n",
            "bestIteration = 761\n",
            "\n",
            "Shrink model to first 762 iterations.\n",
            "0:\tlearn: 0.9617141\ttest: 0.9617141\ttest1: 0.9628902\tbest: 0.9628902 (0)\ttotal: 51.7ms\tremaining: 2m 30s\n",
            "100:\tlearn: 0.7184380\ttest: 0.7213719\ttest1: 0.7968245\tbest: 0.7965527 (99)\ttotal: 4.41s\tremaining: 2m 2s\n",
            "200:\tlearn: 0.6564633\ttest: 0.6606508\ttest1: 0.7888928\tbest: 0.7880943 (195)\ttotal: 8.71s\tremaining: 1m 57s\n"
          ]
        },
        {
          "metadata": {
            "tags": null
          },
          "name": "stderr",
          "output_type": "stream",
          "text": [
            "\u001b[32m[I 2022-12-02 09:11:02,143]\u001b[0m Trial 1 finished with value: 0.7865609113744659 and parameters: {'learning_rate': 0.2708160864249968, 'bagging_temperature': 21.368329072358772, 'n_estimators': 2911, 'max_depth': 6, 'random_strength': 18, 'colsample_bylevel': 0.5825453457757226, 'l2_leaf_reg': 1.5747445384650815e-05, 'min_child_samples': 46, 'max_bin': 287, 'od_type': 'IncToDec'}. Best is trial 1 with value: 0.7865609113744659.\u001b[0m\n"
          ]
        },
        {
          "metadata": {
            "tags": null
          },
          "name": "stdout",
          "output_type": "stream",
          "text": [
            "Stopped by overfitting detector  (35 iterations wait)\n",
            "\n",
            "bestTest = 0.7865609114\n",
            "bestIteration = 251\n",
            "\n",
            "Shrink model to first 252 iterations.\n",
            "0:\tlearn: 1.0868641\ttest: 1.0868715\ttest1: 1.0864728\tbest: 1.0864728 (0)\ttotal: 33.6ms\tremaining: 2m 51s\n",
            "100:\tlearn: 0.8506629\ttest: 0.8522924\ttest1: 0.8400286\tbest: 0.8400286 (100)\ttotal: 8.11s\tremaining: 6m 41s\n",
            "200:\tlearn: 0.8322540\ttest: 0.8362271\ttest1: 0.8236591\tbest: 0.8236591 (200)\ttotal: 22.2s\tremaining: 9m 2s\n",
            "300:\tlearn: 0.8206287\ttest: 0.8265759\ttest1: 0.8148891\tbest: 0.8148890 (298)\ttotal: 33.8s\tremaining: 8m 59s\n",
            "400:\tlearn: 0.8072101\ttest: 0.8157008\ttest1: 0.8051103\tbest: 0.8051103 (400)\ttotal: 49.9s\tremaining: 9m 45s\n",
            "500:\tlearn: 0.7148452\ttest: 0.7641486\ttest1: 0.7778539\tbest: 0.7778539 (500)\ttotal: 1m 47s\tremaining: 16m 29s\n",
            "600:\tlearn: 0.4666992\ttest: 0.5873445\ttest1: 0.7270500\tbest: 0.7270500 (600)\ttotal: 3m 39s\tremaining: 27m 22s\n",
            "700:\tlearn: 0.3397967\ttest: 0.5037063\ttest1: 0.7205390\tbest: 0.7199445 (686)\ttotal: 5m 30s\tremaining: 34m 39s\n",
            "Stopped by overfitting detector  (35 iterations wait)\n",
            "\n",
            "bestTest = 0.7199445292\n",
            "bestIteration = 686\n",
            "\n",
            "Shrink model to first 687 iterations.\n"
          ]
        },
        {
          "metadata": {
            "tags": null
          },
          "name": "stderr",
          "output_type": "stream",
          "text": [
            "\u001b[32m[I 2022-12-02 09:16:56,864]\u001b[0m Trial 2 finished with value: 0.7199445292409854 and parameters: {'learning_rate': 0.027010527749605478, 'bagging_temperature': 0.2920433847181412, 'n_estimators': 5105, 'max_depth': 14, 'random_strength': 20, 'colsample_bylevel': 0.708540663048167, 'l2_leaf_reg': 1.7776512920172654e-05, 'min_child_samples': 9, 'max_bin': 382, 'od_type': 'IncToDec'}. Best is trial 2 with value: 0.7199445292409854.\u001b[0m\n"
          ]
        },
        {
          "metadata": {
            "tags": null
          },
          "name": "stdout",
          "output_type": "stream",
          "text": [
            "0:\tlearn: 1.0000689\ttest: 1.0000689\ttest1: 1.0014958\tbest: 1.0014958 (0)\ttotal: 13.1ms\tremaining: 1m 48s\n"
          ]
        },
        {
          "metadata": {
            "tags": null
          },
          "name": "stderr",
          "output_type": "stream",
          "text": [
            "\u001b[32m[I 2022-12-02 09:16:57,510]\u001b[0m Trial 3 finished with value: 0.8873068251499191 and parameters: {'learning_rate': 0.2521267904777921, 'bagging_temperature': 72.86653737491046, 'n_estimators': 8276, 'max_depth': 7, 'random_strength': 9, 'colsample_bylevel': 0.8105398159072941, 'l2_leaf_reg': 1.3210173287250643e-05, 'min_child_samples': 16, 'max_bin': 349, 'od_type': 'Iter'}. Best is trial 2 with value: 0.7199445292409854.\u001b[0m\n"
          ]
        },
        {
          "metadata": {
            "tags": null
          },
          "name": "stdout",
          "output_type": "stream",
          "text": [
            "Stopped by overfitting detector  (35 iterations wait)\n",
            "\n",
            "bestTest = 0.8873068251\n",
            "bestIteration = 14\n",
            "\n",
            "Shrink model to first 15 iterations.\n",
            "0:\tlearn: 1.0850392\ttest: 1.0851043\ttest1: 1.0854841\tbest: 1.0854841 (0)\ttotal: 115ms\tremaining: 7m 16s\n",
            "100:\tlearn: 0.8209032\ttest: 0.8273414\ttest1: 0.8432570\tbest: 0.8432570 (100)\ttotal: 5.97s\tremaining: 3m 39s\n",
            "200:\tlearn: 0.7973929\ttest: 0.8108757\ttest1: 0.8315754\tbest: 0.8315754 (200)\ttotal: 12.8s\tremaining: 3m 49s\n",
            "300:\tlearn: 0.7769880\ttest: 0.7983468\ttest1: 0.8241817\tbest: 0.8241817 (300)\ttotal: 20.7s\tremaining: 4m 1s\n",
            "400:\tlearn: 0.7451184\ttest: 0.7791703\ttest1: 0.8154645\tbest: 0.8154645 (400)\ttotal: 29.9s\tremaining: 4m 13s\n",
            "500:\tlearn: 0.6779277\ttest: 0.7372630\ttest1: 0.8012483\tbest: 0.8012483 (500)\ttotal: 39.4s\tremaining: 4m 20s\n",
            "600:\tlearn: 0.6032888\ttest: 0.6774388\ttest1: 0.7850064\tbest: 0.7850064 (600)\ttotal: 49.8s\tremaining: 4m 25s\n",
            "700:\tlearn: 0.5460666\ttest: 0.6306515\ttest1: 0.7742302\tbest: 0.7742302 (700)\ttotal: 1m\tremaining: 4m 25s\n",
            "800:\tlearn: 0.4989496\ttest: 0.5911822\ttest1: 0.7687119\tbest: 0.7687119 (800)\ttotal: 1m 10s\tremaining: 4m 23s\n",
            "900:\tlearn: 0.4578298\ttest: 0.5604496\ttest1: 0.7652601\tbest: 0.7652601 (900)\ttotal: 1m 20s\tremaining: 4m 20s\n"
          ]
        },
        {
          "metadata": {
            "tags": null
          },
          "name": "stderr",
          "output_type": "stream",
          "text": [
            "\u001b[32m[I 2022-12-02 09:18:22,824]\u001b[0m Trial 4 finished with value: 0.7651437038409716 and parameters: {'learning_rate': 0.024112898115291985, 'bagging_temperature': 4.467752817973908, 'n_estimators': 3805, 'max_depth': 10, 'random_strength': 55, 'colsample_bylevel': 0.5109126733153162, 'l2_leaf_reg': 2.9087842986659113e-05, 'min_child_samples': 79, 'max_bin': 482, 'od_type': 'IncToDec'}. Best is trial 2 with value: 0.7199445292409854.\u001b[0m\n"
          ]
        },
        {
          "metadata": {
            "tags": null
          },
          "name": "stdout",
          "output_type": "stream",
          "text": [
            "Stopped by overfitting detector  (35 iterations wait)\n",
            "\n",
            "bestTest = 0.7651437038\n",
            "bestIteration = 906\n",
            "\n",
            "Shrink model to first 907 iterations.\n",
            "0:\tlearn: 1.0084082\ttest: 1.0084082\ttest1: 1.0069692\tbest: 1.0069692 (0)\ttotal: 24.3ms\tremaining: 1m 7s\n",
            "100:\tlearn: 0.7854095\ttest: 0.7898044\ttest1: 0.7962590\tbest: 0.7962590 (100)\ttotal: 2.36s\tremaining: 1m 2s\n",
            "200:\tlearn: 0.7517408\ttest: 0.7598408\ttest1: 0.7867492\tbest: 0.7867492 (200)\ttotal: 5.08s\tremaining: 1m 4s\n",
            "300:\tlearn: 0.7287917\ttest: 0.7417615\ttest1: 0.7788221\tbest: 0.7788126 (299)\ttotal: 7.96s\tremaining: 1m 5s\n",
            "400:\tlearn: 0.7057135\ttest: 0.7231176\ttest1: 0.7741117\tbest: 0.7740270 (398)\ttotal: 10.9s\tremaining: 1m 4s\n",
            "500:\tlearn: 0.6869985\ttest: 0.7102831\ttest1: 0.7722529\tbest: 0.7722031 (478)\ttotal: 13.9s\tremaining: 1m 2s\n",
            "600:\tlearn: 0.6697798\ttest: 0.6980780\ttest1: 0.7690864\tbest: 0.7690149 (599)\ttotal: 16.9s\tremaining: 1m\n",
            "700:\tlearn: 0.6533802\ttest: 0.6868795\ttest1: 0.7681166\tbest: 0.7679712 (696)\ttotal: 20s\tremaining: 58.7s\n"
          ]
        },
        {
          "metadata": {
            "tags": null
          },
          "name": "stderr",
          "output_type": "stream",
          "text": [
            "\u001b[32m[I 2022-12-02 09:18:46,027]\u001b[0m Trial 5 finished with value: 0.7666462233436314 and parameters: {'learning_rate': 0.22999586428143728, 'bagging_temperature': 0.022592797420156956, 'n_estimators': 2764, 'max_depth': 4, 'random_strength': 32, 'colsample_bylevel': 0.6332063738136893, 'l2_leaf_reg': 8.147757462899138e-06, 'min_child_samples': 84, 'max_bin': 307, 'od_type': 'Iter'}. Best is trial 2 with value: 0.7199445292409854.\u001b[0m\n"
          ]
        },
        {
          "metadata": {
            "tags": null
          },
          "name": "stdout",
          "output_type": "stream",
          "text": [
            "Stopped by overfitting detector  (35 iterations wait)\n",
            "\n",
            "bestTest = 0.7666462233\n",
            "bestIteration = 756\n",
            "\n",
            "Shrink model to first 757 iterations.\n",
            "0:\tlearn: 1.0856622\ttest: 1.0856622\ttest1: 1.0895578\tbest: 1.0895578 (0)\ttotal: 3s\tremaining: 1h 23m 39s\n",
            "100:\tlearn: 0.5555095\ttest: 0.5790331\ttest1: 0.7905293\tbest: 0.7905293 (100)\ttotal: 5m 38s\tremaining: 1h 27m 49s\n",
            "200:\tlearn: 0.3946120\ttest: 0.4287405\ttest1: 0.7707357\tbest: 0.7688541 (176)\ttotal: 11m 15s\tremaining: 1h 22m 17s\n",
            "Stopped by overfitting detector  (35 iterations wait)\n",
            "\n",
            "bestTest = 0.7688540853\n",
            "bestIteration = 176\n",
            "\n",
            "Shrink model to first 177 iterations.\n"
          ]
        },
        {
          "metadata": {
            "tags": null
          },
          "name": "stderr",
          "output_type": "stream",
          "text": [
            "\u001b[32m[I 2022-12-02 09:30:39,440]\u001b[0m Trial 6 finished with value: 0.7688540853441642 and parameters: {'learning_rate': 0.016149614799999188, 'bagging_temperature': 16.172900811143155, 'n_estimators': 1671, 'max_depth': 16, 'random_strength': 77, 'colsample_bylevel': 0.5192294089205034, 'l2_leaf_reg': 1.7560829253683595e-07, 'min_child_samples': 83, 'max_bin': 412, 'od_type': 'Iter'}. Best is trial 2 with value: 0.7199445292409854.\u001b[0m\n"
          ]
        },
        {
          "output_type": "stream",
          "name": "stdout",
          "text": [
            "0:\tlearn: 1.0929125\ttest: 1.0929123\ttest1: 1.0928714\tbest: 1.0928714 (0)\ttotal: 44.7ms\tremaining: 1m 31s\n",
            "100:\tlearn: 0.8953270\ttest: 0.8964594\ttest1: 0.8948109\tbest: 0.8948109 (100)\ttotal: 9.82s\tremaining: 3m 8s\n",
            "200:\tlearn: 0.8713728\ttest: 0.8739671\ttest1: 0.8725435\tbest: 0.8725435 (200)\ttotal: 20.6s\tremaining: 3m 8s\n",
            "300:\tlearn: 0.8616633\ttest: 0.8657532\ttest1: 0.8650851\tbest: 0.8650851 (300)\ttotal: 38.6s\tremaining: 3m 43s\n",
            "400:\tlearn: 0.8557284\ttest: 0.8610044\ttest1: 0.8610599\tbest: 0.8610599 (400)\ttotal: 54s\tremaining: 3m 40s\n",
            "500:\tlearn: 0.8486795\ttest: 0.8549118\ttest1: 0.8555528\tbest: 0.8555528 (500)\ttotal: 1m 5s\tremaining: 3m 20s\n",
            "600:\tlearn: 0.8430545\ttest: 0.8500757\ttest1: 0.8515604\tbest: 0.8515604 (600)\ttotal: 1m 19s\tremaining: 3m 10s\n",
            "700:\tlearn: 0.8364068\ttest: 0.8448960\ttest1: 0.8472958\tbest: 0.8472958 (700)\ttotal: 1m 35s\tremaining: 3m 2s\n",
            "800:\tlearn: 0.8312307\ttest: 0.8407904\ttest1: 0.8439827\tbest: 0.8439827 (800)\ttotal: 1m 47s\tremaining: 2m 46s\n",
            "900:\tlearn: 0.8165445\ttest: 0.8271504\ttest1: 0.8312241\tbest: 0.8312241 (900)\ttotal: 2m 2s\tremaining: 2m 34s\n",
            "1000:\tlearn: 0.7973736\ttest: 0.8091229\ttest1: 0.8142665\tbest: 0.8142665 (999)\ttotal: 2m 18s\tremaining: 2m 23s\n",
            "1100:\tlearn: 0.7477105\ttest: 0.7838951\ttest1: 0.7999600\tbest: 0.7999600 (1100)\ttotal: 3m 49s\tremaining: 3m 16s\n",
            "1200:\tlearn: 0.5704098\ttest: 0.6842567\ttest1: 0.7645676\tbest: 0.7645676 (1200)\ttotal: 6m 39s\tremaining: 4m 39s\n",
            "1300:\tlearn: 0.4406548\ttest: 0.5999422\ttest1: 0.7454226\tbest: 0.7454226 (1300)\ttotal: 9m 29s\tremaining: 5m 24s\n",
            "1400:\tlearn: 0.3562843\ttest: 0.5501577\ttest1: 0.7406894\tbest: 0.7404685 (1397)\ttotal: 12m 41s\tremaining: 5m 48s\n",
            "Stopped by overfitting detector  (35 iterations wait)\n",
            "\n",
            "bestTest = 0.740468458\n",
            "bestIteration = 1397\n",
            "\n",
            "Shrink model to first 1398 iterations.\n"
          ]
        },
        {
          "output_type": "stream",
          "name": "stderr",
          "text": [
            "\u001b[32m[I 2022-12-02 09:44:19,554]\u001b[0m Trial 7 finished with value: 0.7404684579835968 and parameters: {'learning_rate': 0.012863908101989912, 'bagging_temperature': 0.27155819552829413, 'n_estimators': 2042, 'max_depth': 15, 'random_strength': 62, 'colsample_bylevel': 0.5985388149115896, 'l2_leaf_reg': 1.9161149250778487e-06, 'min_child_samples': 34, 'max_bin': 297, 'od_type': 'IncToDec'}. Best is trial 2 with value: 0.7199445292409854.\u001b[0m\n"
          ]
        },
        {
          "output_type": "stream",
          "name": "stdout",
          "text": [
            "0:\tlearn: 1.0147991\ttest: 1.0151840\ttest1: 1.0196569\tbest: 1.0196569 (0)\ttotal: 109ms\tremaining: 3m 46s\n",
            "100:\tlearn: 0.3897062\ttest: 0.5390542\ttest1: 0.7783462\tbest: 0.7735473 (94)\ttotal: 25.3s\tremaining: 8m 15s\n"
          ]
        },
        {
          "output_type": "stream",
          "name": "stderr",
          "text": [
            "\u001b[32m[I 2022-12-02 09:45:01,972]\u001b[0m Trial 8 finished with value: 0.7735473061548296 and parameters: {'learning_rate': 0.20441878352493792, 'bagging_temperature': 0.7742116473996251, 'n_estimators': 2076, 'max_depth': 13, 'random_strength': 76, 'colsample_bylevel': 0.7367663185416977, 'l2_leaf_reg': 2.3131305726837285e-05, 'min_child_samples': 52, 'max_bin': 357, 'od_type': 'IncToDec'}. Best is trial 2 with value: 0.7199445292409854.\u001b[0m\n"
          ]
        },
        {
          "output_type": "stream",
          "name": "stdout",
          "text": [
            "Stopped by overfitting detector  (35 iterations wait)\n",
            "\n",
            "bestTest = 0.7735473062\n",
            "bestIteration = 94\n",
            "\n",
            "Shrink model to first 95 iterations.\n",
            "0:\tlearn: 1.0921954\ttest: 1.0921987\ttest1: 1.0922274\tbest: 1.0922274 (0)\ttotal: 36.9ms\tremaining: 4m 8s\n",
            "100:\tlearn: 0.8896817\ttest: 0.8903330\ttest1: 0.8924018\tbest: 0.8924018 (100)\ttotal: 3.66s\tremaining: 4m\n",
            "200:\tlearn: 0.8657736\ttest: 0.8672753\ttest1: 0.8706707\tbest: 0.8706707 (200)\ttotal: 8.2s\tremaining: 4m 26s\n",
            "300:\tlearn: 0.8593001\ttest: 0.8616754\ttest1: 0.8655927\tbest: 0.8655915 (298)\ttotal: 12.4s\tremaining: 4m 25s\n",
            "400:\tlearn: 0.8547102\ttest: 0.8579786\ttest1: 0.8623071\tbest: 0.8623058 (397)\ttotal: 16.7s\tremaining: 4m 23s\n",
            "500:\tlearn: 0.8486830\ttest: 0.8523824\ttest1: 0.8572179\tbest: 0.8572179 (500)\ttotal: 20.8s\tremaining: 4m 18s\n",
            "600:\tlearn: 0.8406631\ttest: 0.8449076\ttest1: 0.8502122\tbest: 0.8502122 (600)\ttotal: 25s\tremaining: 4m 14s\n",
            "700:\tlearn: 0.8318097\ttest: 0.8367046\ttest1: 0.8425779\tbest: 0.8425779 (700)\ttotal: 30.2s\tremaining: 4m 19s\n",
            "800:\tlearn: 0.8177386\ttest: 0.8232461\ttest1: 0.8295048\tbest: 0.8295048 (800)\ttotal: 34.8s\tremaining: 4m 17s\n",
            "900:\tlearn: 0.8012909\ttest: 0.8076668\ttest1: 0.8142304\tbest: 0.8142304 (900)\ttotal: 40.5s\tremaining: 4m 21s\n",
            "1000:\tlearn: 0.7886255\ttest: 0.7974979\ttest1: 0.8065402\tbest: 0.8065402 (1000)\ttotal: 47.9s\tremaining: 4m 34s\n",
            "1100:\tlearn: 0.7667159\ttest: 0.7776028\ttest1: 0.7976035\tbest: 0.7976035 (1100)\ttotal: 56.9s\tremaining: 4m 50s\n",
            "1200:\tlearn: 0.7448970\ttest: 0.7580078\ttest1: 0.7892221\tbest: 0.7892221 (1200)\ttotal: 1m 5s\tremaining: 5m 2s\n",
            "1300:\tlearn: 0.7286410\ttest: 0.7451796\ttest1: 0.7844954\tbest: 0.7844954 (1300)\ttotal: 1m 14s\tremaining: 5m 12s\n",
            "1400:\tlearn: 0.7137295\ttest: 0.7339351\ttest1: 0.7800629\tbest: 0.7800629 (1400)\ttotal: 1m 24s\tremaining: 5m 19s\n",
            "1500:\tlearn: 0.7006140\ttest: 0.7244543\ttest1: 0.7770238\tbest: 0.7770238 (1500)\ttotal: 1m 33s\tremaining: 5m 24s\n",
            "1600:\tlearn: 0.6878531\ttest: 0.7157846\ttest1: 0.7741248\tbest: 0.7741226 (1599)\ttotal: 1m 42s\tremaining: 5m 28s\n",
            "1700:\tlearn: 0.6772359\ttest: 0.7090815\ttest1: 0.7718010\tbest: 0.7718010 (1700)\ttotal: 1m 52s\tremaining: 5m 31s\n",
            "1800:\tlearn: 0.6651394\ttest: 0.7004262\ttest1: 0.7689289\tbest: 0.7689145 (1799)\ttotal: 2m 1s\tremaining: 5m 32s\n",
            "1900:\tlearn: 0.6549524\ttest: 0.6939192\ttest1: 0.7671922\tbest: 0.7671922 (1900)\ttotal: 2m 10s\tremaining: 5m 32s\n",
            "2000:\tlearn: 0.6447795\ttest: 0.6872971\ttest1: 0.7655129\tbest: 0.7655129 (2000)\ttotal: 2m 20s\tremaining: 5m 31s\n",
            "2100:\tlearn: 0.6351068\ttest: 0.6805882\ttest1: 0.7639887\tbest: 0.7639887 (2100)\ttotal: 2m 29s\tremaining: 5m 29s\n",
            "2200:\tlearn: 0.6259957\ttest: 0.6740329\ttest1: 0.7622614\tbest: 0.7622614 (2200)\ttotal: 2m 39s\tremaining: 5m 27s\n",
            "2300:\tlearn: 0.6169390\ttest: 0.6678455\ttest1: 0.7605708\tbest: 0.7605708 (2300)\ttotal: 2m 48s\tremaining: 5m 24s\n",
            "2400:\tlearn: 0.6077644\ttest: 0.6616659\ttest1: 0.7589598\tbest: 0.7589598 (2400)\ttotal: 2m 58s\tremaining: 5m 21s\n",
            "2500:\tlearn: 0.5990321\ttest: 0.6557185\ttest1: 0.7575739\tbest: 0.7575739 (2500)\ttotal: 3m 8s\tremaining: 5m 18s\n",
            "2600:\tlearn: 0.5904668\ttest: 0.6501639\ttest1: 0.7563912\tbest: 0.7563912 (2600)\ttotal: 3m 17s\tremaining: 5m 13s\n",
            "2700:\tlearn: 0.5822690\ttest: 0.6441647\ttest1: 0.7552411\tbest: 0.7552411 (2700)\ttotal: 3m 27s\tremaining: 5m 9s\n",
            "2800:\tlearn: 0.5743273\ttest: 0.6392008\ttest1: 0.7544417\tbest: 0.7544417 (2800)\ttotal: 3m 37s\tremaining: 5m 4s\n",
            "2900:\tlearn: 0.5663777\ttest: 0.6338052\ttest1: 0.7533178\tbest: 0.7533178 (2900)\ttotal: 3m 46s\tremaining: 4m 59s\n",
            "3000:\tlearn: 0.5588036\ttest: 0.6285608\ttest1: 0.7525771\tbest: 0.7525771 (3000)\ttotal: 3m 56s\tremaining: 4m 53s\n",
            "3100:\tlearn: 0.5503928\ttest: 0.6225409\ttest1: 0.7513622\tbest: 0.7513622 (3100)\ttotal: 4m 5s\tremaining: 4m 47s\n",
            "3200:\tlearn: 0.5429158\ttest: 0.6178300\ttest1: 0.7506392\tbest: 0.7506392 (3200)\ttotal: 4m 15s\tremaining: 4m 41s\n",
            "3300:\tlearn: 0.5364298\ttest: 0.6134397\ttest1: 0.7498523\tbest: 0.7498523 (3300)\ttotal: 4m 24s\tremaining: 4m 35s\n",
            "Stopped by overfitting detector  (35 iterations wait)\n",
            "\n",
            "bestTest = 0.7494189255\n",
            "bestIteration = 3361\n",
            "\n",
            "Shrink model to first 3362 iterations.\n"
          ]
        },
        {
          "output_type": "stream",
          "name": "stderr",
          "text": [
            "\u001b[32m[I 2022-12-02 09:49:37,000]\u001b[0m Trial 9 finished with value: 0.7494189255209155 and parameters: {'learning_rate': 0.01443340240633889, 'bagging_temperature': 0.0133572404119741, 'n_estimators': 6728, 'max_depth': 8, 'random_strength': 51, 'colsample_bylevel': 0.9445398843556558, 'l2_leaf_reg': 7.486273952174759e-06, 'min_child_samples': 44, 'max_bin': 427, 'od_type': 'IncToDec'}. Best is trial 2 with value: 0.7199445292409854.\u001b[0m\n"
          ]
        },
        {
          "output_type": "stream",
          "name": "stdout",
          "text": [
            "Best Score: 0.7199445292409854\n",
            "Best trial {'learning_rate': 0.027010527749605478, 'bagging_temperature': 0.2920433847181412, 'n_estimators': 5105, 'max_depth': 14, 'random_strength': 20, 'colsample_bylevel': 0.708540663048167, 'l2_leaf_reg': 1.7776512920172654e-05, 'min_child_samples': 9, 'max_bin': 382, 'od_type': 'IncToDec'}\n"
          ]
        }
      ],
      "source": [
        "sampler = TPESampler(seed=42)\n",
        "study = optuna.create_study(\n",
        "    study_name = 'cat_parameter_opt',\n",
        "    direction = 'minimize',\n",
        "    sampler = sampler,\n",
        ")\n",
        "study.optimize(objective, n_trials=10)\n",
        "print(\"Best Score:\",study.best_value)\n",
        "print(\"Best trial\",study.best_trial.params)"
      ]
    },
    {
      "cell_type": "code",
      "execution_count": null,
      "metadata": {
        "id": "XiirClPbRJSV"
      },
      "outputs": [],
      "source": [
        "skf = StratifiedKFold(n_splits=5, shuffle=True, random_state=42)\n",
        "folds = []\n",
        "for train_idx, valid_idx in skf.split(train, train['credit']):\n",
        "  folds.append((train_idx,valid_idx))"
      ]
    },
    {
      "cell_type": "code",
      "execution_count": 28,
      "metadata": {
        "colab": {
          "base_uri": "https://localhost:8080/"
        },
        "id": "35QkbKwnRU0W",
        "outputId": "8ba35d7d-a07a-4343-8a41-9189f4c9c604"
      },
      "outputs": [
        {
          "output_type": "stream",
          "name": "stdout",
          "text": [
            "====================================1============================================\n",
            "0:\tlearn: 1.0864997\ttest: 1.0865203\ttest1: 1.0866841\tbest: 1.0866841 (0)\ttotal: 51.4ms\tremaining: 4m 22s\n",
            "100:\tlearn: 0.8469242\ttest: 0.8510126\ttest1: 0.8567042\tbest: 0.8567042 (100)\ttotal: 14.7s\tremaining: 12m 5s\n",
            "200:\tlearn: 0.8258134\ttest: 0.8327720\ttest1: 0.8399934\tbest: 0.8399934 (200)\ttotal: 26.7s\tremaining: 10m 50s\n",
            "300:\tlearn: 0.8108420\ttest: 0.8224534\ttest1: 0.8309943\tbest: 0.8309943 (300)\ttotal: 45.1s\tremaining: 12m\n",
            "400:\tlearn: 0.7931460\ttest: 0.8085316\ttest1: 0.8180089\tbest: 0.8180089 (400)\ttotal: 1m 1s\tremaining: 11m 59s\n",
            "500:\tlearn: 0.6701081\ttest: 0.7472359\ttest1: 0.7852730\tbest: 0.7852730 (500)\ttotal: 2m\tremaining: 18m 27s\n",
            "600:\tlearn: 0.4165960\ttest: 0.5797555\ttest1: 0.7469257\tbest: 0.7469164 (598)\ttotal: 3m 46s\tremaining: 28m 16s\n",
            "Stopped by overfitting detector  (35 iterations wait)\n",
            "\n",
            "bestTest = 0.746174632\n",
            "bestIteration = 610\n",
            "\n",
            "Shrink model to first 611 iterations.\n",
            "================================================================================\n",
            "\n",
            "\n",
            "====================================2============================================\n",
            "0:\tlearn: 1.0866510\ttest: 1.0866686\ttest1: 1.0864217\tbest: 1.0864217 (0)\ttotal: 41ms\tremaining: 3m 29s\n",
            "100:\tlearn: 0.8521783\ttest: 0.8561632\ttest1: 0.8497746\tbest: 0.8497746 (100)\ttotal: 12.7s\tremaining: 10m 31s\n",
            "200:\tlearn: 0.8235750\ttest: 0.8309428\ttest1: 0.8261842\tbest: 0.8261842 (200)\ttotal: 27.2s\tremaining: 11m 4s\n",
            "300:\tlearn: 0.8120777\ttest: 0.8224144\ttest1: 0.8187670\tbest: 0.8187670 (300)\ttotal: 39.1s\tremaining: 10m 23s\n",
            "400:\tlearn: 0.7939319\ttest: 0.8088282\ttest1: 0.8074980\tbest: 0.8074980 (400)\ttotal: 59.6s\tremaining: 11m 39s\n",
            "500:\tlearn: 0.6766086\ttest: 0.7550115\ttest1: 0.7798959\tbest: 0.7798959 (500)\ttotal: 2m 2s\tremaining: 18m 48s\n",
            "600:\tlearn: 0.4205429\ttest: 0.6003387\ttest1: 0.7443022\tbest: 0.7443022 (600)\ttotal: 3m 54s\tremaining: 29m 15s\n",
            "Stopped by overfitting detector  (35 iterations wait)\n",
            "\n",
            "bestTest = 0.7423112512\n",
            "bestIteration = 623\n",
            "\n",
            "Shrink model to first 624 iterations.\n",
            "================================================================================\n",
            "\n",
            "\n",
            "====================================3============================================\n",
            "0:\tlearn: 1.0856422\ttest: 1.0856626\ttest1: 1.0858583\tbest: 1.0858583 (0)\ttotal: 62.9ms\tremaining: 5m 20s\n",
            "100:\tlearn: 0.8416960\ttest: 0.8458181\ttest1: 0.8544079\tbest: 0.8544079 (100)\ttotal: 14s\tremaining: 11m 33s\n",
            "200:\tlearn: 0.8247029\ttest: 0.8317014\ttest1: 0.8414331\tbest: 0.8414320 (198)\ttotal: 26.1s\tremaining: 10m 35s\n",
            "300:\tlearn: 0.8109029\ttest: 0.8204153\ttest1: 0.8309662\tbest: 0.8309662 (300)\ttotal: 38.2s\tremaining: 10m 9s\n",
            "400:\tlearn: 0.7968599\ttest: 0.8094264\ttest1: 0.8209048\tbest: 0.8209048 (400)\ttotal: 52.2s\tremaining: 10m 12s\n",
            "500:\tlearn: 0.6971430\ttest: 0.7620852\ttest1: 0.7951116\tbest: 0.7951116 (500)\ttotal: 1m 41s\tremaining: 15m 32s\n",
            "600:\tlearn: 0.4368933\ttest: 0.5941848\ttest1: 0.7529561\tbest: 0.7529530 (599)\ttotal: 3m 31s\tremaining: 26m 25s\n",
            "Stopped by overfitting detector  (35 iterations wait)\n",
            "\n",
            "bestTest = 0.7494450852\n",
            "bestIteration = 656\n",
            "\n",
            "Shrink model to first 657 iterations.\n",
            "================================================================================\n",
            "\n",
            "\n",
            "====================================4============================================\n",
            "0:\tlearn: 1.0866448\ttest: 1.0866448\ttest1: 1.0865057\tbest: 1.0865057 (0)\ttotal: 17.1ms\tremaining: 1m 27s\n",
            "100:\tlearn: 0.8463985\ttest: 0.8491810\ttest1: 0.8518419\tbest: 0.8518419 (100)\ttotal: 13.8s\tremaining: 11m 23s\n",
            "200:\tlearn: 0.8196182\ttest: 0.8256023\ttest1: 0.8320883\tbest: 0.8320793 (198)\ttotal: 28.1s\tremaining: 11m 24s\n",
            "300:\tlearn: 0.8089776\ttest: 0.8182459\ttest1: 0.8274463\tbest: 0.8274463 (300)\ttotal: 44.1s\tremaining: 11m 43s\n",
            "400:\tlearn: 0.7955471\ttest: 0.8073436\ttest1: 0.8187737\tbest: 0.8187737 (400)\ttotal: 56.3s\tremaining: 11m\n",
            "500:\tlearn: 0.6803125\ttest: 0.7413564\ttest1: 0.7924727\tbest: 0.7924727 (500)\ttotal: 1m 55s\tremaining: 17m 38s\n",
            "600:\tlearn: 0.4374033\ttest: 0.5804815\ttest1: 0.7569744\tbest: 0.7569744 (600)\ttotal: 3m 45s\tremaining: 28m 8s\n",
            "Stopped by overfitting detector  (35 iterations wait)\n",
            "\n",
            "bestTest = 0.7555686924\n",
            "bestIteration = 620\n",
            "\n",
            "Shrink model to first 621 iterations.\n",
            "================================================================================\n",
            "\n",
            "\n",
            "====================================5============================================\n",
            "0:\tlearn: 1.0866175\ttest: 1.0866175\ttest1: 1.0865569\tbest: 1.0865569 (0)\ttotal: 17.8ms\tremaining: 1m 30s\n",
            "100:\tlearn: 0.8565339\ttest: 0.8589996\ttest1: 0.8554567\tbest: 0.8554567 (100)\ttotal: 9.13s\tremaining: 7m 32s\n",
            "200:\tlearn: 0.8305331\ttest: 0.8361636\ttest1: 0.8320450\tbest: 0.8320450 (200)\ttotal: 18.6s\tremaining: 7m 34s\n",
            "300:\tlearn: 0.8165039\ttest: 0.8240640\ttest1: 0.8205332\tbest: 0.8205332 (300)\ttotal: 31.1s\tremaining: 8m 16s\n",
            "400:\tlearn: 0.8024942\ttest: 0.8124489\ttest1: 0.8092025\tbest: 0.8092025 (400)\ttotal: 42.5s\tremaining: 8m 18s\n",
            "500:\tlearn: 0.6861486\ttest: 0.7524038\ttest1: 0.7796580\tbest: 0.7796580 (500)\ttotal: 1m 39s\tremaining: 15m 13s\n",
            "600:\tlearn: 0.4479069\ttest: 0.6008660\ttest1: 0.7392639\tbest: 0.7392639 (600)\ttotal: 3m 28s\tremaining: 26m 4s\n",
            "700:\tlearn: 0.3249928\ttest: 0.5209450\ttest1: 0.7353225\tbest: 0.7338598 (665)\ttotal: 5m 16s\tremaining: 33m 10s\n",
            "Stopped by overfitting detector  (35 iterations wait)\n",
            "\n",
            "bestTest = 0.7338597598\n",
            "bestIteration = 665\n",
            "\n",
            "Shrink model to first 666 iterations.\n",
            "================================================================================\n",
            "\n",
            "\n"
          ]
        }
      ],
      "source": [
        "random.seed(42)\n",
        "cat_models={}\n",
        "\n",
        "#cat_features =[0,1,2,5,6,7,8,15,18]\n",
        "cat_features =[0,1,2,5,6,7,8,15]\n",
        "\n",
        "for fold in range(5):\n",
        "  print(f'===================================={fold+1}============================================')\n",
        "  train_idx, valid_idx = folds[fold]\n",
        "  X_train = train.drop(['credit'],axis=1).iloc[train_idx].values \n",
        "  X_valid = train.drop(['credit'],axis=1).iloc[valid_idx].values\n",
        "  y_train = train['credit'][train_idx].values\n",
        "  y_valid = train['credit'][valid_idx].values\n",
        "\n",
        "  cat = CatBoostClassifier(**study.best_params)\n",
        "  cat.fit(X_train, y_train,\n",
        "          eval_set=[(X_train, y_train), (X_valid,y_valid)],\n",
        "          early_stopping_rounds=35,cat_features=cat_features,\n",
        "          verbose=100)\n",
        "  cat_models[fold] = cat\n",
        "  print(f'================================================================================\\n\\n')"
      ]
    },
    {
      "cell_type": "code",
      "execution_count": 29,
      "metadata": {
        "id": "vy0QI5WoSuy_"
      },
      "outputs": [],
      "source": [
        "submit.iloc[:,1:]=0\n",
        "for fold in range(5):\n",
        "  submit.iloc[:,1:] += cat_models[fold].predict_proba(test)/5"
      ]
    },
    {
      "cell_type": "code",
      "execution_count": 30,
      "metadata": {
        "id": "B3QpKGOeS73r"
      },
      "outputs": [],
      "source": [
        "import datetime\n",
        "now = datetime.datetime.now()\n",
        "created_time = now.strftime('%m%d-%H%M')\n",
        "\n",
        "submit.to_csv(f'/content/drive/MyDrive/ml_project/{created_time}_submit.csv',index=False)"
      ]
    },
    {
      "cell_type": "code",
      "execution_count": 31,
      "metadata": {
        "colab": {
          "base_uri": "https://localhost:8080/",
          "height": 676
        },
        "id": "lXWLYfphTRBG",
        "outputId": "0333ed81-c711-49bd-d292-582efe67f5ee"
      },
      "outputs": [
        {
          "output_type": "execute_result",
          "data": {
            "text/plain": [
              "    index         0         1         2\n",
              "0   26457  0.035305  0.153982  0.810713\n",
              "1   26458  0.163619  0.182191  0.654190\n",
              "2   26459  0.089724  0.146344  0.763933\n",
              "3   26460  0.125020  0.093029  0.781951\n",
              "4   26461  0.112421  0.177834  0.709745\n",
              "5   26462  0.049177  0.189581  0.761243\n",
              "6   26463  0.526367  0.453444  0.020189\n",
              "7   26464  0.142137  0.184005  0.673858\n",
              "8   26465  0.053407  0.134080  0.812512\n",
              "9   26466  0.046325  0.384666  0.569010\n",
              "10  26467  0.120827  0.168995  0.710178\n",
              "11  26468  0.094372  0.129155  0.776472\n",
              "12  26469  0.367876  0.100526  0.531598\n",
              "13  26470  0.161453  0.148432  0.690115\n",
              "14  26471  0.062729  0.163276  0.773995\n",
              "15  26472  0.083211  0.150159  0.766629\n",
              "16  26473  0.103792  0.166096  0.730113\n",
              "17  26474  0.280587  0.707106  0.012307\n",
              "18  26475  0.327089  0.169156  0.503755\n",
              "19  26476  0.053013  0.138861  0.808126"
            ],
            "text/html": [
              "\n",
              "  <div id=\"df-813205d9-db9a-4aff-888d-a0f3d5892b61\">\n",
              "    <div class=\"colab-df-container\">\n",
              "      <div>\n",
              "<style scoped>\n",
              "    .dataframe tbody tr th:only-of-type {\n",
              "        vertical-align: middle;\n",
              "    }\n",
              "\n",
              "    .dataframe tbody tr th {\n",
              "        vertical-align: top;\n",
              "    }\n",
              "\n",
              "    .dataframe thead th {\n",
              "        text-align: right;\n",
              "    }\n",
              "</style>\n",
              "<table border=\"1\" class=\"dataframe\">\n",
              "  <thead>\n",
              "    <tr style=\"text-align: right;\">\n",
              "      <th></th>\n",
              "      <th>index</th>\n",
              "      <th>0</th>\n",
              "      <th>1</th>\n",
              "      <th>2</th>\n",
              "    </tr>\n",
              "  </thead>\n",
              "  <tbody>\n",
              "    <tr>\n",
              "      <th>0</th>\n",
              "      <td>26457</td>\n",
              "      <td>0.035305</td>\n",
              "      <td>0.153982</td>\n",
              "      <td>0.810713</td>\n",
              "    </tr>\n",
              "    <tr>\n",
              "      <th>1</th>\n",
              "      <td>26458</td>\n",
              "      <td>0.163619</td>\n",
              "      <td>0.182191</td>\n",
              "      <td>0.654190</td>\n",
              "    </tr>\n",
              "    <tr>\n",
              "      <th>2</th>\n",
              "      <td>26459</td>\n",
              "      <td>0.089724</td>\n",
              "      <td>0.146344</td>\n",
              "      <td>0.763933</td>\n",
              "    </tr>\n",
              "    <tr>\n",
              "      <th>3</th>\n",
              "      <td>26460</td>\n",
              "      <td>0.125020</td>\n",
              "      <td>0.093029</td>\n",
              "      <td>0.781951</td>\n",
              "    </tr>\n",
              "    <tr>\n",
              "      <th>4</th>\n",
              "      <td>26461</td>\n",
              "      <td>0.112421</td>\n",
              "      <td>0.177834</td>\n",
              "      <td>0.709745</td>\n",
              "    </tr>\n",
              "    <tr>\n",
              "      <th>5</th>\n",
              "      <td>26462</td>\n",
              "      <td>0.049177</td>\n",
              "      <td>0.189581</td>\n",
              "      <td>0.761243</td>\n",
              "    </tr>\n",
              "    <tr>\n",
              "      <th>6</th>\n",
              "      <td>26463</td>\n",
              "      <td>0.526367</td>\n",
              "      <td>0.453444</td>\n",
              "      <td>0.020189</td>\n",
              "    </tr>\n",
              "    <tr>\n",
              "      <th>7</th>\n",
              "      <td>26464</td>\n",
              "      <td>0.142137</td>\n",
              "      <td>0.184005</td>\n",
              "      <td>0.673858</td>\n",
              "    </tr>\n",
              "    <tr>\n",
              "      <th>8</th>\n",
              "      <td>26465</td>\n",
              "      <td>0.053407</td>\n",
              "      <td>0.134080</td>\n",
              "      <td>0.812512</td>\n",
              "    </tr>\n",
              "    <tr>\n",
              "      <th>9</th>\n",
              "      <td>26466</td>\n",
              "      <td>0.046325</td>\n",
              "      <td>0.384666</td>\n",
              "      <td>0.569010</td>\n",
              "    </tr>\n",
              "    <tr>\n",
              "      <th>10</th>\n",
              "      <td>26467</td>\n",
              "      <td>0.120827</td>\n",
              "      <td>0.168995</td>\n",
              "      <td>0.710178</td>\n",
              "    </tr>\n",
              "    <tr>\n",
              "      <th>11</th>\n",
              "      <td>26468</td>\n",
              "      <td>0.094372</td>\n",
              "      <td>0.129155</td>\n",
              "      <td>0.776472</td>\n",
              "    </tr>\n",
              "    <tr>\n",
              "      <th>12</th>\n",
              "      <td>26469</td>\n",
              "      <td>0.367876</td>\n",
              "      <td>0.100526</td>\n",
              "      <td>0.531598</td>\n",
              "    </tr>\n",
              "    <tr>\n",
              "      <th>13</th>\n",
              "      <td>26470</td>\n",
              "      <td>0.161453</td>\n",
              "      <td>0.148432</td>\n",
              "      <td>0.690115</td>\n",
              "    </tr>\n",
              "    <tr>\n",
              "      <th>14</th>\n",
              "      <td>26471</td>\n",
              "      <td>0.062729</td>\n",
              "      <td>0.163276</td>\n",
              "      <td>0.773995</td>\n",
              "    </tr>\n",
              "    <tr>\n",
              "      <th>15</th>\n",
              "      <td>26472</td>\n",
              "      <td>0.083211</td>\n",
              "      <td>0.150159</td>\n",
              "      <td>0.766629</td>\n",
              "    </tr>\n",
              "    <tr>\n",
              "      <th>16</th>\n",
              "      <td>26473</td>\n",
              "      <td>0.103792</td>\n",
              "      <td>0.166096</td>\n",
              "      <td>0.730113</td>\n",
              "    </tr>\n",
              "    <tr>\n",
              "      <th>17</th>\n",
              "      <td>26474</td>\n",
              "      <td>0.280587</td>\n",
              "      <td>0.707106</td>\n",
              "      <td>0.012307</td>\n",
              "    </tr>\n",
              "    <tr>\n",
              "      <th>18</th>\n",
              "      <td>26475</td>\n",
              "      <td>0.327089</td>\n",
              "      <td>0.169156</td>\n",
              "      <td>0.503755</td>\n",
              "    </tr>\n",
              "    <tr>\n",
              "      <th>19</th>\n",
              "      <td>26476</td>\n",
              "      <td>0.053013</td>\n",
              "      <td>0.138861</td>\n",
              "      <td>0.808126</td>\n",
              "    </tr>\n",
              "  </tbody>\n",
              "</table>\n",
              "</div>\n",
              "      <button class=\"colab-df-convert\" onclick=\"convertToInteractive('df-813205d9-db9a-4aff-888d-a0f3d5892b61')\"\n",
              "              title=\"Convert this dataframe to an interactive table.\"\n",
              "              style=\"display:none;\">\n",
              "        \n",
              "  <svg xmlns=\"http://www.w3.org/2000/svg\" height=\"24px\"viewBox=\"0 0 24 24\"\n",
              "       width=\"24px\">\n",
              "    <path d=\"M0 0h24v24H0V0z\" fill=\"none\"/>\n",
              "    <path d=\"M18.56 5.44l.94 2.06.94-2.06 2.06-.94-2.06-.94-.94-2.06-.94 2.06-2.06.94zm-11 1L8.5 8.5l.94-2.06 2.06-.94-2.06-.94L8.5 2.5l-.94 2.06-2.06.94zm10 10l.94 2.06.94-2.06 2.06-.94-2.06-.94-.94-2.06-.94 2.06-2.06.94z\"/><path d=\"M17.41 7.96l-1.37-1.37c-.4-.4-.92-.59-1.43-.59-.52 0-1.04.2-1.43.59L10.3 9.45l-7.72 7.72c-.78.78-.78 2.05 0 2.83L4 21.41c.39.39.9.59 1.41.59.51 0 1.02-.2 1.41-.59l7.78-7.78 2.81-2.81c.8-.78.8-2.07 0-2.86zM5.41 20L4 18.59l7.72-7.72 1.47 1.35L5.41 20z\"/>\n",
              "  </svg>\n",
              "      </button>\n",
              "      \n",
              "  <style>\n",
              "    .colab-df-container {\n",
              "      display:flex;\n",
              "      flex-wrap:wrap;\n",
              "      gap: 12px;\n",
              "    }\n",
              "\n",
              "    .colab-df-convert {\n",
              "      background-color: #E8F0FE;\n",
              "      border: none;\n",
              "      border-radius: 50%;\n",
              "      cursor: pointer;\n",
              "      display: none;\n",
              "      fill: #1967D2;\n",
              "      height: 32px;\n",
              "      padding: 0 0 0 0;\n",
              "      width: 32px;\n",
              "    }\n",
              "\n",
              "    .colab-df-convert:hover {\n",
              "      background-color: #E2EBFA;\n",
              "      box-shadow: 0px 1px 2px rgba(60, 64, 67, 0.3), 0px 1px 3px 1px rgba(60, 64, 67, 0.15);\n",
              "      fill: #174EA6;\n",
              "    }\n",
              "\n",
              "    [theme=dark] .colab-df-convert {\n",
              "      background-color: #3B4455;\n",
              "      fill: #D2E3FC;\n",
              "    }\n",
              "\n",
              "    [theme=dark] .colab-df-convert:hover {\n",
              "      background-color: #434B5C;\n",
              "      box-shadow: 0px 1px 3px 1px rgba(0, 0, 0, 0.15);\n",
              "      filter: drop-shadow(0px 1px 2px rgba(0, 0, 0, 0.3));\n",
              "      fill: #FFFFFF;\n",
              "    }\n",
              "  </style>\n",
              "\n",
              "      <script>\n",
              "        const buttonEl =\n",
              "          document.querySelector('#df-813205d9-db9a-4aff-888d-a0f3d5892b61 button.colab-df-convert');\n",
              "        buttonEl.style.display =\n",
              "          google.colab.kernel.accessAllowed ? 'block' : 'none';\n",
              "\n",
              "        async function convertToInteractive(key) {\n",
              "          const element = document.querySelector('#df-813205d9-db9a-4aff-888d-a0f3d5892b61');\n",
              "          const dataTable =\n",
              "            await google.colab.kernel.invokeFunction('convertToInteractive',\n",
              "                                                     [key], {});\n",
              "          if (!dataTable) return;\n",
              "\n",
              "          const docLinkHtml = 'Like what you see? Visit the ' +\n",
              "            '<a target=\"_blank\" href=https://colab.research.google.com/notebooks/data_table.ipynb>data table notebook</a>'\n",
              "            + ' to learn more about interactive tables.';\n",
              "          element.innerHTML = '';\n",
              "          dataTable['output_type'] = 'display_data';\n",
              "          await google.colab.output.renderOutput(dataTable, element);\n",
              "          const docLink = document.createElement('div');\n",
              "          docLink.innerHTML = docLinkHtml;\n",
              "          element.appendChild(docLink);\n",
              "        }\n",
              "      </script>\n",
              "    </div>\n",
              "  </div>\n",
              "  "
            ]
          },
          "metadata": {},
          "execution_count": 31
        }
      ],
      "source": [
        "submit.head(20)"
      ]
    },
    {
      "cell_type": "code",
      "execution_count": null,
      "metadata": {
        "id": "_kdsyNQlMMMr"
      },
      "outputs": [],
      "source": []
    }
  ],
  "metadata": {
    "colab": {
      "machine_shape": "hm",
      "provenance": [],
      "include_colab_link": true
    },
    "kernelspec": {
      "display_name": "Python 3",
      "name": "python3"
    },
    "language_info": {
      "name": "python"
    }
  },
  "nbformat": 4,
  "nbformat_minor": 0
}