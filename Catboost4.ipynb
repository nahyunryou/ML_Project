{
  "cells": [
    {
      "cell_type": "markdown",
      "metadata": {
        "id": "view-in-github",
        "colab_type": "text"
      },
      "source": [
        "<a href=\"https://colab.research.google.com/github/nahyunryou/ML_Project/blob/main/Catboost4.ipynb\" target=\"_parent\"><img src=\"https://colab.research.google.com/assets/colab-badge.svg\" alt=\"Open In Colab\"/></a>"
      ]
    },
    {
      "cell_type": "code",
      "execution_count": 17,
      "metadata": {
        "colab": {
          "base_uri": "https://localhost:8080/"
        },
        "id": "XFm2woNIYBRY",
        "outputId": "c4eb4176-5ab5-498c-fc8b-8397f1586104"
      },
      "outputs": [
        {
          "output_type": "stream",
          "name": "stdout",
          "text": [
            "Looking in indexes: https://pypi.org/simple, https://us-python.pkg.dev/colab-wheels/public/simple/\n",
            "Requirement already satisfied: catboost in /usr/local/lib/python3.8/dist-packages (1.1.1)\n",
            "Requirement already satisfied: plotly in /usr/local/lib/python3.8/dist-packages (from catboost) (5.5.0)\n",
            "Requirement already satisfied: graphviz in /usr/local/lib/python3.8/dist-packages (from catboost) (0.10.1)\n",
            "Requirement already satisfied: six in /usr/local/lib/python3.8/dist-packages (from catboost) (1.15.0)\n",
            "Requirement already satisfied: pandas>=0.24.0 in /usr/local/lib/python3.8/dist-packages (from catboost) (1.3.5)\n",
            "Requirement already satisfied: scipy in /usr/local/lib/python3.8/dist-packages (from catboost) (1.7.3)\n",
            "Requirement already satisfied: matplotlib in /usr/local/lib/python3.8/dist-packages (from catboost) (3.2.2)\n",
            "Requirement already satisfied: numpy>=1.16.0 in /usr/local/lib/python3.8/dist-packages (from catboost) (1.21.6)\n",
            "Requirement already satisfied: python-dateutil>=2.7.3 in /usr/local/lib/python3.8/dist-packages (from pandas>=0.24.0->catboost) (2.8.2)\n",
            "Requirement already satisfied: pytz>=2017.3 in /usr/local/lib/python3.8/dist-packages (from pandas>=0.24.0->catboost) (2022.6)\n",
            "Requirement already satisfied: kiwisolver>=1.0.1 in /usr/local/lib/python3.8/dist-packages (from matplotlib->catboost) (1.4.4)\n",
            "Requirement already satisfied: cycler>=0.10 in /usr/local/lib/python3.8/dist-packages (from matplotlib->catboost) (0.11.0)\n",
            "Requirement already satisfied: pyparsing!=2.0.4,!=2.1.2,!=2.1.6,>=2.0.1 in /usr/local/lib/python3.8/dist-packages (from matplotlib->catboost) (3.0.9)\n",
            "Requirement already satisfied: tenacity>=6.2.0 in /usr/local/lib/python3.8/dist-packages (from plotly->catboost) (8.1.0)\n"
          ]
        }
      ],
      "source": [
        "!pip3 install catboost"
      ]
    },
    {
      "cell_type": "code",
      "execution_count": 18,
      "metadata": {
        "colab": {
          "base_uri": "https://localhost:8080/"
        },
        "id": "nW-1dB3PYDWe",
        "outputId": "f79de815-f85b-43fd-9faf-1cb3aef9d692"
      },
      "outputs": [
        {
          "output_type": "stream",
          "name": "stdout",
          "text": [
            "Looking in indexes: https://pypi.org/simple, https://us-python.pkg.dev/colab-wheels/public/simple/\n",
            "Requirement already satisfied: optuna in /usr/local/lib/python3.8/dist-packages (3.0.4)\n",
            "Requirement already satisfied: alembic>=1.5.0 in /usr/local/lib/python3.8/dist-packages (from optuna) (1.8.1)\n",
            "Requirement already satisfied: tqdm in /usr/local/lib/python3.8/dist-packages (from optuna) (4.64.1)\n",
            "Requirement already satisfied: sqlalchemy>=1.3.0 in /usr/local/lib/python3.8/dist-packages (from optuna) (1.4.44)\n",
            "Requirement already satisfied: PyYAML in /usr/local/lib/python3.8/dist-packages (from optuna) (6.0)\n",
            "Requirement already satisfied: scipy<1.9.0,>=1.7.0 in /usr/local/lib/python3.8/dist-packages (from optuna) (1.7.3)\n",
            "Requirement already satisfied: cliff in /usr/local/lib/python3.8/dist-packages (from optuna) (4.1.0)\n",
            "Requirement already satisfied: importlib-metadata<5.0.0 in /usr/local/lib/python3.8/dist-packages (from optuna) (4.13.0)\n",
            "Requirement already satisfied: numpy in /usr/local/lib/python3.8/dist-packages (from optuna) (1.21.6)\n",
            "Requirement already satisfied: colorlog in /usr/local/lib/python3.8/dist-packages (from optuna) (6.7.0)\n",
            "Requirement already satisfied: packaging>=20.0 in /usr/local/lib/python3.8/dist-packages (from optuna) (21.3)\n",
            "Requirement already satisfied: cmaes>=0.8.2 in /usr/local/lib/python3.8/dist-packages (from optuna) (0.9.0)\n",
            "Requirement already satisfied: importlib-resources in /usr/local/lib/python3.8/dist-packages (from alembic>=1.5.0->optuna) (5.10.0)\n",
            "Requirement already satisfied: Mako in /usr/local/lib/python3.8/dist-packages (from alembic>=1.5.0->optuna) (1.2.4)\n",
            "Requirement already satisfied: zipp>=0.5 in /usr/local/lib/python3.8/dist-packages (from importlib-metadata<5.0.0->optuna) (3.11.0)\n",
            "Requirement already satisfied: pyparsing!=3.0.5,>=2.0.2 in /usr/local/lib/python3.8/dist-packages (from packaging>=20.0->optuna) (3.0.9)\n",
            "Requirement already satisfied: greenlet!=0.4.17 in /usr/local/lib/python3.8/dist-packages (from sqlalchemy>=1.3.0->optuna) (2.0.1)\n",
            "Requirement already satisfied: autopage>=0.4.0 in /usr/local/lib/python3.8/dist-packages (from cliff->optuna) (0.5.1)\n",
            "Requirement already satisfied: PrettyTable>=0.7.2 in /usr/local/lib/python3.8/dist-packages (from cliff->optuna) (3.5.0)\n",
            "Requirement already satisfied: cmd2>=1.0.0 in /usr/local/lib/python3.8/dist-packages (from cliff->optuna) (2.4.2)\n",
            "Requirement already satisfied: stevedore>=2.0.1 in /usr/local/lib/python3.8/dist-packages (from cliff->optuna) (4.1.1)\n",
            "Requirement already satisfied: attrs>=16.3.0 in /usr/local/lib/python3.8/dist-packages (from cmd2>=1.0.0->cliff->optuna) (22.1.0)\n",
            "Requirement already satisfied: wcwidth>=0.1.7 in /usr/local/lib/python3.8/dist-packages (from cmd2>=1.0.0->cliff->optuna) (0.2.5)\n",
            "Requirement already satisfied: pyperclip>=1.6 in /usr/local/lib/python3.8/dist-packages (from cmd2>=1.0.0->cliff->optuna) (1.8.2)\n",
            "Requirement already satisfied: pbr!=2.1.0,>=2.0.0 in /usr/local/lib/python3.8/dist-packages (from stevedore>=2.0.1->cliff->optuna) (5.11.0)\n",
            "Requirement already satisfied: MarkupSafe>=0.9.2 in /usr/local/lib/python3.8/dist-packages (from Mako->alembic>=1.5.0->optuna) (2.0.1)\n"
          ]
        }
      ],
      "source": [
        "!pip install optuna"
      ]
    },
    {
      "cell_type": "code",
      "execution_count": 19,
      "metadata": {
        "id": "CQBWHsKcPWVc"
      },
      "outputs": [],
      "source": [
        "import warnings\n",
        "warnings.filterwarnings('ignore')\n",
        "\n",
        "import glob\n",
        "import pandas as pd\n",
        "import numpy as np\n",
        "\n",
        "from catboost import CatBoostClassifier\n",
        "from sklearn.model_selection import StratifiedKFold,train_test_split\n",
        "from sklearn.metrics import log_loss\n",
        "from sklearn.preprocessing import OneHotEncoder\n",
        "import random\n",
        "\n",
        "import optuna\n",
        "from optuna.samplers import TPESampler"
      ]
    },
    {
      "cell_type": "code",
      "execution_count": 20,
      "metadata": {
        "colab": {
          "base_uri": "https://localhost:8080/"
        },
        "id": "Z0YnN38gCIaD",
        "outputId": "a33cfdac-9177-4334-ce16-c76c4cb8a0fb"
      },
      "outputs": [
        {
          "output_type": "stream",
          "name": "stdout",
          "text": [
            "Drive already mounted at /content/drive; to attempt to forcibly remount, call drive.mount(\"/content/drive\", force_remount=True).\n"
          ]
        }
      ],
      "source": [
        "from google.colab import drive\n",
        "drive.mount('/content/drive')"
      ]
    },
    {
      "cell_type": "code",
      "execution_count": 21,
      "metadata": {
        "id": "-tAWdE1eQAQ7"
      },
      "outputs": [],
      "source": [
        "train = pd.read_csv('/content/drive/MyDrive/ml_project/processed_train_code.csv')\n",
        "#train = train.drop(['index'], axis=1)\n",
        "train.fillna('NAN',inplace=True)\n",
        "\n",
        "test = pd.read_csv('/content/drive/MyDrive/ml_project/processed_test_code.csv')\n",
        "#test = test.drop(['index'],axis=1)\n",
        "test.fillna('NAN',inplace=True)\n",
        "\n",
        "submit = pd.read_csv('/content/drive/MyDrive/ml_project/sample_submission.csv')"
      ]
    },
    {
      "cell_type": "code",
      "execution_count": 22,
      "metadata": {
        "id": "KR7YbBAIWHV1"
      },
      "outputs": [],
      "source": [
        "edu_dict = {'Lower secondary':1,\n",
        " 'Secondary / secondary special':2,\n",
        " 'Incomplete higher':3,\n",
        " 'Higher education':4,\n",
        " 'Academic degree':5}\n",
        "\n",
        "train['edu_type'].replace(edu_dict,inplace=True)\n",
        "test['edu_type'].replace(edu_dict,inplace=True)"
      ]
    },
    {
      "cell_type": "code",
      "execution_count": 23,
      "metadata": {
        "id": "5NvHDjB0nHUL"
      },
      "outputs": [],
      "source": [
        "house_dict = {'With parents':3,\n",
        " 'Co-op apartment':2,\n",
        " 'Municipal apartment':1,\n",
        " 'Rented apartment':4,\n",
        " 'Office apartment':5,\n",
        " 'House / apartment':6}\n",
        "\n",
        "train['house_type'].replace(house_dict,inplace=True)\n",
        "test['house_type'].replace(house_dict,inplace=True)"
      ]
    },
    {
      "cell_type": "code",
      "execution_count": 24,
      "metadata": {
        "colab": {
          "base_uri": "https://localhost:8080/"
        },
        "id": "GGZImp3XkB4I",
        "outputId": "37eaa29c-99ea-40c2-a7ac-3d1e2df129a5"
      },
      "outputs": [
        {
          "output_type": "stream",
          "name": "stdout",
          "text": [
            "<class 'pandas.core.frame.DataFrame'>\n",
            "RangeIndex: 24817 entries, 0 to 24816\n",
            "Data columns (total 29 columns):\n",
            " #   Column             Non-Null Count  Dtype  \n",
            "---  ------             --------------  -----  \n",
            " 0   Unnamed: 0         24817 non-null  int64  \n",
            " 1   gender             24817 non-null  object \n",
            " 2   car                24817 non-null  object \n",
            " 3   reality            24817 non-null  object \n",
            " 4   income_total       24817 non-null  float64\n",
            " 5   income_type        24817 non-null  object \n",
            " 6   edu_type           24817 non-null  int64  \n",
            " 7   family_type        24817 non-null  object \n",
            " 8   house_type         24817 non-null  int64  \n",
            " 9   work_phone         24817 non-null  int64  \n",
            " 10  home_phone         24817 non-null  int64  \n",
            " 11  email              24817 non-null  int64  \n",
            " 12  occup_type         24817 non-null  object \n",
            " 13  family_size        24817 non-null  float64\n",
            " 14  begin_month        24817 non-null  int64  \n",
            " 15  credit             24817 non-null  float64\n",
            " 16  CODE               24817 non-null  object \n",
            " 17  days_unemployed    24817 non-null  int64  \n",
            " 18  income_unemployed  24817 non-null  float64\n",
            " 19  Age                24817 non-null  int64  \n",
            " 20  birth_month        24817 non-null  float64\n",
            " 21  birth_week         24817 non-null  float64\n",
            " 22  ages_employed      24817 non-null  int64  \n",
            " 23  employ_month       24817 non-null  float64\n",
            " 24  employ_week        24817 non-null  float64\n",
            " 25  ages_unemployed    24817 non-null  int64  \n",
            " 26  unemploy_month     24817 non-null  float64\n",
            " 27  unemploy_week      24817 non-null  float64\n",
            " 28  income_family      24817 non-null  float64\n",
            "dtypes: float64(11), int64(11), object(7)\n",
            "memory usage: 5.5+ MB\n"
          ]
        }
      ],
      "source": [
        "train.info()"
      ]
    },
    {
      "cell_type": "markdown",
      "metadata": {
        "id": "-JaWhfFYsgkP"
      },
      "source": [
        "#Training"
      ]
    },
    {
      "cell_type": "code",
      "execution_count": 25,
      "metadata": {
        "id": "bsH9mEHs1LU-"
      },
      "outputs": [],
      "source": [
        "#Optuna용 Train셋\n",
        "X = train.drop(['credit'],axis=1)\n",
        "y = train['credit']\n",
        "X_test = test.copy()"
      ]
    },
    {
      "cell_type": "code",
      "execution_count": 56,
      "metadata": {
        "id": "_X3xpkC80xe5"
      },
      "outputs": [],
      "source": [
        "def objective(trial):\n",
        "  param = {\n",
        "      \"random_state\":42,\n",
        "      'learning_rate' : trial.suggest_loguniform('learning_rate', 0.01, 0.3),\n",
        "      'bagging_temperature' :trial.suggest_loguniform('bagging_temperature', 0.01, 100.00),\n",
        "      \"n_estimators\":trial.suggest_int(\"n_estimators\", 1000, 10000),\n",
        "      \"max_depth\":trial.suggest_int(\"max_depth\", 4, 16),\n",
        "      'random_strength' :trial.suggest_int('random_strength', 0, 100),\n",
        "      \"colsample_bylevel\":trial.suggest_float(\"colsample_bylevel\", 0.4, 1.0),\n",
        "      \"l2_leaf_reg\":trial.suggest_float(\"l2_leaf_reg\",1e-8,3e-5),\n",
        "      \"min_child_samples\": trial.suggest_int(\"min_child_samples\", 5, 100),\n",
        "      \"max_bin\": trial.suggest_int(\"max_bin\", 200, 500),\n",
        "      'od_type': trial.suggest_categorical('od_type', ['IncToDec', 'Iter']),\n",
        "  }\n",
        "\n",
        "  X_train, X_valid, y_train, y_valid = train_test_split(X,y,test_size=0.2)\n",
        "  \n",
        "  \n",
        "  cat_features =[0,1,2,3,5,6,7,8,12,15]\n",
        "  #cat_features =[1,2,3,5,7,12,16]\n",
        "  cat = CatBoostClassifier(**param)\n",
        "  cat.fit(X_train, y_train,\n",
        "          eval_set=[(X_train, y_train), (X_valid,y_valid)],\n",
        "          early_stopping_rounds=35,cat_features=cat_features,\n",
        "          verbose=100)\n",
        "  cat_pred = cat.predict_proba(X_valid)\n",
        "  log_score = log_loss(y_valid, cat_pred)\n",
        "\n",
        "  return log_score"
      ]
    },
    {
      "cell_type": "code",
      "execution_count": 57,
      "metadata": {
        "colab": {
          "base_uri": "https://localhost:8080/"
        },
        "id": "37SNdUf10036",
        "outputId": "1b8d8779-2282-44ed-cf3a-80adca3ea791"
      },
      "outputs": [
        {
          "output_type": "stream",
          "name": "stderr",
          "text": [
            "\u001b[32m[I 2022-12-08 15:18:10,546]\u001b[0m A new study created in memory with name: cat_parameter_opt\u001b[0m\n"
          ]
        },
        {
          "output_type": "stream",
          "name": "stdout",
          "text": [
            "0:\tlearn: 1.0831813\ttest: 1.0831813\ttest1: 1.0834314\tbest: 1.0834314 (0)\ttotal: 15.8ms\tremaining: 1m 59s\n",
            "100:\tlearn: 0.8863654\ttest: 0.8863654\ttest1: 0.8910306\tbest: 0.8910306 (100)\ttotal: 1.25s\tremaining: 1m 32s\n"
          ]
        },
        {
          "output_type": "stream",
          "name": "stderr",
          "text": [
            "\u001b[32m[I 2022-12-08 15:18:13,121]\u001b[0m Trial 0 finished with value: 0.8909113844295762 and parameters: {'learning_rate': 0.03574712922600244, 'bagging_temperature': 63.512210106407046, 'n_estimators': 7588, 'max_depth': 11, 'random_strength': 15, 'colsample_bylevel': 0.49359671220172163, 'l2_leaf_reg': 1.7519275289243016e-06, 'min_child_samples': 88, 'max_bin': 380, 'od_type': 'IncToDec'}. Best is trial 0 with value: 0.8909113844295762.\u001b[0m\n"
          ]
        },
        {
          "output_type": "stream",
          "name": "stdout",
          "text": [
            "Stopped by overfitting detector  (35 iterations wait)\n",
            "\n",
            "bestTest = 0.8909113844\n",
            "bestIteration = 151\n",
            "\n",
            "Shrink model to first 152 iterations.\n",
            "0:\tlearn: 0.9953120\ttest: 0.9953120\ttest1: 0.9958664\tbest: 0.9958664 (0)\ttotal: 94.7ms\tremaining: 4m 35s\n",
            "100:\tlearn: 0.7032696\ttest: 0.7143863\ttest1: 0.8012717\tbest: 0.8009552 (97)\ttotal: 8.84s\tremaining: 4m 5s\n",
            "200:\tlearn: 0.6123847\ttest: 0.6331863\ttest1: 0.7911360\tbest: 0.7904294 (195)\ttotal: 17.6s\tremaining: 3m 56s\n"
          ]
        },
        {
          "output_type": "stream",
          "name": "stderr",
          "text": [
            "\u001b[32m[I 2022-12-08 15:18:34,681]\u001b[0m Trial 1 finished with value: 0.7891585836657066 and parameters: {'learning_rate': 0.2708160864249968, 'bagging_temperature': 21.368329072358772, 'n_estimators': 2911, 'max_depth': 6, 'random_strength': 18, 'colsample_bylevel': 0.5825453457757226, 'l2_leaf_reg': 1.5747445384650815e-05, 'min_child_samples': 46, 'max_bin': 287, 'od_type': 'IncToDec'}. Best is trial 1 with value: 0.7891585836657066.\u001b[0m\n"
          ]
        },
        {
          "output_type": "stream",
          "name": "stdout",
          "text": [
            "Stopped by overfitting detector  (35 iterations wait)\n",
            "\n",
            "bestTest = 0.7891585837\n",
            "bestIteration = 208\n",
            "\n",
            "Shrink model to first 209 iterations.\n",
            "0:\tlearn: 1.0868880\ttest: 1.0869335\ttest1: 1.0867931\tbest: 1.0867931 (0)\ttotal: 190ms\tremaining: 16m 7s\n",
            "100:\tlearn: 0.8154567\ttest: 0.7235749\ttest1: 0.7966702\tbest: 0.7966702 (100)\ttotal: 43.3s\tremaining: 35m 44s\n",
            "200:\tlearn: 0.7775666\ttest: 0.6218153\ttest1: 0.7499470\tbest: 0.7499470 (200)\ttotal: 1m 15s\tremaining: 30m 31s\n",
            "300:\tlearn: 0.7583716\ttest: 0.5803972\ttest1: 0.7323084\tbest: 0.7323084 (300)\ttotal: 2m\tremaining: 32m 10s\n",
            "400:\tlearn: 0.7365850\ttest: 0.5538454\ttest1: 0.7167641\tbest: 0.7167641 (400)\ttotal: 2m 42s\tremaining: 31m 43s\n",
            "500:\tlearn: 0.6058432\ttest: 0.5041669\ttest1: 0.6981525\tbest: 0.6980690 (499)\ttotal: 5m 20s\tremaining: 49m 9s\n",
            "Stopped by overfitting detector  (35 iterations wait)\n",
            "\n",
            "bestTest = 0.6974005862\n",
            "bestIteration = 524\n",
            "\n",
            "Shrink model to first 525 iterations.\n"
          ]
        },
        {
          "output_type": "stream",
          "name": "stderr",
          "text": [
            "\u001b[32m[I 2022-12-08 15:26:29,561]\u001b[0m Trial 2 finished with value: 0.6974005861729224 and parameters: {'learning_rate': 0.027010527749605478, 'bagging_temperature': 0.2920433847181412, 'n_estimators': 5105, 'max_depth': 14, 'random_strength': 20, 'colsample_bylevel': 0.708540663048167, 'l2_leaf_reg': 1.7776512920172654e-05, 'min_child_samples': 9, 'max_bin': 382, 'od_type': 'IncToDec'}. Best is trial 2 with value: 0.6974005861729224.\u001b[0m\n"
          ]
        },
        {
          "output_type": "stream",
          "name": "stdout",
          "text": [
            "0:\tlearn: 1.0017987\ttest: 1.0017987\ttest1: 1.0045691\tbest: 1.0045691 (0)\ttotal: 24ms\tremaining: 3m 18s\n"
          ]
        },
        {
          "output_type": "stream",
          "name": "stderr",
          "text": [
            "\u001b[32m[I 2022-12-08 15:26:30,532]\u001b[0m Trial 3 finished with value: 0.8943082100407402 and parameters: {'learning_rate': 0.2521267904777921, 'bagging_temperature': 72.86653737491046, 'n_estimators': 8276, 'max_depth': 7, 'random_strength': 9, 'colsample_bylevel': 0.8105398159072941, 'l2_leaf_reg': 1.3210173287250643e-05, 'min_child_samples': 16, 'max_bin': 349, 'od_type': 'Iter'}. Best is trial 2 with value: 0.6974005861729224.\u001b[0m\n"
          ]
        },
        {
          "output_type": "stream",
          "name": "stdout",
          "text": [
            "Stopped by overfitting detector  (35 iterations wait)\n",
            "\n",
            "bestTest = 0.89430821\n",
            "bestIteration = 14\n",
            "\n",
            "Shrink model to first 15 iterations.\n",
            "0:\tlearn: 1.0882079\ttest: 1.0882079\ttest1: 1.0880428\tbest: 1.0880428 (0)\ttotal: 75.4ms\tremaining: 4m 46s\n",
            "100:\tlearn: 0.7843660\ttest: 0.6949774\ttest1: 0.7733170\tbest: 0.7733170 (100)\ttotal: 18s\tremaining: 11m\n",
            "200:\tlearn: 0.7222457\ttest: 0.5989015\ttest1: 0.7311765\tbest: 0.7311765 (200)\ttotal: 38.1s\tremaining: 11m 23s\n",
            "300:\tlearn: 0.6836514\ttest: 0.5575061\ttest1: 0.7180650\tbest: 0.7180650 (300)\ttotal: 57.1s\tremaining: 11m 4s\n",
            "400:\tlearn: 0.6399917\ttest: 0.5332455\ttest1: 0.7112290\tbest: 0.7112290 (400)\ttotal: 1m 19s\tremaining: 11m 14s\n",
            "500:\tlearn: 0.5748857\ttest: 0.5085648\ttest1: 0.7060552\tbest: 0.7060552 (500)\ttotal: 1m 44s\tremaining: 11m 28s\n",
            "Stopped by overfitting detector  (35 iterations wait)\n",
            "\n",
            "bestTest = 0.7052354324\n",
            "bestIteration = 533\n",
            "\n",
            "Shrink model to first 534 iterations.\n"
          ]
        },
        {
          "output_type": "stream",
          "name": "stderr",
          "text": [
            "\u001b[32m[I 2022-12-08 15:28:33,331]\u001b[0m Trial 4 finished with value: 0.7052354324074405 and parameters: {'learning_rate': 0.024112898115291985, 'bagging_temperature': 4.467752817973908, 'n_estimators': 3805, 'max_depth': 10, 'random_strength': 55, 'colsample_bylevel': 0.5109126733153162, 'l2_leaf_reg': 2.9087842986659113e-05, 'min_child_samples': 79, 'max_bin': 482, 'od_type': 'IncToDec'}. Best is trial 2 with value: 0.6974005861729224.\u001b[0m\n"
          ]
        },
        {
          "output_type": "stream",
          "name": "stdout",
          "text": [
            "0:\tlearn: 1.0082770\ttest: 1.0083485\ttest1: 1.0123254\tbest: 1.0123254 (0)\ttotal: 60.6ms\tremaining: 2m 47s\n",
            "100:\tlearn: 0.7283039\ttest: 0.5060505\ttest1: 0.7111147\tbest: 0.7110559 (94)\ttotal: 7.65s\tremaining: 3m 21s\n"
          ]
        },
        {
          "output_type": "stream",
          "name": "stderr",
          "text": [
            "\u001b[32m[I 2022-12-08 15:28:44,473]\u001b[0m Trial 5 finished with value: 0.7106220783900055 and parameters: {'learning_rate': 0.22999586428143728, 'bagging_temperature': 0.022592797420156956, 'n_estimators': 2764, 'max_depth': 4, 'random_strength': 32, 'colsample_bylevel': 0.6332063738136893, 'l2_leaf_reg': 8.147757462899138e-06, 'min_child_samples': 84, 'max_bin': 307, 'od_type': 'Iter'}. Best is trial 2 with value: 0.6974005861729224.\u001b[0m\n"
          ]
        },
        {
          "output_type": "stream",
          "name": "stdout",
          "text": [
            "Stopped by overfitting detector  (35 iterations wait)\n",
            "\n",
            "bestTest = 0.7106220784\n",
            "bestIteration = 102\n",
            "\n",
            "Shrink model to first 103 iterations.\n",
            "0:\tlearn: 1.0843330\ttest: 1.0843330\ttest1: 1.0896386\tbest: 1.0896386 (0)\ttotal: 6.07s\tremaining: 2h 48m 56s\n",
            "100:\tlearn: 0.4471253\ttest: 0.5404783\ttest1: 0.8018948\tbest: 0.8018948 (100)\ttotal: 11m 12s\tremaining: 2h 54m 17s\n",
            "Stopped by overfitting detector  (35 iterations wait)\n",
            "\n",
            "bestTest = 0.7837153159\n",
            "bestIteration = 157\n",
            "\n",
            "Shrink model to first 158 iterations.\n"
          ]
        },
        {
          "output_type": "stream",
          "name": "stderr",
          "text": [
            "\u001b[32m[I 2022-12-08 15:50:36,852]\u001b[0m Trial 6 finished with value: 0.7837153158864997 and parameters: {'learning_rate': 0.016149614799999188, 'bagging_temperature': 16.172900811143155, 'n_estimators': 1671, 'max_depth': 16, 'random_strength': 77, 'colsample_bylevel': 0.5192294089205034, 'l2_leaf_reg': 1.7560829253683595e-07, 'min_child_samples': 83, 'max_bin': 412, 'od_type': 'Iter'}. Best is trial 2 with value: 0.6974005861729224.\u001b[0m\n"
          ]
        },
        {
          "output_type": "stream",
          "name": "stdout",
          "text": [
            "0:\tlearn: 1.0929203\ttest: 1.0929771\ttest1: 1.0930312\tbest: 1.0930312 (0)\ttotal: 5.51s\tremaining: 3h 7m 37s\n",
            "100:\tlearn: 0.8832804\ttest: 0.8488796\ttest1: 0.8803172\tbest: 0.8803172 (100)\ttotal: 39.7s\tremaining: 12m 42s\n",
            "200:\tlearn: 0.8469586\ttest: 0.7768678\ttest1: 0.8393213\tbest: 0.8393213 (200)\ttotal: 1m 10s\tremaining: 10m 45s\n",
            "300:\tlearn: 0.8278435\ttest: 0.7275339\ttest1: 0.8166289\tbest: 0.8166289 (300)\ttotal: 1m 36s\tremaining: 9m 15s\n",
            "400:\tlearn: 0.8201411\ttest: 0.7058922\ttest1: 0.8081175\tbest: 0.8081174 (399)\ttotal: 1m 59s\tremaining: 8m 10s\n",
            "500:\tlearn: 0.8078819\ttest: 0.6714149\ttest1: 0.7935872\tbest: 0.7935872 (500)\ttotal: 2m 36s\tremaining: 8m\n",
            "600:\tlearn: 0.8000514\ttest: 0.6532995\ttest1: 0.7864659\tbest: 0.7864659 (600)\ttotal: 3m 6s\tremaining: 7m 27s\n",
            "700:\tlearn: 0.7914357\ttest: 0.6301330\ttest1: 0.7772267\tbest: 0.7772267 (700)\ttotal: 3m 35s\tremaining: 6m 51s\n",
            "800:\tlearn: 0.7820521\ttest: 0.6133368\ttest1: 0.7685393\tbest: 0.7685393 (800)\ttotal: 4m 11s\tremaining: 6m 30s\n",
            "900:\tlearn: 0.7610011\ttest: 0.5883392\ttest1: 0.7498285\tbest: 0.7498285 (900)\ttotal: 4m 47s\tremaining: 6m 3s\n",
            "1000:\tlearn: 0.7326696\ttest: 0.5578468\ttest1: 0.7278246\tbest: 0.7278246 (1000)\ttotal: 5m 47s\tremaining: 6m 1s\n",
            "1100:\tlearn: 0.6500258\ttest: 0.5198307\ttest1: 0.7134159\tbest: 0.7133550 (1099)\ttotal: 9m 45s\tremaining: 8m 20s\n",
            "Stopped by overfitting detector  (35 iterations wait)\n",
            "\n",
            "bestTest = 0.7105080562\n",
            "bestIteration = 1139\n",
            "\n",
            "Shrink model to first 1140 iterations.\n"
          ]
        },
        {
          "output_type": "stream",
          "name": "stderr",
          "text": [
            "\u001b[32m[I 2022-12-08 16:05:28,093]\u001b[0m Trial 7 finished with value: 0.7105080562051497 and parameters: {'learning_rate': 0.012863908101989912, 'bagging_temperature': 0.27155819552829413, 'n_estimators': 2042, 'max_depth': 15, 'random_strength': 62, 'colsample_bylevel': 0.5985388149115896, 'l2_leaf_reg': 1.9161149250778487e-06, 'min_child_samples': 34, 'max_bin': 297, 'od_type': 'IncToDec'}. Best is trial 2 with value: 0.6974005861729224.\u001b[0m\n"
          ]
        },
        {
          "output_type": "stream",
          "name": "stdout",
          "text": [
            "0:\tlearn: 1.0179462\ttest: 1.0181537\ttest1: 1.0180632\tbest: 1.0180632 (0)\ttotal: 161ms\tremaining: 5m 33s\n",
            "100:\tlearn: 0.2692545\ttest: 0.4400574\ttest1: 0.7737339\tbest: 0.7145968 (69)\ttotal: 1m 4s\tremaining: 20m 52s\n"
          ]
        },
        {
          "output_type": "stream",
          "name": "stderr",
          "text": [
            "\u001b[32m[I 2022-12-08 16:06:39,184]\u001b[0m Trial 8 finished with value: 0.7145967847220132 and parameters: {'learning_rate': 0.20441878352493792, 'bagging_temperature': 0.7742116473996251, 'n_estimators': 2076, 'max_depth': 13, 'random_strength': 76, 'colsample_bylevel': 0.7367663185416977, 'l2_leaf_reg': 2.3131305726837285e-05, 'min_child_samples': 52, 'max_bin': 357, 'od_type': 'IncToDec'}. Best is trial 2 with value: 0.6974005861729224.\u001b[0m\n"
          ]
        },
        {
          "output_type": "stream",
          "name": "stdout",
          "text": [
            "Stopped by overfitting detector  (35 iterations wait)\n",
            "\n",
            "bestTest = 0.7145967847\n",
            "bestIteration = 69\n",
            "\n",
            "Shrink model to first 70 iterations.\n",
            "0:\tlearn: 1.0923012\ttest: 1.0923097\ttest1: 1.0924210\tbest: 1.0924210 (0)\ttotal: 94.8ms\tremaining: 10m 37s\n",
            "100:\tlearn: 0.8751675\ttest: 0.8424497\ttest1: 0.8748033\tbest: 0.8748033 (100)\ttotal: 12.1s\tremaining: 13m 13s\n",
            "200:\tlearn: 0.8466512\ttest: 0.7749177\ttest1: 0.8410227\tbest: 0.8410227 (200)\ttotal: 24.9s\tremaining: 13m 27s\n",
            "300:\tlearn: 0.8305746\ttest: 0.7313296\ttest1: 0.8204521\tbest: 0.8204490 (299)\ttotal: 32.7s\tremaining: 11m 38s\n",
            "400:\tlearn: 0.8168867\ttest: 0.6867078\ttest1: 0.8025546\tbest: 0.8025546 (400)\ttotal: 42.8s\tremaining: 11m 14s\n",
            "500:\tlearn: 0.8079207\ttest: 0.6562408\ttest1: 0.7911614\tbest: 0.7911614 (500)\ttotal: 52.3s\tremaining: 10m 50s\n",
            "600:\tlearn: 0.7996172\ttest: 0.6390059\ttest1: 0.7820648\tbest: 0.7820648 (599)\ttotal: 1m\tremaining: 10m 15s\n",
            "700:\tlearn: 0.7902007\ttest: 0.6170433\ttest1: 0.7709201\tbest: 0.7709200 (696)\ttotal: 1m 7s\tremaining: 9m 40s\n",
            "800:\tlearn: 0.7658652\ttest: 0.5865669\ttest1: 0.7450888\tbest: 0.7450888 (800)\ttotal: 1m 17s\tremaining: 9m 31s\n",
            "900:\tlearn: 0.7462735\ttest: 0.5547049\ttest1: 0.7245386\tbest: 0.7245386 (900)\ttotal: 1m 28s\tremaining: 9m 35s\n",
            "1000:\tlearn: 0.7277622\ttest: 0.5216109\ttest1: 0.7112644\tbest: 0.7112644 (1000)\ttotal: 1m 47s\tremaining: 10m 16s\n",
            "1100:\tlearn: 0.7127031\ttest: 0.5094752\ttest1: 0.7082104\tbest: 0.7082045 (1097)\ttotal: 2m 10s\tremaining: 11m 7s\n",
            "1200:\tlearn: 0.7000691\ttest: 0.5036091\ttest1: 0.7071846\tbest: 0.7071846 (1200)\ttotal: 2m 33s\tremaining: 11m 44s\n",
            "1300:\tlearn: 0.6881667\ttest: 0.4995518\ttest1: 0.7069038\tbest: 0.7068321 (1292)\ttotal: 2m 57s\tremaining: 12m 19s\n",
            "Stopped by overfitting detector  (35 iterations wait)\n",
            "\n",
            "bestTest = 0.7068321239\n",
            "bestIteration = 1292\n",
            "\n",
            "Shrink model to first 1293 iterations.\n"
          ]
        },
        {
          "output_type": "stream",
          "name": "stderr",
          "text": [
            "\u001b[32m[I 2022-12-08 16:09:43,080]\u001b[0m Trial 9 finished with value: 0.7068321239017791 and parameters: {'learning_rate': 0.01443340240633889, 'bagging_temperature': 0.0133572404119741, 'n_estimators': 6728, 'max_depth': 8, 'random_strength': 51, 'colsample_bylevel': 0.9445398843556558, 'l2_leaf_reg': 7.486273952174759e-06, 'min_child_samples': 44, 'max_bin': 427, 'od_type': 'IncToDec'}. Best is trial 2 with value: 0.6974005861729224.\u001b[0m\n"
          ]
        },
        {
          "output_type": "stream",
          "name": "stdout",
          "text": [
            "Best Score: 0.6974005861729224\n",
            "Best trial {'learning_rate': 0.027010527749605478, 'bagging_temperature': 0.2920433847181412, 'n_estimators': 5105, 'max_depth': 14, 'random_strength': 20, 'colsample_bylevel': 0.708540663048167, 'l2_leaf_reg': 1.7776512920172654e-05, 'min_child_samples': 9, 'max_bin': 382, 'od_type': 'IncToDec'}\n"
          ]
        }
      ],
      "source": [
        "sampler = TPESampler(seed=42)\n",
        "study = optuna.create_study(\n",
        "    study_name = 'cat_parameter_opt',\n",
        "    direction = 'minimize',\n",
        "    sampler = sampler,\n",
        ")\n",
        "study.optimize(objective, n_trials=10)\n",
        "print(\"Best Score:\",study.best_value)\n",
        "print(\"Best trial\",study.best_trial.params)"
      ]
    },
    {
      "cell_type": "code",
      "execution_count": 58,
      "metadata": {
        "id": "XiirClPbRJSV"
      },
      "outputs": [],
      "source": [
        "skf = StratifiedKFold(n_splits=5, shuffle=True, random_state=42)\n",
        "folds = []\n",
        "for train_idx, valid_idx in skf.split(train, train['credit']):\n",
        "  folds.append((train_idx,valid_idx))"
      ]
    },
    {
      "cell_type": "code",
      "execution_count": 59,
      "metadata": {
        "id": "35QkbKwnRU0W",
        "colab": {
          "base_uri": "https://localhost:8080/"
        },
        "outputId": "fa5fcc35-8718-4590-9a8f-f6c3bee16506"
      },
      "outputs": [
        {
          "output_type": "stream",
          "name": "stdout",
          "text": [
            "====================================1============================================\n",
            "0:\tlearn: 1.0869740\ttest: 1.0869740\ttest1: 1.0869753\tbest: 1.0869753 (0)\ttotal: 23.6ms\tremaining: 2m\n",
            "100:\tlearn: 0.8166111\ttest: 0.7245872\ttest1: 0.8003858\tbest: 0.8003858 (100)\ttotal: 40.5s\tremaining: 33m 44s\n",
            "200:\tlearn: 0.7770823\ttest: 0.6356109\ttest1: 0.7545789\tbest: 0.7545789 (200)\ttotal: 1m 23s\tremaining: 34m 18s\n",
            "300:\tlearn: 0.7606102\ttest: 0.6009085\ttest1: 0.7384179\tbest: 0.7384179 (300)\ttotal: 1m 38s\tremaining: 26m 21s\n",
            "400:\tlearn: 0.7416235\ttest: 0.5639451\ttest1: 0.7216948\tbest: 0.7216948 (400)\ttotal: 2m 14s\tremaining: 26m 16s\n",
            "500:\tlearn: 0.6087536\ttest: 0.5058471\ttest1: 0.6994997\tbest: 0.6993562 (499)\ttotal: 4m 27s\tremaining: 41m 1s\n",
            "Stopped by overfitting detector  (35 iterations wait)\n",
            "\n",
            "bestTest = 0.6988383494\n",
            "bestIteration = 519\n",
            "\n",
            "Shrink model to first 520 iterations.\n",
            "================================================================================\n",
            "\n",
            "\n",
            "====================================2============================================\n",
            "0:\tlearn: 1.0869740\ttest: 1.0869740\ttest1: 1.0869753\tbest: 1.0869753 (0)\ttotal: 15.8ms\tremaining: 1m 20s\n",
            "100:\tlearn: 0.8226214\ttest: 0.7547764\ttest1: 0.8164834\tbest: 0.8164834 (100)\ttotal: 26.8s\tremaining: 22m 19s\n",
            "200:\tlearn: 0.7789411\ttest: 0.6414632\ttest1: 0.7655207\tbest: 0.7655207 (200)\ttotal: 1m 8s\tremaining: 27m 51s\n",
            "300:\tlearn: 0.7615024\ttest: 0.5939984\ttest1: 0.7476778\tbest: 0.7476774 (299)\ttotal: 1m 29s\tremaining: 23m 46s\n",
            "400:\tlearn: 0.7380923\ttest: 0.5558496\ttest1: 0.7291340\tbest: 0.7291318 (399)\ttotal: 2m 18s\tremaining: 27m 7s\n",
            "500:\tlearn: 0.6133587\ttest: 0.5031077\ttest1: 0.7110797\tbest: 0.7109236 (497)\ttotal: 4m 41s\tremaining: 43m 12s\n",
            "Stopped by overfitting detector  (35 iterations wait)\n",
            "\n",
            "bestTest = 0.7096754179\n",
            "bestIteration = 523\n",
            "\n",
            "Shrink model to first 524 iterations.\n",
            "================================================================================\n",
            "\n",
            "\n",
            "====================================3============================================\n",
            "0:\tlearn: 1.0869585\ttest: 1.0869603\ttest1: 1.0869657\tbest: 1.0869657 (0)\ttotal: 104ms\tremaining: 8m 49s\n",
            "100:\tlearn: 0.8246448\ttest: 0.7347546\ttest1: 0.8075735\tbest: 0.8075735 (100)\ttotal: 32.7s\tremaining: 27m\n",
            "200:\tlearn: 0.7793275\ttest: 0.6305941\ttest1: 0.7565041\tbest: 0.7565041 (200)\ttotal: 1m 25s\tremaining: 34m 45s\n",
            "300:\tlearn: 0.7603184\ttest: 0.5897371\ttest1: 0.7392070\tbest: 0.7392070 (300)\ttotal: 2m 5s\tremaining: 33m 24s\n",
            "400:\tlearn: 0.7404544\ttest: 0.5596519\ttest1: 0.7208331\tbest: 0.7208331 (400)\ttotal: 2m 27s\tremaining: 28m 54s\n",
            "500:\tlearn: 0.6078278\ttest: 0.5094599\ttest1: 0.7007964\tbest: 0.7007071 (499)\ttotal: 5m 7s\tremaining: 47m 2s\n",
            "Stopped by overfitting detector  (35 iterations wait)\n",
            "\n",
            "bestTest = 0.6997237343\n",
            "bestIteration = 519\n",
            "\n",
            "Shrink model to first 520 iterations.\n",
            "================================================================================\n",
            "\n",
            "\n",
            "====================================4============================================\n",
            "0:\tlearn: 1.0869482\ttest: 1.0869738\ttest1: 1.0869698\tbest: 1.0869698 (0)\ttotal: 103ms\tremaining: 8m 43s\n",
            "100:\tlearn: 0.8182082\ttest: 0.7209902\ttest1: 0.8090177\tbest: 0.8090177 (100)\ttotal: 34.8s\tremaining: 28m 46s\n",
            "200:\tlearn: 0.7781453\ttest: 0.6242893\ttest1: 0.7663761\tbest: 0.7663761 (200)\ttotal: 1m 2s\tremaining: 25m 13s\n",
            "300:\tlearn: 0.7659894\ttest: 0.5865736\ttest1: 0.7544930\tbest: 0.7544930 (300)\ttotal: 1m 23s\tremaining: 22m 5s\n",
            "400:\tlearn: 0.7431820\ttest: 0.5514662\ttest1: 0.7378816\tbest: 0.7378816 (400)\ttotal: 1m 59s\tremaining: 23m 26s\n",
            "500:\tlearn: 0.5979055\ttest: 0.4954364\ttest1: 0.7214253\tbest: 0.7212452 (497)\ttotal: 4m 40s\tremaining: 43m\n",
            "Stopped by overfitting detector  (35 iterations wait)\n",
            "\n",
            "bestTest = 0.7212452095\n",
            "bestIteration = 497\n",
            "\n",
            "Shrink model to first 498 iterations.\n",
            "================================================================================\n",
            "\n",
            "\n",
            "====================================5============================================\n",
            "0:\tlearn: 1.0869648\ttest: 1.0869941\ttest1: 1.0869897\tbest: 1.0869897 (0)\ttotal: 66.5ms\tremaining: 5m 39s\n",
            "100:\tlearn: 0.8181211\ttest: 0.7252607\ttest1: 0.8034434\tbest: 0.8034434 (100)\ttotal: 48.2s\tremaining: 39m 47s\n",
            "200:\tlearn: 0.7715418\ttest: 0.6177054\ttest1: 0.7545520\tbest: 0.7545520 (200)\ttotal: 1m 41s\tremaining: 41m 12s\n",
            "300:\tlearn: 0.7551961\ttest: 0.5844530\ttest1: 0.7402827\tbest: 0.7402827 (300)\ttotal: 2m 14s\tremaining: 35m 44s\n",
            "400:\tlearn: 0.7364598\ttest: 0.5539222\ttest1: 0.7237911\tbest: 0.7237911 (400)\ttotal: 2m 49s\tremaining: 33m 7s\n",
            "500:\tlearn: 0.5981977\ttest: 0.5022724\ttest1: 0.7048568\tbest: 0.7048568 (500)\ttotal: 5m 28s\tremaining: 50m 17s\n",
            "Stopped by overfitting detector  (35 iterations wait)\n",
            "\n",
            "bestTest = 0.7046498488\n",
            "bestIteration = 503\n",
            "\n",
            "Shrink model to first 504 iterations.\n",
            "================================================================================\n",
            "\n",
            "\n"
          ]
        }
      ],
      "source": [
        "random.seed(42)\n",
        "cat_models={}\n",
        "\n",
        "cat_features =[0,1,2,3,5,6,7,8,12,15]\n",
        "\n",
        "for fold in range(5):\n",
        "  print(f'===================================={fold+1}============================================')\n",
        "  train_idx, valid_idx = folds[fold]\n",
        "  X_train = train.drop(['credit'],axis=1).iloc[train_idx].values \n",
        "  X_valid = train.drop(['credit'],axis=1).iloc[valid_idx].values\n",
        "  y_train = train['credit'][train_idx].values\n",
        "  y_valid = train['credit'][valid_idx].values\n",
        "\n",
        "  cat = CatBoostClassifier(**study.best_params)\n",
        "  cat.fit(X_train, y_train,\n",
        "          eval_set=[(X_train, y_train), (X_valid,y_valid)],\n",
        "          early_stopping_rounds=35,cat_features=cat_features,\n",
        "          verbose=100)\n",
        "  cat_models[fold] = cat\n",
        "  print(f'================================================================================\\n\\n')"
      ]
    },
    {
      "cell_type": "markdown",
      "metadata": {
        "id": "suc5P-tKQ5hD"
      },
      "source": [
        "#Test"
      ]
    },
    {
      "cell_type": "code",
      "execution_count": 60,
      "metadata": {
        "id": "vy0QI5WoSuy_"
      },
      "outputs": [],
      "source": [
        "submit.iloc[:,1:]=0\n",
        "for fold in range(5):\n",
        "  submit.iloc[:,1:] += cat_models[fold].predict_proba(test)/5"
      ]
    },
    {
      "cell_type": "code",
      "execution_count": 61,
      "metadata": {
        "id": "B3QpKGOeS73r"
      },
      "outputs": [],
      "source": [
        "import datetime\n",
        "now = datetime.datetime.now()\n",
        "created_time = now.strftime('%m%d-%H%M')\n",
        "\n",
        "submit.to_csv(f'/content/drive/MyDrive/ml_project/{created_time}_submit.csv',index=False)"
      ]
    },
    {
      "cell_type": "code",
      "execution_count": 62,
      "metadata": {
        "id": "lXWLYfphTRBG",
        "colab": {
          "base_uri": "https://localhost:8080/",
          "height": 676
        },
        "outputId": "c80f7754-f7ee-417a-f931-5c9578f74b0d"
      },
      "outputs": [
        {
          "output_type": "execute_result",
          "data": {
            "text/plain": [
              "    index         0         1         2\n",
              "0   26457  0.116563  0.184823  0.698614\n",
              "1   26458  0.256895  0.275516  0.467589\n",
              "2   26459  0.043685  0.089197  0.867118\n",
              "3   26460  0.054692  0.096069  0.849240\n",
              "4   26461  0.091750  0.262117  0.646133\n",
              "5   26462  0.065920  0.189332  0.744748\n",
              "6   26463  0.432308  0.523684  0.044008\n",
              "7   26464  0.055282  0.122433  0.822286\n",
              "8   26465  0.063988  0.109857  0.826155\n",
              "9   26466  0.049588  0.302470  0.647942\n",
              "10  26467  0.175249  0.126006  0.698744\n",
              "11  26468  0.044024  0.105541  0.850434\n",
              "12  26469  0.464368  0.124147  0.411484\n",
              "13  26470  0.088481  0.366671  0.544849\n",
              "14  26471  0.106767  0.136549  0.756683\n",
              "15  26472  0.064278  0.292532  0.643191\n",
              "16  26473  0.055609  0.099793  0.844598\n",
              "17  26474  0.250109  0.701483  0.048408\n",
              "18  26475  0.275289  0.189688  0.535024\n",
              "19  26476  0.047476  0.106265  0.846260"
            ],
            "text/html": [
              "\n",
              "  <div id=\"df-b14ab058-5ebb-4ab2-8d8a-4b3c29392d22\">\n",
              "    <div class=\"colab-df-container\">\n",
              "      <div>\n",
              "<style scoped>\n",
              "    .dataframe tbody tr th:only-of-type {\n",
              "        vertical-align: middle;\n",
              "    }\n",
              "\n",
              "    .dataframe tbody tr th {\n",
              "        vertical-align: top;\n",
              "    }\n",
              "\n",
              "    .dataframe thead th {\n",
              "        text-align: right;\n",
              "    }\n",
              "</style>\n",
              "<table border=\"1\" class=\"dataframe\">\n",
              "  <thead>\n",
              "    <tr style=\"text-align: right;\">\n",
              "      <th></th>\n",
              "      <th>index</th>\n",
              "      <th>0</th>\n",
              "      <th>1</th>\n",
              "      <th>2</th>\n",
              "    </tr>\n",
              "  </thead>\n",
              "  <tbody>\n",
              "    <tr>\n",
              "      <th>0</th>\n",
              "      <td>26457</td>\n",
              "      <td>0.116563</td>\n",
              "      <td>0.184823</td>\n",
              "      <td>0.698614</td>\n",
              "    </tr>\n",
              "    <tr>\n",
              "      <th>1</th>\n",
              "      <td>26458</td>\n",
              "      <td>0.256895</td>\n",
              "      <td>0.275516</td>\n",
              "      <td>0.467589</td>\n",
              "    </tr>\n",
              "    <tr>\n",
              "      <th>2</th>\n",
              "      <td>26459</td>\n",
              "      <td>0.043685</td>\n",
              "      <td>0.089197</td>\n",
              "      <td>0.867118</td>\n",
              "    </tr>\n",
              "    <tr>\n",
              "      <th>3</th>\n",
              "      <td>26460</td>\n",
              "      <td>0.054692</td>\n",
              "      <td>0.096069</td>\n",
              "      <td>0.849240</td>\n",
              "    </tr>\n",
              "    <tr>\n",
              "      <th>4</th>\n",
              "      <td>26461</td>\n",
              "      <td>0.091750</td>\n",
              "      <td>0.262117</td>\n",
              "      <td>0.646133</td>\n",
              "    </tr>\n",
              "    <tr>\n",
              "      <th>5</th>\n",
              "      <td>26462</td>\n",
              "      <td>0.065920</td>\n",
              "      <td>0.189332</td>\n",
              "      <td>0.744748</td>\n",
              "    </tr>\n",
              "    <tr>\n",
              "      <th>6</th>\n",
              "      <td>26463</td>\n",
              "      <td>0.432308</td>\n",
              "      <td>0.523684</td>\n",
              "      <td>0.044008</td>\n",
              "    </tr>\n",
              "    <tr>\n",
              "      <th>7</th>\n",
              "      <td>26464</td>\n",
              "      <td>0.055282</td>\n",
              "      <td>0.122433</td>\n",
              "      <td>0.822286</td>\n",
              "    </tr>\n",
              "    <tr>\n",
              "      <th>8</th>\n",
              "      <td>26465</td>\n",
              "      <td>0.063988</td>\n",
              "      <td>0.109857</td>\n",
              "      <td>0.826155</td>\n",
              "    </tr>\n",
              "    <tr>\n",
              "      <th>9</th>\n",
              "      <td>26466</td>\n",
              "      <td>0.049588</td>\n",
              "      <td>0.302470</td>\n",
              "      <td>0.647942</td>\n",
              "    </tr>\n",
              "    <tr>\n",
              "      <th>10</th>\n",
              "      <td>26467</td>\n",
              "      <td>0.175249</td>\n",
              "      <td>0.126006</td>\n",
              "      <td>0.698744</td>\n",
              "    </tr>\n",
              "    <tr>\n",
              "      <th>11</th>\n",
              "      <td>26468</td>\n",
              "      <td>0.044024</td>\n",
              "      <td>0.105541</td>\n",
              "      <td>0.850434</td>\n",
              "    </tr>\n",
              "    <tr>\n",
              "      <th>12</th>\n",
              "      <td>26469</td>\n",
              "      <td>0.464368</td>\n",
              "      <td>0.124147</td>\n",
              "      <td>0.411484</td>\n",
              "    </tr>\n",
              "    <tr>\n",
              "      <th>13</th>\n",
              "      <td>26470</td>\n",
              "      <td>0.088481</td>\n",
              "      <td>0.366671</td>\n",
              "      <td>0.544849</td>\n",
              "    </tr>\n",
              "    <tr>\n",
              "      <th>14</th>\n",
              "      <td>26471</td>\n",
              "      <td>0.106767</td>\n",
              "      <td>0.136549</td>\n",
              "      <td>0.756683</td>\n",
              "    </tr>\n",
              "    <tr>\n",
              "      <th>15</th>\n",
              "      <td>26472</td>\n",
              "      <td>0.064278</td>\n",
              "      <td>0.292532</td>\n",
              "      <td>0.643191</td>\n",
              "    </tr>\n",
              "    <tr>\n",
              "      <th>16</th>\n",
              "      <td>26473</td>\n",
              "      <td>0.055609</td>\n",
              "      <td>0.099793</td>\n",
              "      <td>0.844598</td>\n",
              "    </tr>\n",
              "    <tr>\n",
              "      <th>17</th>\n",
              "      <td>26474</td>\n",
              "      <td>0.250109</td>\n",
              "      <td>0.701483</td>\n",
              "      <td>0.048408</td>\n",
              "    </tr>\n",
              "    <tr>\n",
              "      <th>18</th>\n",
              "      <td>26475</td>\n",
              "      <td>0.275289</td>\n",
              "      <td>0.189688</td>\n",
              "      <td>0.535024</td>\n",
              "    </tr>\n",
              "    <tr>\n",
              "      <th>19</th>\n",
              "      <td>26476</td>\n",
              "      <td>0.047476</td>\n",
              "      <td>0.106265</td>\n",
              "      <td>0.846260</td>\n",
              "    </tr>\n",
              "  </tbody>\n",
              "</table>\n",
              "</div>\n",
              "      <button class=\"colab-df-convert\" onclick=\"convertToInteractive('df-b14ab058-5ebb-4ab2-8d8a-4b3c29392d22')\"\n",
              "              title=\"Convert this dataframe to an interactive table.\"\n",
              "              style=\"display:none;\">\n",
              "        \n",
              "  <svg xmlns=\"http://www.w3.org/2000/svg\" height=\"24px\"viewBox=\"0 0 24 24\"\n",
              "       width=\"24px\">\n",
              "    <path d=\"M0 0h24v24H0V0z\" fill=\"none\"/>\n",
              "    <path d=\"M18.56 5.44l.94 2.06.94-2.06 2.06-.94-2.06-.94-.94-2.06-.94 2.06-2.06.94zm-11 1L8.5 8.5l.94-2.06 2.06-.94-2.06-.94L8.5 2.5l-.94 2.06-2.06.94zm10 10l.94 2.06.94-2.06 2.06-.94-2.06-.94-.94-2.06-.94 2.06-2.06.94z\"/><path d=\"M17.41 7.96l-1.37-1.37c-.4-.4-.92-.59-1.43-.59-.52 0-1.04.2-1.43.59L10.3 9.45l-7.72 7.72c-.78.78-.78 2.05 0 2.83L4 21.41c.39.39.9.59 1.41.59.51 0 1.02-.2 1.41-.59l7.78-7.78 2.81-2.81c.8-.78.8-2.07 0-2.86zM5.41 20L4 18.59l7.72-7.72 1.47 1.35L5.41 20z\"/>\n",
              "  </svg>\n",
              "      </button>\n",
              "      \n",
              "  <style>\n",
              "    .colab-df-container {\n",
              "      display:flex;\n",
              "      flex-wrap:wrap;\n",
              "      gap: 12px;\n",
              "    }\n",
              "\n",
              "    .colab-df-convert {\n",
              "      background-color: #E8F0FE;\n",
              "      border: none;\n",
              "      border-radius: 50%;\n",
              "      cursor: pointer;\n",
              "      display: none;\n",
              "      fill: #1967D2;\n",
              "      height: 32px;\n",
              "      padding: 0 0 0 0;\n",
              "      width: 32px;\n",
              "    }\n",
              "\n",
              "    .colab-df-convert:hover {\n",
              "      background-color: #E2EBFA;\n",
              "      box-shadow: 0px 1px 2px rgba(60, 64, 67, 0.3), 0px 1px 3px 1px rgba(60, 64, 67, 0.15);\n",
              "      fill: #174EA6;\n",
              "    }\n",
              "\n",
              "    [theme=dark] .colab-df-convert {\n",
              "      background-color: #3B4455;\n",
              "      fill: #D2E3FC;\n",
              "    }\n",
              "\n",
              "    [theme=dark] .colab-df-convert:hover {\n",
              "      background-color: #434B5C;\n",
              "      box-shadow: 0px 1px 3px 1px rgba(0, 0, 0, 0.15);\n",
              "      filter: drop-shadow(0px 1px 2px rgba(0, 0, 0, 0.3));\n",
              "      fill: #FFFFFF;\n",
              "    }\n",
              "  </style>\n",
              "\n",
              "      <script>\n",
              "        const buttonEl =\n",
              "          document.querySelector('#df-b14ab058-5ebb-4ab2-8d8a-4b3c29392d22 button.colab-df-convert');\n",
              "        buttonEl.style.display =\n",
              "          google.colab.kernel.accessAllowed ? 'block' : 'none';\n",
              "\n",
              "        async function convertToInteractive(key) {\n",
              "          const element = document.querySelector('#df-b14ab058-5ebb-4ab2-8d8a-4b3c29392d22');\n",
              "          const dataTable =\n",
              "            await google.colab.kernel.invokeFunction('convertToInteractive',\n",
              "                                                     [key], {});\n",
              "          if (!dataTable) return;\n",
              "\n",
              "          const docLinkHtml = 'Like what you see? Visit the ' +\n",
              "            '<a target=\"_blank\" href=https://colab.research.google.com/notebooks/data_table.ipynb>data table notebook</a>'\n",
              "            + ' to learn more about interactive tables.';\n",
              "          element.innerHTML = '';\n",
              "          dataTable['output_type'] = 'display_data';\n",
              "          await google.colab.output.renderOutput(dataTable, element);\n",
              "          const docLink = document.createElement('div');\n",
              "          docLink.innerHTML = docLinkHtml;\n",
              "          element.appendChild(docLink);\n",
              "        }\n",
              "      </script>\n",
              "    </div>\n",
              "  </div>\n",
              "  "
            ]
          },
          "metadata": {},
          "execution_count": 62
        }
      ],
      "source": [
        "submit.head(20)"
      ]
    },
    {
      "cell_type": "code",
      "execution_count": null,
      "metadata": {
        "id": "_kdsyNQlMMMr"
      },
      "outputs": [],
      "source": []
    }
  ],
  "metadata": {
    "accelerator": "GPU",
    "colab": {
      "machine_shape": "hm",
      "provenance": [],
      "include_colab_link": true
    },
    "gpuClass": "standard",
    "kernelspec": {
      "display_name": "Python 3",
      "name": "python3"
    },
    "language_info": {
      "name": "python"
    }
  },
  "nbformat": 4,
  "nbformat_minor": 0
}