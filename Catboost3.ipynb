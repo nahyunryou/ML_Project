{
  "cells": [
    {
      "cell_type": "markdown",
      "metadata": {
        "id": "view-in-github",
        "colab_type": "text"
      },
      "source": [
        "<a href=\"https://colab.research.google.com/github/nahyunryou/ML_Project/blob/main/Catboost3.ipynb\" target=\"_parent\"><img src=\"https://colab.research.google.com/assets/colab-badge.svg\" alt=\"Open In Colab\"/></a>"
      ]
    },
    {
      "cell_type": "code",
      "execution_count": 1,
      "metadata": {
        "colab": {
          "base_uri": "https://localhost:8080/"
        },
        "id": "XFm2woNIYBRY",
        "outputId": "a1bd6d15-6ee1-4986-f9f3-bace1bc8c201"
      },
      "outputs": [
        {
          "output_type": "stream",
          "name": "stdout",
          "text": [
            "Looking in indexes: https://pypi.org/simple, https://us-python.pkg.dev/colab-wheels/public/simple/\n",
            "Collecting catboost\n",
            "  Downloading catboost-1.1.1-cp38-none-manylinux1_x86_64.whl (76.6 MB)\n",
            "\u001b[K     |████████████████████████████████| 76.6 MB 18 kB/s \n",
            "\u001b[?25hRequirement already satisfied: numpy>=1.16.0 in /usr/local/lib/python3.8/dist-packages (from catboost) (1.21.6)\n",
            "Requirement already satisfied: matplotlib in /usr/local/lib/python3.8/dist-packages (from catboost) (3.2.2)\n",
            "Requirement already satisfied: six in /usr/local/lib/python3.8/dist-packages (from catboost) (1.15.0)\n",
            "Requirement already satisfied: pandas>=0.24.0 in /usr/local/lib/python3.8/dist-packages (from catboost) (1.3.5)\n",
            "Requirement already satisfied: graphviz in /usr/local/lib/python3.8/dist-packages (from catboost) (0.10.1)\n",
            "Requirement already satisfied: scipy in /usr/local/lib/python3.8/dist-packages (from catboost) (1.7.3)\n",
            "Requirement already satisfied: plotly in /usr/local/lib/python3.8/dist-packages (from catboost) (5.5.0)\n",
            "Requirement already satisfied: python-dateutil>=2.7.3 in /usr/local/lib/python3.8/dist-packages (from pandas>=0.24.0->catboost) (2.8.2)\n",
            "Requirement already satisfied: pytz>=2017.3 in /usr/local/lib/python3.8/dist-packages (from pandas>=0.24.0->catboost) (2022.6)\n",
            "Requirement already satisfied: pyparsing!=2.0.4,!=2.1.2,!=2.1.6,>=2.0.1 in /usr/local/lib/python3.8/dist-packages (from matplotlib->catboost) (3.0.9)\n",
            "Requirement already satisfied: cycler>=0.10 in /usr/local/lib/python3.8/dist-packages (from matplotlib->catboost) (0.11.0)\n",
            "Requirement already satisfied: kiwisolver>=1.0.1 in /usr/local/lib/python3.8/dist-packages (from matplotlib->catboost) (1.4.4)\n",
            "Requirement already satisfied: tenacity>=6.2.0 in /usr/local/lib/python3.8/dist-packages (from plotly->catboost) (8.1.0)\n",
            "Installing collected packages: catboost\n",
            "Successfully installed catboost-1.1.1\n"
          ]
        }
      ],
      "source": [
        "!pip3 install catboost"
      ]
    },
    {
      "cell_type": "code",
      "execution_count": 2,
      "metadata": {
        "colab": {
          "base_uri": "https://localhost:8080/"
        },
        "id": "nW-1dB3PYDWe",
        "outputId": "981ea253-9e56-40f4-e5b9-1293b06a7026"
      },
      "outputs": [
        {
          "output_type": "stream",
          "name": "stdout",
          "text": [
            "Looking in indexes: https://pypi.org/simple, https://us-python.pkg.dev/colab-wheels/public/simple/\n",
            "Collecting optuna\n",
            "  Downloading optuna-3.0.4-py3-none-any.whl (348 kB)\n",
            "\u001b[K     |████████████████████████████████| 348 kB 12.1 MB/s \n",
            "\u001b[?25hCollecting cliff\n",
            "  Downloading cliff-4.1.0-py3-none-any.whl (81 kB)\n",
            "\u001b[K     |████████████████████████████████| 81 kB 10.8 MB/s \n",
            "\u001b[?25hRequirement already satisfied: importlib-metadata<5.0.0 in /usr/local/lib/python3.8/dist-packages (from optuna) (4.13.0)\n",
            "Requirement already satisfied: tqdm in /usr/local/lib/python3.8/dist-packages (from optuna) (4.64.1)\n",
            "Requirement already satisfied: scipy<1.9.0,>=1.7.0 in /usr/local/lib/python3.8/dist-packages (from optuna) (1.7.3)\n",
            "Requirement already satisfied: packaging>=20.0 in /usr/local/lib/python3.8/dist-packages (from optuna) (21.3)\n",
            "Requirement already satisfied: PyYAML in /usr/local/lib/python3.8/dist-packages (from optuna) (6.0)\n",
            "Requirement already satisfied: sqlalchemy>=1.3.0 in /usr/local/lib/python3.8/dist-packages (from optuna) (1.4.44)\n",
            "Collecting colorlog\n",
            "  Downloading colorlog-6.7.0-py2.py3-none-any.whl (11 kB)\n",
            "Collecting alembic>=1.5.0\n",
            "  Downloading alembic-1.8.1-py3-none-any.whl (209 kB)\n",
            "\u001b[K     |████████████████████████████████| 209 kB 77.4 MB/s \n",
            "\u001b[?25hRequirement already satisfied: numpy in /usr/local/lib/python3.8/dist-packages (from optuna) (1.21.6)\n",
            "Collecting cmaes>=0.8.2\n",
            "  Downloading cmaes-0.9.0-py3-none-any.whl (23 kB)\n",
            "Collecting Mako\n",
            "  Downloading Mako-1.2.4-py3-none-any.whl (78 kB)\n",
            "\u001b[K     |████████████████████████████████| 78 kB 7.9 MB/s \n",
            "\u001b[?25hRequirement already satisfied: importlib-resources in /usr/local/lib/python3.8/dist-packages (from alembic>=1.5.0->optuna) (5.10.0)\n",
            "Requirement already satisfied: zipp>=0.5 in /usr/local/lib/python3.8/dist-packages (from importlib-metadata<5.0.0->optuna) (3.11.0)\n",
            "Requirement already satisfied: pyparsing!=3.0.5,>=2.0.2 in /usr/local/lib/python3.8/dist-packages (from packaging>=20.0->optuna) (3.0.9)\n",
            "Requirement already satisfied: greenlet!=0.4.17 in /usr/local/lib/python3.8/dist-packages (from sqlalchemy>=1.3.0->optuna) (2.0.1)\n",
            "Collecting autopage>=0.4.0\n",
            "  Downloading autopage-0.5.1-py3-none-any.whl (29 kB)\n",
            "Collecting cmd2>=1.0.0\n",
            "  Downloading cmd2-2.4.2-py3-none-any.whl (147 kB)\n",
            "\u001b[K     |████████████████████████████████| 147 kB 86.1 MB/s \n",
            "\u001b[?25hRequirement already satisfied: PrettyTable>=0.7.2 in /usr/local/lib/python3.8/dist-packages (from cliff->optuna) (3.5.0)\n",
            "Collecting stevedore>=2.0.1\n",
            "  Downloading stevedore-4.1.1-py3-none-any.whl (50 kB)\n",
            "\u001b[K     |████████████████████████████████| 50 kB 797 kB/s \n",
            "\u001b[?25hRequirement already satisfied: wcwidth>=0.1.7 in /usr/local/lib/python3.8/dist-packages (from cmd2>=1.0.0->cliff->optuna) (0.2.5)\n",
            "Requirement already satisfied: attrs>=16.3.0 in /usr/local/lib/python3.8/dist-packages (from cmd2>=1.0.0->cliff->optuna) (22.1.0)\n",
            "Collecting pyperclip>=1.6\n",
            "  Downloading pyperclip-1.8.2.tar.gz (20 kB)\n",
            "Collecting pbr!=2.1.0,>=2.0.0\n",
            "  Downloading pbr-5.11.0-py2.py3-none-any.whl (112 kB)\n",
            "\u001b[K     |████████████████████████████████| 112 kB 61.7 MB/s \n",
            "\u001b[?25hRequirement already satisfied: MarkupSafe>=0.9.2 in /usr/local/lib/python3.8/dist-packages (from Mako->alembic>=1.5.0->optuna) (2.0.1)\n",
            "Building wheels for collected packages: pyperclip\n",
            "  Building wheel for pyperclip (setup.py) ... \u001b[?25l\u001b[?25hdone\n",
            "  Created wheel for pyperclip: filename=pyperclip-1.8.2-py3-none-any.whl size=11136 sha256=aef232943c194aaf3a1072e694c5e25df3340161051eec0ddc58b8a541d245d9\n",
            "  Stored in directory: /root/.cache/pip/wheels/7f/1a/65/84ff8c386bec21fca6d220ea1f5498a0367883a78dd5ba6122\n",
            "Successfully built pyperclip\n",
            "Installing collected packages: pyperclip, pbr, stevedore, Mako, cmd2, autopage, colorlog, cmaes, cliff, alembic, optuna\n",
            "Successfully installed Mako-1.2.4 alembic-1.8.1 autopage-0.5.1 cliff-4.1.0 cmaes-0.9.0 cmd2-2.4.2 colorlog-6.7.0 optuna-3.0.4 pbr-5.11.0 pyperclip-1.8.2 stevedore-4.1.1\n"
          ]
        }
      ],
      "source": [
        "!pip install optuna"
      ]
    },
    {
      "cell_type": "code",
      "execution_count": 3,
      "metadata": {
        "id": "CQBWHsKcPWVc"
      },
      "outputs": [],
      "source": [
        "import warnings\n",
        "warnings.filterwarnings('ignore')\n",
        "\n",
        "import glob\n",
        "import pandas as pd\n",
        "import numpy as np\n",
        "\n",
        "from catboost import CatBoostClassifier\n",
        "from sklearn.model_selection import StratifiedKFold,train_test_split\n",
        "from sklearn.metrics import log_loss\n",
        "from sklearn.preprocessing import OneHotEncoder\n",
        "import random\n",
        "\n",
        "import optuna\n",
        "from optuna.samplers import TPESampler"
      ]
    },
    {
      "cell_type": "code",
      "execution_count": 4,
      "metadata": {
        "colab": {
          "base_uri": "https://localhost:8080/"
        },
        "id": "Z0YnN38gCIaD",
        "outputId": "4a9d25d9-122a-4eaf-f52f-cf263578e8d5"
      },
      "outputs": [
        {
          "output_type": "stream",
          "name": "stdout",
          "text": [
            "Mounted at /content/drive\n"
          ]
        }
      ],
      "source": [
        "from google.colab import drive\n",
        "drive.mount('/content/drive')"
      ]
    },
    {
      "cell_type": "code",
      "execution_count": 5,
      "metadata": {
        "id": "-tAWdE1eQAQ7"
      },
      "outputs": [],
      "source": [
        "train = pd.read_csv('/content/drive/MyDrive/ml_project/processed_train.csv')\n",
        "#train = train.drop(['index'], axis=1)\n",
        "train.fillna('NAN',inplace=True)\n",
        "\n",
        "test = pd.read_csv('/content/drive/MyDrive/ml_project/processed_test.csv')\n",
        "#test = test.drop(['index'],axis=1)\n",
        "test.fillna('NAN',inplace=True)\n",
        "\n",
        "submit = pd.read_csv('/content/drive/MyDrive/ml_project/sample_submission.csv')"
      ]
    },
    {
      "cell_type": "code",
      "execution_count": 6,
      "metadata": {
        "id": "KR7YbBAIWHV1"
      },
      "outputs": [],
      "source": [
        "edu_dict = {'Lower secondary':1,\n",
        " 'Secondary / secondary special':2,\n",
        " 'Incomplete higher':3,\n",
        " 'Higher education':4,\n",
        " 'Academic degree':5}\n",
        "\n",
        "train['edu_type'].replace(edu_dict,inplace=True)\n",
        "test['edu_type'].replace(edu_dict,inplace=True)"
      ]
    },
    {
      "cell_type": "code",
      "execution_count": 7,
      "metadata": {
        "id": "5NvHDjB0nHUL"
      },
      "outputs": [],
      "source": [
        "house_dict = {'With parents':3,\n",
        " 'Co-op apartment':2,\n",
        " 'Municipal apartment':1,\n",
        " 'Rented apartment':4,\n",
        " 'Office apartment':5,\n",
        " 'House / apartment':6}\n",
        "\n",
        "train['house_type'].replace(house_dict,inplace=True)\n",
        "test['house_type'].replace(house_dict,inplace=True)"
      ]
    },
    {
      "cell_type": "code",
      "execution_count": 8,
      "metadata": {
        "colab": {
          "base_uri": "https://localhost:8080/"
        },
        "id": "GGZImp3XkB4I",
        "outputId": "54c85894-3760-45b7-d90c-d4c0938d4cf5"
      },
      "outputs": [
        {
          "output_type": "stream",
          "name": "stdout",
          "text": [
            "<class 'pandas.core.frame.DataFrame'>\n",
            "RangeIndex: 23392 entries, 0 to 23391\n",
            "Data columns (total 28 columns):\n",
            " #   Column             Non-Null Count  Dtype  \n",
            "---  ------             --------------  -----  \n",
            " 0   Unnamed: 0         23392 non-null  int64  \n",
            " 1   gender             23392 non-null  object \n",
            " 2   car                23392 non-null  object \n",
            " 3   reality            23392 non-null  object \n",
            " 4   income_total       23392 non-null  float64\n",
            " 5   income_type        23392 non-null  object \n",
            " 6   edu_type           23392 non-null  int64  \n",
            " 7   family_type        23392 non-null  object \n",
            " 8   house_type         23392 non-null  int64  \n",
            " 9   work_phone         23392 non-null  int64  \n",
            " 10  home_phone         23392 non-null  int64  \n",
            " 11  email              23392 non-null  int64  \n",
            " 12  occup_type         23392 non-null  object \n",
            " 13  family_size        23392 non-null  float64\n",
            " 14  begin_month        23392 non-null  int64  \n",
            " 15  credit             23392 non-null  float64\n",
            " 16  days_unemployed    23392 non-null  int64  \n",
            " 17  income_unemployed  23392 non-null  float64\n",
            " 18  Age                23392 non-null  int64  \n",
            " 19  birth_month        23392 non-null  float64\n",
            " 20  birth_week         23392 non-null  float64\n",
            " 21  ages_employed      23392 non-null  int64  \n",
            " 22  employ_month       23392 non-null  float64\n",
            " 23  employ_week        23392 non-null  float64\n",
            " 24  ages_unemployed    23392 non-null  int64  \n",
            " 25  unemploy_month     23392 non-null  float64\n",
            " 26  unemploy_week      23392 non-null  float64\n",
            " 27  income_family      23392 non-null  float64\n",
            "dtypes: float64(11), int64(11), object(6)\n",
            "memory usage: 5.0+ MB\n"
          ]
        }
      ],
      "source": [
        "train.info()"
      ]
    },
    {
      "cell_type": "markdown",
      "metadata": {
        "id": "-JaWhfFYsgkP"
      },
      "source": [
        "#Training"
      ]
    },
    {
      "cell_type": "code",
      "execution_count": 9,
      "metadata": {
        "id": "bsH9mEHs1LU-"
      },
      "outputs": [],
      "source": [
        "#Optuna용 Train셋\n",
        "X = train.drop(['credit'],axis=1)\n",
        "y = train['credit']\n",
        "X_test = test.copy()"
      ]
    },
    {
      "cell_type": "code",
      "execution_count": 10,
      "metadata": {
        "id": "_X3xpkC80xe5"
      },
      "outputs": [],
      "source": [
        "def objective(trial):\n",
        "  param = {\n",
        "      \"random_state\":42,\n",
        "      'learning_rate' : trial.suggest_loguniform('learning_rate', 0.01, 0.3),\n",
        "      'bagging_temperature' :trial.suggest_loguniform('bagging_temperature', 0.01, 100.00),\n",
        "      \"n_estimators\":trial.suggest_int(\"n_estimators\", 1000, 10000),\n",
        "      \"max_depth\":trial.suggest_int(\"max_depth\", 4, 16),\n",
        "      'random_strength' :trial.suggest_int('random_strength', 0, 100),\n",
        "      \"colsample_bylevel\":trial.suggest_float(\"colsample_bylevel\", 0.4, 1.0),\n",
        "      \"l2_leaf_reg\":trial.suggest_float(\"l2_leaf_reg\",1e-8,3e-5),\n",
        "      \"min_child_samples\": trial.suggest_int(\"min_child_samples\", 5, 100),\n",
        "      \"max_bin\": trial.suggest_int(\"max_bin\", 200, 500),\n",
        "      'od_type': trial.suggest_categorical('od_type', ['IncToDec', 'Iter']),\n",
        "  }\n",
        "\n",
        "  X_train, X_valid, y_train, y_valid = train_test_split(X,y,test_size=0.2)\n",
        "  \n",
        "  # cat_features =[0,1,2,5,6,7,8,15]\n",
        "  cat_features =[1,2,3,5,7,12]\n",
        "  cat = CatBoostClassifier(**param)\n",
        "  cat.fit(X_train, y_train,\n",
        "          eval_set=[(X_train, y_train), (X_valid,y_valid)],\n",
        "          early_stopping_rounds=35,cat_features=cat_features,\n",
        "          verbose=100)\n",
        "  cat_pred = cat.predict_proba(X_valid)\n",
        "  log_score = log_loss(y_valid, cat_pred)\n",
        "\n",
        "  return log_score"
      ]
    },
    {
      "cell_type": "code",
      "execution_count": 11,
      "metadata": {
        "colab": {
          "base_uri": "https://localhost:8080/"
        },
        "id": "37SNdUf10036",
        "outputId": "ea4134ae-cd00-477d-d442-fbfd501c330b"
      },
      "outputs": [
        {
          "output_type": "stream",
          "name": "stderr",
          "text": [
            "\u001b[32m[I 2022-12-08 11:56:56,740]\u001b[0m A new study created in memory with name: cat_parameter_opt\u001b[0m\n"
          ]
        },
        {
          "output_type": "stream",
          "name": "stdout",
          "text": [
            "0:\tlearn: 1.0821244\ttest: 1.0821244\ttest1: 1.0818482\tbest: 1.0818482 (0)\ttotal: 59.8ms\tremaining: 7m 33s\n",
            "100:\tlearn: 0.8711219\ttest: 0.8711219\ttest1: 0.8645644\tbest: 0.8645644 (100)\ttotal: 1.15s\tremaining: 1m 24s\n",
            "200:\tlearn: 0.8709316\ttest: 0.8709316\ttest1: 0.8642077\tbest: 0.8642077 (200)\ttotal: 2.15s\tremaining: 1m 18s\n",
            "300:\tlearn: 0.8709314\ttest: 0.8709314\ttest1: 0.8642032\tbest: 0.8642032 (300)\ttotal: 3.16s\tremaining: 1m 16s\n",
            "400:\tlearn: 0.8709314\ttest: 0.8709314\ttest1: 0.8642031\tbest: 0.8642031 (400)\ttotal: 4.33s\tremaining: 1m 17s\n",
            "500:\tlearn: 0.8709314\ttest: 0.8709314\ttest1: 0.8642031\tbest: 0.8642031 (500)\ttotal: 5.58s\tremaining: 1m 18s\n",
            "600:\tlearn: 0.8709314\ttest: 0.8709314\ttest1: 0.8642031\tbest: 0.8642031 (600)\ttotal: 6.61s\tremaining: 1m 16s\n",
            "700:\tlearn: 0.8709314\ttest: 0.8709314\ttest1: 0.8642031\tbest: 0.8642031 (686)\ttotal: 7.6s\tremaining: 1m 14s\n"
          ]
        },
        {
          "output_type": "stream",
          "name": "stderr",
          "text": [
            "\u001b[32m[I 2022-12-08 11:57:05,138]\u001b[0m Trial 0 finished with value: 0.8642030816748936 and parameters: {'learning_rate': 0.03574712922600244, 'bagging_temperature': 63.512210106407046, 'n_estimators': 7588, 'max_depth': 11, 'random_strength': 15, 'colsample_bylevel': 0.49359671220172163, 'l2_leaf_reg': 1.7519275289243016e-06, 'min_child_samples': 88, 'max_bin': 380, 'od_type': 'IncToDec'}. Best is trial 0 with value: 0.8642030816748936.\u001b[0m\n"
          ]
        },
        {
          "output_type": "stream",
          "name": "stdout",
          "text": [
            "Stopped by overfitting detector  (35 iterations wait)\n",
            "\n",
            "bestTest = 0.8642030817\n",
            "bestIteration = 723\n",
            "\n",
            "Shrink model to first 724 iterations.\n",
            "0:\tlearn: 0.9867939\ttest: 0.9867939\ttest1: 0.9873989\tbest: 0.9873989 (0)\ttotal: 41.7ms\tremaining: 2m 1s\n",
            "100:\tlearn: 0.6749697\ttest: 0.6749697\ttest1: 0.7743979\tbest: 0.7743979 (100)\ttotal: 4.14s\tremaining: 1m 55s\n",
            "200:\tlearn: 0.5852068\ttest: 0.5852068\ttest1: 0.7679011\tbest: 0.7679011 (200)\ttotal: 8.73s\tremaining: 1m 57s\n"
          ]
        },
        {
          "output_type": "stream",
          "name": "stderr",
          "text": [
            "\u001b[32m[I 2022-12-08 11:57:15,488]\u001b[0m Trial 1 finished with value: 0.7679011389674975 and parameters: {'learning_rate': 0.2708160864249968, 'bagging_temperature': 21.368329072358772, 'n_estimators': 2911, 'max_depth': 6, 'random_strength': 18, 'colsample_bylevel': 0.5825453457757226, 'l2_leaf_reg': 1.5747445384650815e-05, 'min_child_samples': 46, 'max_bin': 287, 'od_type': 'IncToDec'}. Best is trial 1 with value: 0.7679011389674975.\u001b[0m\n"
          ]
        },
        {
          "output_type": "stream",
          "name": "stdout",
          "text": [
            "Stopped by overfitting detector  (35 iterations wait)\n",
            "\n",
            "bestTest = 0.767901139\n",
            "bestIteration = 200\n",
            "\n",
            "Shrink model to first 201 iterations.\n",
            "0:\tlearn: 1.0859514\ttest: 1.0859592\ttest1: 1.0857966\tbest: 1.0857966 (0)\ttotal: 61.2ms\tremaining: 5m 12s\n",
            "100:\tlearn: 0.8151910\ttest: 0.8215432\ttest1: 0.8267354\tbest: 0.8267354 (100)\ttotal: 23.3s\tremaining: 19m 12s\n",
            "200:\tlearn: 0.7832809\ttest: 0.7981232\ttest1: 0.8101692\tbest: 0.8101692 (200)\ttotal: 55.1s\tremaining: 22m 23s\n",
            "300:\tlearn: 0.7554608\ttest: 0.7775800\ttest1: 0.7994809\tbest: 0.7994809 (300)\ttotal: 1m 32s\tremaining: 24m 32s\n",
            "400:\tlearn: 0.7292815\ttest: 0.7574620\ttest1: 0.7874070\tbest: 0.7874070 (400)\ttotal: 1m 58s\tremaining: 23m 9s\n",
            "500:\tlearn: 0.5425607\ttest: 0.6138452\ttest1: 0.7435431\tbest: 0.7435431 (500)\ttotal: 3m 35s\tremaining: 33m 4s\n",
            "600:\tlearn: 0.3066986\ttest: 0.3932791\ttest1: 0.7228268\tbest: 0.7224932 (594)\ttotal: 6m 20s\tremaining: 47m 30s\n",
            "Stopped by overfitting detector  (35 iterations wait)\n",
            "\n",
            "bestTest = 0.7224931938\n",
            "bestIteration = 594\n",
            "\n",
            "Shrink model to first 595 iterations.\n"
          ]
        },
        {
          "output_type": "stream",
          "name": "stderr",
          "text": [
            "\u001b[32m[I 2022-12-08 12:04:25,014]\u001b[0m Trial 2 finished with value: 0.7224931937513874 and parameters: {'learning_rate': 0.027010527749605478, 'bagging_temperature': 0.2920433847181412, 'n_estimators': 5105, 'max_depth': 14, 'random_strength': 20, 'colsample_bylevel': 0.708540663048167, 'l2_leaf_reg': 1.7776512920172654e-05, 'min_child_samples': 9, 'max_bin': 382, 'od_type': 'IncToDec'}. Best is trial 2 with value: 0.7224931937513874.\u001b[0m\n"
          ]
        },
        {
          "output_type": "stream",
          "name": "stdout",
          "text": [
            "0:\tlearn: 0.9953481\ttest: 0.9953481\ttest1: 0.9939804\tbest: 0.9939804 (0)\ttotal: 14.5ms\tremaining: 1m 59s\n"
          ]
        },
        {
          "output_type": "stream",
          "name": "stderr",
          "text": [
            "\u001b[32m[I 2022-12-08 12:04:25,783]\u001b[0m Trial 3 finished with value: 0.8672340370556336 and parameters: {'learning_rate': 0.2521267904777921, 'bagging_temperature': 72.86653737491046, 'n_estimators': 8276, 'max_depth': 7, 'random_strength': 9, 'colsample_bylevel': 0.8105398159072941, 'l2_leaf_reg': 1.3210173287250643e-05, 'min_child_samples': 16, 'max_bin': 349, 'od_type': 'Iter'}. Best is trial 2 with value: 0.7224931937513874.\u001b[0m\n"
          ]
        },
        {
          "output_type": "stream",
          "name": "stdout",
          "text": [
            "Stopped by overfitting detector  (35 iterations wait)\n",
            "\n",
            "bestTest = 0.8672340371\n",
            "bestIteration = 20\n",
            "\n",
            "Shrink model to first 21 iterations.\n",
            "0:\tlearn: 1.0869978\ttest: 1.0870128\ttest1: 1.0870984\tbest: 1.0870984 (0)\ttotal: 78ms\tremaining: 4m 56s\n",
            "100:\tlearn: 0.7834456\ttest: 0.7954493\ttest1: 0.8127487\tbest: 0.8127487 (100)\ttotal: 7.9s\tremaining: 4m 49s\n",
            "200:\tlearn: 0.7122518\ttest: 0.7398570\ttest1: 0.7850814\tbest: 0.7850814 (200)\ttotal: 16.8s\tremaining: 5m\n",
            "300:\tlearn: 0.6581770\ttest: 0.6970110\ttest1: 0.7680599\tbest: 0.7680599 (300)\ttotal: 25.5s\tremaining: 4m 56s\n",
            "400:\tlearn: 0.6012891\ttest: 0.6539971\ttest1: 0.7556959\tbest: 0.7556959 (400)\ttotal: 35.4s\tremaining: 5m\n",
            "500:\tlearn: 0.5175456\ttest: 0.5853792\ttest1: 0.7409723\tbest: 0.7409723 (500)\ttotal: 46.9s\tremaining: 5m 9s\n",
            "600:\tlearn: 0.4476422\ttest: 0.5183037\ttest1: 0.7327881\tbest: 0.7327541 (599)\ttotal: 58.3s\tremaining: 5m 10s\n",
            "700:\tlearn: 0.3926369\ttest: 0.4629817\ttest1: 0.7305734\tbest: 0.7302348 (684)\ttotal: 1m 9s\tremaining: 5m 8s\n"
          ]
        },
        {
          "output_type": "stream",
          "name": "stderr",
          "text": [
            "\u001b[32m[I 2022-12-08 12:05:37,898]\u001b[0m Trial 4 finished with value: 0.7302347902166336 and parameters: {'learning_rate': 0.024112898115291985, 'bagging_temperature': 4.467752817973908, 'n_estimators': 3805, 'max_depth': 10, 'random_strength': 55, 'colsample_bylevel': 0.5109126733153162, 'l2_leaf_reg': 2.9087842986659113e-05, 'min_child_samples': 79, 'max_bin': 482, 'od_type': 'IncToDec'}. Best is trial 2 with value: 0.7224931937513874.\u001b[0m\n"
          ]
        },
        {
          "output_type": "stream",
          "name": "stdout",
          "text": [
            "Stopped by overfitting detector  (35 iterations wait)\n",
            "\n",
            "bestTest = 0.7302347902\n",
            "bestIteration = 684\n",
            "\n",
            "Shrink model to first 685 iterations.\n",
            "0:\tlearn: 1.0015953\ttest: 1.0015953\ttest1: 1.0045483\tbest: 1.0045483 (0)\ttotal: 36.3ms\tremaining: 1m 40s\n",
            "100:\tlearn: 0.7539844\ttest: 0.7575328\ttest1: 0.7923574\tbest: 0.7923574 (100)\ttotal: 2.92s\tremaining: 1m 17s\n",
            "200:\tlearn: 0.7073467\ttest: 0.7135895\ttest1: 0.7830324\tbest: 0.7829455 (199)\ttotal: 5.6s\tremaining: 1m 11s\n",
            "300:\tlearn: 0.6706998\ttest: 0.6805906\ttest1: 0.7764993\tbest: 0.7764993 (300)\ttotal: 8.28s\tremaining: 1m 7s\n",
            "400:\tlearn: 0.6391028\ttest: 0.6520707\ttest1: 0.7737202\tbest: 0.7737202 (400)\ttotal: 11s\tremaining: 1m 4s\n"
          ]
        },
        {
          "output_type": "stream",
          "name": "stderr",
          "text": [
            "\u001b[32m[I 2022-12-08 12:05:50,725]\u001b[0m Trial 5 finished with value: 0.7731502664471848 and parameters: {'learning_rate': 0.22999586428143728, 'bagging_temperature': 0.022592797420156956, 'n_estimators': 2764, 'max_depth': 4, 'random_strength': 32, 'colsample_bylevel': 0.6332063738136893, 'l2_leaf_reg': 8.147757462899138e-06, 'min_child_samples': 84, 'max_bin': 307, 'od_type': 'Iter'}. Best is trial 2 with value: 0.7224931937513874.\u001b[0m\n"
          ]
        },
        {
          "output_type": "stream",
          "name": "stdout",
          "text": [
            "Stopped by overfitting detector  (35 iterations wait)\n",
            "\n",
            "bestTest = 0.7731502664\n",
            "bestIteration = 408\n",
            "\n",
            "Shrink model to first 409 iterations.\n",
            "0:\tlearn: 1.0830370\ttest: 1.0830370\ttest1: 1.0908327\tbest: 1.0908327 (0)\ttotal: 3.92s\tremaining: 1h 49m 2s\n",
            "100:\tlearn: 0.4284503\ttest: 0.4284503\ttest1: 0.8140756\tbest: 0.8140756 (100)\ttotal: 9m 11s\tremaining: 2h 22m 52s\n",
            "200:\tlearn: 0.2198381\ttest: 0.2198381\ttest1: 0.7963431\tbest: 0.7933187 (177)\ttotal: 18m 13s\tremaining: 2h 13m 15s\n",
            "Stopped by overfitting detector  (35 iterations wait)\n",
            "\n",
            "bestTest = 0.7933186972\n",
            "bestIteration = 177\n",
            "\n",
            "Shrink model to first 178 iterations.\n"
          ]
        },
        {
          "output_type": "stream",
          "name": "stderr",
          "text": [
            "\u001b[32m[I 2022-12-08 12:25:12,318]\u001b[0m Trial 6 finished with value: 0.7933186972407723 and parameters: {'learning_rate': 0.016149614799999188, 'bagging_temperature': 16.172900811143155, 'n_estimators': 1671, 'max_depth': 16, 'random_strength': 77, 'colsample_bylevel': 0.5192294089205034, 'l2_leaf_reg': 1.7560829253683595e-07, 'min_child_samples': 83, 'max_bin': 412, 'od_type': 'Iter'}. Best is trial 2 with value: 0.7224931937513874.\u001b[0m\n"
          ]
        },
        {
          "output_type": "stream",
          "name": "stdout",
          "text": [
            "0:\tlearn: 1.0924681\ttest: 1.0925092\ttest1: 1.0925395\tbest: 1.0925395 (0)\ttotal: 306ms\tremaining: 10m 24s\n",
            "100:\tlearn: 0.8746277\ttest: 0.8770431\ttest1: 0.8779412\tbest: 0.8779412 (100)\ttotal: 23.3s\tremaining: 7m 27s\n",
            "200:\tlearn: 0.8474791\ttest: 0.8513474\ttest1: 0.8535226\tbest: 0.8535226 (200)\ttotal: 34.7s\tremaining: 5m 18s\n",
            "300:\tlearn: 0.8371242\ttest: 0.8433040\ttest1: 0.8475430\tbest: 0.8475430 (300)\ttotal: 47.6s\tremaining: 4m 35s\n",
            "400:\tlearn: 0.8275428\ttest: 0.8365471\ttest1: 0.8422808\tbest: 0.8422808 (400)\ttotal: 1m 7s\tremaining: 4m 37s\n",
            "500:\tlearn: 0.8177292\ttest: 0.8292903\ttest1: 0.8367122\tbest: 0.8367122 (500)\ttotal: 1m 34s\tremaining: 4m 51s\n",
            "600:\tlearn: 0.8061637\ttest: 0.8208668\ttest1: 0.8301743\tbest: 0.8301743 (600)\ttotal: 2m 11s\tremaining: 5m 14s\n",
            "700:\tlearn: 0.7967953\ttest: 0.8136237\ttest1: 0.8243115\tbest: 0.8243071 (696)\ttotal: 2m 34s\tremaining: 4m 56s\n",
            "800:\tlearn: 0.7829942\ttest: 0.8039994\ttest1: 0.8178819\tbest: 0.8178819 (800)\ttotal: 3m 9s\tremaining: 4m 53s\n",
            "900:\tlearn: 0.7616725\ttest: 0.7858392\ttest1: 0.8032349\tbest: 0.8032349 (899)\ttotal: 3m 47s\tremaining: 4m 47s\n",
            "1000:\tlearn: 0.7212157\ttest: 0.7561493\ttest1: 0.7846085\tbest: 0.7846085 (1000)\ttotal: 4m 53s\tremaining: 5m 5s\n",
            "1100:\tlearn: 0.5834750\ttest: 0.6553868\ttest1: 0.7503541\tbest: 0.7503541 (1100)\ttotal: 7m 30s\tremaining: 6m 25s\n",
            "1200:\tlearn: 0.3955995\ttest: 0.4864885\ttest1: 0.7193339\tbest: 0.7193339 (1200)\ttotal: 11m 34s\tremaining: 8m 6s\n",
            "1300:\tlearn: 0.2835863\ttest: 0.3830797\ttest1: 0.7121403\tbest: 0.7118149 (1294)\ttotal: 15m 57s\tremaining: 9m 5s\n",
            "Stopped by overfitting detector  (35 iterations wait)\n",
            "\n",
            "bestTest = 0.7118148655\n",
            "bestIteration = 1294\n",
            "\n",
            "Shrink model to first 1295 iterations.\n"
          ]
        },
        {
          "output_type": "stream",
          "name": "stderr",
          "text": [
            "\u001b[32m[I 2022-12-08 12:42:25,358]\u001b[0m Trial 7 finished with value: 0.7118148655460776 and parameters: {'learning_rate': 0.012863908101989912, 'bagging_temperature': 0.27155819552829413, 'n_estimators': 2042, 'max_depth': 15, 'random_strength': 62, 'colsample_bylevel': 0.5985388149115896, 'l2_leaf_reg': 1.9161149250778487e-06, 'min_child_samples': 34, 'max_bin': 297, 'od_type': 'IncToDec'}. Best is trial 7 with value: 0.7118148655460776.\u001b[0m\n"
          ]
        },
        {
          "output_type": "stream",
          "name": "stdout",
          "text": [
            "0:\tlearn: 1.0109841\ttest: 1.0110510\ttest1: 1.0112485\tbest: 1.0112485 (0)\ttotal: 49.9ms\tremaining: 1m 43s\n",
            "100:\tlearn: 0.2340707\ttest: 0.3047717\ttest1: 0.7749435\tbest: 0.7540147 (83)\ttotal: 42.3s\tremaining: 13m 46s\n"
          ]
        },
        {
          "output_type": "stream",
          "name": "stderr",
          "text": [
            "\u001b[32m[I 2022-12-08 12:43:23,605]\u001b[0m Trial 8 finished with value: 0.7540147432020732 and parameters: {'learning_rate': 0.20441878352493792, 'bagging_temperature': 0.7742116473996251, 'n_estimators': 2076, 'max_depth': 13, 'random_strength': 76, 'colsample_bylevel': 0.7367663185416977, 'l2_leaf_reg': 2.3131305726837285e-05, 'min_child_samples': 52, 'max_bin': 357, 'od_type': 'IncToDec'}. Best is trial 7 with value: 0.7118148655460776.\u001b[0m\n"
          ]
        },
        {
          "output_type": "stream",
          "name": "stdout",
          "text": [
            "Stopped by overfitting detector  (35 iterations wait)\n",
            "\n",
            "bestTest = 0.7540147432\n",
            "bestIteration = 83\n",
            "\n",
            "Shrink model to first 84 iterations.\n",
            "0:\tlearn: 1.0918802\ttest: 1.0919526\ttest1: 1.0916815\tbest: 1.0916815 (0)\ttotal: 108ms\tremaining: 12m 4s\n",
            "100:\tlearn: 0.8734488\ttest: 0.8749738\ttest1: 0.8640089\tbest: 0.8640089 (100)\ttotal: 5.85s\tremaining: 6m 23s\n",
            "200:\tlearn: 0.8468110\ttest: 0.8493436\ttest1: 0.8381827\tbest: 0.8381827 (200)\ttotal: 13.1s\tremaining: 7m 4s\n",
            "300:\tlearn: 0.8379628\ttest: 0.8416063\ttest1: 0.8311924\tbest: 0.8311924 (300)\ttotal: 18.1s\tremaining: 6m 26s\n",
            "400:\tlearn: 0.8311093\ttest: 0.8359138\ttest1: 0.8271370\tbest: 0.8271370 (400)\ttotal: 23.5s\tremaining: 6m 10s\n",
            "500:\tlearn: 0.8212932\ttest: 0.8275024\ttest1: 0.8206294\tbest: 0.8206294 (500)\ttotal: 29.3s\tremaining: 6m 4s\n",
            "600:\tlearn: 0.8128869\ttest: 0.8204235\ttest1: 0.8153032\tbest: 0.8153032 (600)\ttotal: 35.5s\tremaining: 6m 1s\n",
            "700:\tlearn: 0.8028228\ttest: 0.8114890\ttest1: 0.8079008\tbest: 0.8078994 (699)\ttotal: 41.3s\tremaining: 5m 55s\n",
            "800:\tlearn: 0.7861737\ttest: 0.7959844\ttest1: 0.7946623\tbest: 0.7946623 (800)\ttotal: 47.9s\tremaining: 5m 54s\n",
            "900:\tlearn: 0.7704425\ttest: 0.7811284\ttest1: 0.7825885\tbest: 0.7825885 (900)\ttotal: 53.6s\tremaining: 5m 46s\n",
            "1000:\tlearn: 0.7498899\ttest: 0.7637864\ttest1: 0.7742231\tbest: 0.7742231 (1000)\ttotal: 1m 2s\tremaining: 5m 55s\n",
            "1100:\tlearn: 0.7242868\ttest: 0.7393255\ttest1: 0.7653371\tbest: 0.7653371 (1100)\ttotal: 1m 11s\tremaining: 6m 7s\n",
            "1200:\tlearn: 0.7004126\ttest: 0.7159511\ttest1: 0.7578119\tbest: 0.7578119 (1200)\ttotal: 1m 21s\tremaining: 6m 15s\n",
            "1300:\tlearn: 0.6760139\ttest: 0.6935297\ttest1: 0.7519134\tbest: 0.7519134 (1300)\ttotal: 1m 31s\tremaining: 6m 21s\n",
            "1400:\tlearn: 0.6558572\ttest: 0.6751427\ttest1: 0.7471415\tbest: 0.7471415 (1400)\ttotal: 1m 41s\tremaining: 6m 24s\n",
            "1500:\tlearn: 0.6346729\ttest: 0.6558579\ttest1: 0.7420892\tbest: 0.7420892 (1500)\ttotal: 1m 50s\tremaining: 6m 25s\n",
            "1600:\tlearn: 0.6171688\ttest: 0.6404932\ttest1: 0.7383989\tbest: 0.7383989 (1600)\ttotal: 2m\tremaining: 6m 26s\n",
            "1700:\tlearn: 0.6010299\ttest: 0.6265869\ttest1: 0.7352429\tbest: 0.7352429 (1700)\ttotal: 2m 10s\tremaining: 6m 26s\n",
            "1800:\tlearn: 0.5855367\ttest: 0.6130089\ttest1: 0.7327676\tbest: 0.7327553 (1798)\ttotal: 2m 20s\tremaining: 6m 23s\n",
            "1900:\tlearn: 0.5711115\ttest: 0.6004106\ttest1: 0.7300307\tbest: 0.7300307 (1900)\ttotal: 2m 29s\tremaining: 6m 20s\n",
            "2000:\tlearn: 0.5569860\ttest: 0.5889682\ttest1: 0.7282383\tbest: 0.7282383 (2000)\ttotal: 2m 39s\tremaining: 6m 16s\n",
            "2100:\tlearn: 0.5434489\ttest: 0.5773023\ttest1: 0.7266791\tbest: 0.7266593 (2089)\ttotal: 2m 49s\tremaining: 6m 12s\n",
            "2200:\tlearn: 0.5302089\ttest: 0.5665444\ttest1: 0.7258828\tbest: 0.7258828 (2200)\ttotal: 2m 58s\tremaining: 6m 7s\n",
            "2300:\tlearn: 0.5175848\ttest: 0.5561007\ttest1: 0.7246701\tbest: 0.7246701 (2300)\ttotal: 3m 8s\tremaining: 6m 2s\n",
            "2400:\tlearn: 0.5052028\ttest: 0.5459500\ttest1: 0.7235022\tbest: 0.7235022 (2400)\ttotal: 3m 18s\tremaining: 5m 57s\n",
            "2500:\tlearn: 0.4934110\ttest: 0.5359793\ttest1: 0.7218863\tbest: 0.7218863 (2500)\ttotal: 3m 29s\tremaining: 5m 54s\n",
            "2600:\tlearn: 0.4810389\ttest: 0.5253524\ttest1: 0.7208677\tbest: 0.7208472 (2599)\ttotal: 3m 39s\tremaining: 5m 48s\n",
            "2700:\tlearn: 0.4692810\ttest: 0.5149155\ttest1: 0.7199686\tbest: 0.7199683 (2698)\ttotal: 3m 50s\tremaining: 5m 44s\n",
            "Stopped by overfitting detector  (35 iterations wait)\n",
            "\n",
            "bestTest = 0.7199496874\n",
            "bestIteration = 2703\n",
            "\n",
            "Shrink model to first 2704 iterations.\n"
          ]
        },
        {
          "output_type": "stream",
          "name": "stderr",
          "text": [
            "\u001b[32m[I 2022-12-08 12:47:18,906]\u001b[0m Trial 9 finished with value: 0.7199496874249156 and parameters: {'learning_rate': 0.01443340240633889, 'bagging_temperature': 0.0133572404119741, 'n_estimators': 6728, 'max_depth': 8, 'random_strength': 51, 'colsample_bylevel': 0.9445398843556558, 'l2_leaf_reg': 7.486273952174759e-06, 'min_child_samples': 44, 'max_bin': 427, 'od_type': 'IncToDec'}. Best is trial 7 with value: 0.7118148655460776.\u001b[0m\n"
          ]
        },
        {
          "output_type": "stream",
          "name": "stdout",
          "text": [
            "Best Score: 0.7118148655460776\n",
            "Best trial {'learning_rate': 0.012863908101989912, 'bagging_temperature': 0.27155819552829413, 'n_estimators': 2042, 'max_depth': 15, 'random_strength': 62, 'colsample_bylevel': 0.5985388149115896, 'l2_leaf_reg': 1.9161149250778487e-06, 'min_child_samples': 34, 'max_bin': 297, 'od_type': 'IncToDec'}\n"
          ]
        }
      ],
      "source": [
        "sampler = TPESampler(seed=42)\n",
        "study = optuna.create_study(\n",
        "    study_name = 'cat_parameter_opt',\n",
        "    direction = 'minimize',\n",
        "    sampler = sampler,\n",
        ")\n",
        "study.optimize(objective, n_trials=10)\n",
        "print(\"Best Score:\",study.best_value)\n",
        "print(\"Best trial\",study.best_trial.params)"
      ]
    },
    {
      "cell_type": "code",
      "execution_count": 12,
      "metadata": {
        "id": "XiirClPbRJSV"
      },
      "outputs": [],
      "source": [
        "skf = StratifiedKFold(n_splits=5, shuffle=True, random_state=42)\n",
        "folds = []\n",
        "for train_idx, valid_idx in skf.split(train, train['credit']):\n",
        "  folds.append((train_idx,valid_idx))"
      ]
    },
    {
      "cell_type": "code",
      "execution_count": 13,
      "metadata": {
        "id": "35QkbKwnRU0W",
        "colab": {
          "base_uri": "https://localhost:8080/"
        },
        "outputId": "2586eb64-3ec3-4900-82ce-29617ae9c744"
      },
      "outputs": [
        {
          "output_type": "stream",
          "name": "stdout",
          "text": [
            "====================================1============================================\n",
            "0:\tlearn: 1.0925701\ttest: 1.0925701\ttest1: 1.0925692\tbest: 1.0925692 (0)\ttotal: 18.4ms\tremaining: 37.5s\n",
            "100:\tlearn: 0.8754531\ttest: 0.8782147\ttest1: 0.8803563\tbest: 0.8803563 (100)\ttotal: 30.9s\tremaining: 9m 54s\n",
            "200:\tlearn: 0.8381615\ttest: 0.8459430\ttest1: 0.8510435\tbest: 0.8510435 (200)\ttotal: 1m 19s\tremaining: 12m 11s\n",
            "300:\tlearn: 0.8269867\ttest: 0.8370388\ttest1: 0.8434331\tbest: 0.8434331 (300)\ttotal: 1m 33s\tremaining: 8m 59s\n",
            "400:\tlearn: 0.8145027\ttest: 0.8280194\ttest1: 0.8366572\tbest: 0.8366572 (400)\ttotal: 2m 6s\tremaining: 8m 35s\n",
            "500:\tlearn: 0.8018909\ttest: 0.8195498\ttest1: 0.8303443\tbest: 0.8303425 (499)\ttotal: 2m 39s\tremaining: 8m 10s\n",
            "600:\tlearn: 0.7968975\ttest: 0.8162750\ttest1: 0.8283738\tbest: 0.8283728 (599)\ttotal: 2m 58s\tremaining: 7m 8s\n",
            "700:\tlearn: 0.7885293\ttest: 0.8101881\ttest1: 0.8240702\tbest: 0.8240702 (700)\ttotal: 3m 23s\tremaining: 6m 28s\n",
            "800:\tlearn: 0.7765504\ttest: 0.8016006\ttest1: 0.8179213\tbest: 0.8179209 (799)\ttotal: 4m 8s\tremaining: 6m 24s\n",
            "900:\tlearn: 0.7537811\ttest: 0.7812999\ttest1: 0.8004682\tbest: 0.8004682 (900)\ttotal: 4m 38s\tremaining: 5m 52s\n",
            "1000:\tlearn: 0.7144758\ttest: 0.7511936\ttest1: 0.7807849\tbest: 0.7807849 (1000)\ttotal: 5m 46s\tremaining: 6m\n",
            "1100:\tlearn: 0.5777586\ttest: 0.6537046\ttest1: 0.7504432\tbest: 0.7504432 (1100)\ttotal: 8m 17s\tremaining: 7m 5s\n",
            "1200:\tlearn: 0.4050396\ttest: 0.5011082\ttest1: 0.7253103\tbest: 0.7253103 (1200)\ttotal: 12m 17s\tremaining: 8m 36s\n",
            "1300:\tlearn: 0.2880664\ttest: 0.3902747\ttest1: 0.7208841\tbest: 0.7206270 (1289)\ttotal: 16m 38s\tremaining: 9m 28s\n",
            "Stopped by overfitting detector  (35 iterations wait)\n",
            "\n",
            "bestTest = 0.7206269907\n",
            "bestIteration = 1289\n",
            "\n",
            "Shrink model to first 1290 iterations.\n",
            "================================================================================\n",
            "\n",
            "\n",
            "====================================2============================================\n",
            "0:\tlearn: 1.0925704\ttest: 1.0925704\ttest1: 1.0925688\tbest: 1.0925688 (0)\ttotal: 18.1ms\tremaining: 36.9s\n",
            "100:\tlearn: 0.8681090\ttest: 0.8708438\ttest1: 0.8721310\tbest: 0.8721310 (100)\ttotal: 25.7s\tremaining: 8m 14s\n",
            "200:\tlearn: 0.8365928\ttest: 0.8433906\ttest1: 0.8474262\tbest: 0.8474262 (200)\ttotal: 54.8s\tremaining: 8m 22s\n",
            "300:\tlearn: 0.8218956\ttest: 0.8326964\ttest1: 0.8393692\tbest: 0.8393692 (300)\ttotal: 1m 36s\tremaining: 9m 20s\n",
            "400:\tlearn: 0.8116633\ttest: 0.8249053\ttest1: 0.8330916\tbest: 0.8330916 (400)\ttotal: 2m 7s\tremaining: 8m 40s\n",
            "500:\tlearn: 0.8028037\ttest: 0.8179904\ttest1: 0.8282770\tbest: 0.8282770 (500)\ttotal: 2m 31s\tremaining: 7m 44s\n",
            "600:\tlearn: 0.7955246\ttest: 0.8125214\ttest1: 0.8240556\tbest: 0.8240556 (600)\ttotal: 2m 55s\tremaining: 7m 1s\n",
            "700:\tlearn: 0.7852953\ttest: 0.8046920\ttest1: 0.8189494\tbest: 0.8189494 (700)\ttotal: 3m 34s\tremaining: 6m 49s\n",
            "800:\tlearn: 0.7739911\ttest: 0.7972378\ttest1: 0.8131483\tbest: 0.8131483 (800)\ttotal: 4m 15s\tremaining: 6m 36s\n",
            "900:\tlearn: 0.7574931\ttest: 0.7831949\ttest1: 0.8003540\tbest: 0.8003540 (900)\ttotal: 4m 59s\tremaining: 6m 19s\n",
            "1000:\tlearn: 0.6993858\ttest: 0.7381185\ttest1: 0.7747737\tbest: 0.7747737 (1000)\ttotal: 6m 27s\tremaining: 6m 43s\n",
            "1100:\tlearn: 0.5743816\ttest: 0.6479742\ttest1: 0.7456507\tbest: 0.7456507 (1100)\ttotal: 9m 8s\tremaining: 7m 48s\n",
            "1200:\tlearn: 0.4056616\ttest: 0.5001515\ttest1: 0.7204045\tbest: 0.7204045 (1200)\ttotal: 13m 18s\tremaining: 9m 19s\n",
            "1300:\tlearn: 0.2952004\ttest: 0.3915349\ttest1: 0.7120724\tbest: 0.7120724 (1300)\ttotal: 17m 40s\tremaining: 10m 3s\n",
            "Stopped by overfitting detector  (35 iterations wait)\n",
            "\n",
            "bestTest = 0.7117787999\n",
            "bestIteration = 1330\n",
            "\n",
            "Shrink model to first 1331 iterations.\n",
            "================================================================================\n",
            "\n",
            "\n",
            "====================================3============================================\n",
            "0:\tlearn: 1.0923124\ttest: 1.0923764\ttest1: 1.0925171\tbest: 1.0925171 (0)\ttotal: 1.38s\tremaining: 46m 58s\n",
            "100:\tlearn: 0.8789498\ttest: 0.8806727\ttest1: 0.8825288\tbest: 0.8825288 (100)\ttotal: 19.7s\tremaining: 6m 17s\n",
            "200:\tlearn: 0.8397377\ttest: 0.8457306\ttest1: 0.8520780\tbest: 0.8520780 (200)\ttotal: 56s\tremaining: 8m 32s\n",
            "300:\tlearn: 0.8223847\ttest: 0.8316075\ttest1: 0.8411895\tbest: 0.8411895 (300)\ttotal: 1m 24s\tremaining: 8m 11s\n",
            "400:\tlearn: 0.8120817\ttest: 0.8238130\ttest1: 0.8353307\tbest: 0.8353307 (400)\ttotal: 1m 59s\tremaining: 8m 9s\n",
            "500:\tlearn: 0.8018041\ttest: 0.8162152\ttest1: 0.8306870\tbest: 0.8306870 (500)\ttotal: 2m 42s\tremaining: 8m 18s\n",
            "600:\tlearn: 0.7905620\ttest: 0.8076158\ttest1: 0.8252683\tbest: 0.8252683 (600)\ttotal: 3m 14s\tremaining: 7m 45s\n",
            "700:\tlearn: 0.7831041\ttest: 0.8014329\ttest1: 0.8211772\tbest: 0.8211772 (700)\ttotal: 3m 41s\tremaining: 7m 2s\n",
            "800:\tlearn: 0.7696504\ttest: 0.7903918\ttest1: 0.8140781\tbest: 0.8140771 (798)\ttotal: 4m 27s\tremaining: 6m 53s\n",
            "900:\tlearn: 0.7529278\ttest: 0.7762998\ttest1: 0.8033697\tbest: 0.8033697 (900)\ttotal: 5m 12s\tremaining: 6m 35s\n",
            "1000:\tlearn: 0.7247512\ttest: 0.7530846\ttest1: 0.7876702\tbest: 0.7876702 (1000)\ttotal: 6m 8s\tremaining: 6m 23s\n",
            "1100:\tlearn: 0.5901303\ttest: 0.6549880\ttest1: 0.7552477\tbest: 0.7552477 (1100)\ttotal: 9m 2s\tremaining: 7m 43s\n",
            "1200:\tlearn: 0.4106209\ttest: 0.5000454\ttest1: 0.7275955\tbest: 0.7275955 (1200)\ttotal: 13m 19s\tremaining: 9m 19s\n",
            "1300:\tlearn: 0.2942974\ttest: 0.3864614\ttest1: 0.7186908\tbest: 0.7185320 (1298)\ttotal: 17m 31s\tremaining: 9m 58s\n",
            "Stopped by overfitting detector  (35 iterations wait)\n",
            "\n",
            "bestTest = 0.7185320132\n",
            "bestIteration = 1298\n",
            "\n",
            "Shrink model to first 1299 iterations.\n",
            "================================================================================\n",
            "\n",
            "\n",
            "====================================4============================================\n",
            "0:\tlearn: 1.0924115\ttest: 1.0924769\ttest1: 1.0925156\tbest: 1.0925156 (0)\ttotal: 420ms\tremaining: 14m 17s\n",
            "100:\tlearn: 0.8778850\ttest: 0.8809108\ttest1: 0.8837936\tbest: 0.8837936 (100)\ttotal: 30.5s\tremaining: 9m 45s\n",
            "200:\tlearn: 0.8452169\ttest: 0.8515292\ttest1: 0.8578462\tbest: 0.8578462 (200)\ttotal: 1m 5s\tremaining: 10m 2s\n",
            "300:\tlearn: 0.8330986\ttest: 0.8419251\ttest1: 0.8499419\tbest: 0.8499419 (300)\ttotal: 1m 29s\tremaining: 8m 34s\n",
            "400:\tlearn: 0.8239755\ttest: 0.8356500\ttest1: 0.8458252\tbest: 0.8458252 (400)\ttotal: 1m 53s\tremaining: 7m 43s\n",
            "500:\tlearn: 0.8103851\ttest: 0.8248104\ttest1: 0.8387345\tbest: 0.8387343 (499)\ttotal: 2m 27s\tremaining: 7m 34s\n",
            "600:\tlearn: 0.8019399\ttest: 0.8190230\ttest1: 0.8346220\tbest: 0.8346220 (600)\ttotal: 3m 1s\tremaining: 7m 15s\n",
            "700:\tlearn: 0.7917406\ttest: 0.8111593\ttest1: 0.8286844\tbest: 0.8286844 (700)\ttotal: 3m 32s\tremaining: 6m 45s\n",
            "800:\tlearn: 0.7766179\ttest: 0.7990203\ttest1: 0.8207131\tbest: 0.8207131 (800)\ttotal: 4m 7s\tremaining: 6m 24s\n",
            "900:\tlearn: 0.7510582\ttest: 0.7763330\ttest1: 0.8027248\tbest: 0.8027248 (900)\ttotal: 4m 48s\tremaining: 6m 5s\n",
            "1000:\tlearn: 0.7185418\ttest: 0.7508308\ttest1: 0.7869950\tbest: 0.7869950 (1000)\ttotal: 6m 2s\tremaining: 6m 17s\n",
            "1100:\tlearn: 0.5926266\ttest: 0.6577172\ttest1: 0.7603262\tbest: 0.7603262 (1100)\ttotal: 8m 32s\tremaining: 7m 17s\n",
            "1200:\tlearn: 0.3950038\ttest: 0.4811996\ttest1: 0.7361028\tbest: 0.7361028 (1200)\ttotal: 12m 59s\tremaining: 9m 6s\n",
            "Stopped by overfitting detector  (35 iterations wait)\n",
            "\n",
            "bestTest = 0.7334945823\n",
            "bestIteration = 1250\n",
            "\n",
            "Shrink model to first 1251 iterations.\n",
            "================================================================================\n",
            "\n",
            "\n",
            "====================================5============================================\n",
            "0:\tlearn: 1.0921788\ttest: 1.0922901\ttest1: 1.0924414\tbest: 1.0924414 (0)\ttotal: 1.35s\tremaining: 46m 3s\n",
            "100:\tlearn: 0.8811887\ttest: 0.8835640\ttest1: 0.8849404\tbest: 0.8849404 (100)\ttotal: 34.2s\tremaining: 10m 56s\n",
            "200:\tlearn: 0.8462044\ttest: 0.8518109\ttest1: 0.8566019\tbest: 0.8566019 (200)\ttotal: 1m 6s\tremaining: 10m 6s\n",
            "300:\tlearn: 0.8291821\ttest: 0.8384897\ttest1: 0.8460317\tbest: 0.8460317 (300)\ttotal: 1m 32s\tremaining: 8m 54s\n",
            "400:\tlearn: 0.8204145\ttest: 0.8318743\ttest1: 0.8411574\tbest: 0.8411574 (400)\ttotal: 1m 59s\tremaining: 8m 7s\n",
            "500:\tlearn: 0.8063481\ttest: 0.8209052\ttest1: 0.8339726\tbest: 0.8339726 (500)\ttotal: 2m 53s\tremaining: 8m 52s\n",
            "600:\tlearn: 0.7947493\ttest: 0.8111081\ttest1: 0.8265634\tbest: 0.8265634 (600)\ttotal: 3m 26s\tremaining: 8m 14s\n",
            "700:\tlearn: 0.7833864\ttest: 0.8034026\ttest1: 0.8217515\tbest: 0.8217515 (700)\ttotal: 4m 4s\tremaining: 7m 47s\n",
            "900:\tlearn: 0.7533235\ttest: 0.7797256\ttest1: 0.8040994\tbest: 0.8040994 (900)\ttotal: 5m 39s\tremaining: 7m 9s\n",
            "1000:\tlearn: 0.7121572\ttest: 0.7463623\ttest1: 0.7837740\tbest: 0.7837740 (1000)\ttotal: 6m 56s\tremaining: 7m 13s\n",
            "1100:\tlearn: 0.5789591\ttest: 0.6520508\ttest1: 0.7538878\tbest: 0.7538878 (1100)\ttotal: 9m 50s\tremaining: 8m 25s\n",
            "1200:\tlearn: 0.4046047\ttest: 0.5013171\ttest1: 0.7312369\tbest: 0.7312369 (1200)\ttotal: 13m 54s\tremaining: 9m 44s\n",
            "Stopped by overfitting detector  (35 iterations wait)\n",
            "\n",
            "bestTest = 0.7258858902\n",
            "bestIteration = 1262\n",
            "\n",
            "Shrink model to first 1263 iterations.\n",
            "================================================================================\n",
            "\n",
            "\n"
          ]
        }
      ],
      "source": [
        "random.seed(42)\n",
        "cat_models={}\n",
        "\n",
        "cat_features =[1,2,3,5,7,12]\n",
        "\n",
        "for fold in range(5):\n",
        "  print(f'===================================={fold+1}============================================')\n",
        "  train_idx, valid_idx = folds[fold]\n",
        "  X_train = train.drop(['credit'],axis=1).iloc[train_idx].values \n",
        "  X_valid = train.drop(['credit'],axis=1).iloc[valid_idx].values\n",
        "  y_train = train['credit'][train_idx].values\n",
        "  y_valid = train['credit'][valid_idx].values\n",
        "\n",
        "  cat = CatBoostClassifier(**study.best_params)\n",
        "  cat.fit(X_train, y_train,\n",
        "          eval_set=[(X_train, y_train), (X_valid,y_valid)],\n",
        "          early_stopping_rounds=35,cat_features=cat_features,\n",
        "          verbose=100)\n",
        "  cat_models[fold] = cat\n",
        "  print(f'================================================================================\\n\\n')"
      ]
    },
    {
      "cell_type": "markdown",
      "metadata": {
        "id": "suc5P-tKQ5hD"
      },
      "source": [
        "#Test"
      ]
    },
    {
      "cell_type": "code",
      "execution_count": 14,
      "metadata": {
        "id": "vy0QI5WoSuy_"
      },
      "outputs": [],
      "source": [
        "submit.iloc[:,1:]=0\n",
        "for fold in range(5):\n",
        "  submit.iloc[:,1:] += cat_models[fold].predict_proba(test)/5"
      ]
    },
    {
      "cell_type": "code",
      "execution_count": 15,
      "metadata": {
        "id": "B3QpKGOeS73r"
      },
      "outputs": [],
      "source": [
        "import datetime\n",
        "now = datetime.datetime.now()\n",
        "created_time = now.strftime('%m%d-%H%M')\n",
        "\n",
        "submit.to_csv(f'/content/drive/MyDrive/ml_project/{created_time}_submit.csv',index=False)"
      ]
    },
    {
      "cell_type": "code",
      "execution_count": 16,
      "metadata": {
        "id": "lXWLYfphTRBG",
        "colab": {
          "base_uri": "https://localhost:8080/",
          "height": 676
        },
        "outputId": "ce100f5e-4352-4951-eb31-d09c3b029ab7"
      },
      "outputs": [
        {
          "output_type": "execute_result",
          "data": {
            "text/plain": [
              "    index         0         1         2\n",
              "0   26457  0.049213  0.141508  0.809279\n",
              "1   26458  0.311101  0.112029  0.576870\n",
              "2   26459  0.054821  0.155063  0.790116\n",
              "3   26460  0.045511  0.079300  0.875189\n",
              "4   26461  0.083925  0.174212  0.741863\n",
              "5   26462  0.067856  0.255505  0.676638\n",
              "6   26463  0.198667  0.758700  0.042633\n",
              "7   26464  0.103434  0.175930  0.720636\n",
              "8   26465  0.043730  0.086594  0.869676\n",
              "9   26466  0.030617  0.190771  0.778611\n",
              "10  26467  0.092723  0.120032  0.787245\n",
              "11  26468  0.065088  0.150404  0.784508\n",
              "12  26469  0.450763  0.088071  0.461167\n",
              "13  26470  0.050947  0.154276  0.794776\n",
              "14  26471  0.108827  0.147434  0.743739\n",
              "15  26472  0.098675  0.367860  0.533464\n",
              "16  26473  0.116373  0.173879  0.709748\n",
              "17  26474  0.254429  0.713821  0.031750\n",
              "18  26475  0.099616  0.264451  0.635932\n",
              "19  26476  0.064312  0.150191  0.785496"
            ],
            "text/html": [
              "\n",
              "  <div id=\"df-16a54aa0-7042-4f2b-92b6-d829bcd9f76b\">\n",
              "    <div class=\"colab-df-container\">\n",
              "      <div>\n",
              "<style scoped>\n",
              "    .dataframe tbody tr th:only-of-type {\n",
              "        vertical-align: middle;\n",
              "    }\n",
              "\n",
              "    .dataframe tbody tr th {\n",
              "        vertical-align: top;\n",
              "    }\n",
              "\n",
              "    .dataframe thead th {\n",
              "        text-align: right;\n",
              "    }\n",
              "</style>\n",
              "<table border=\"1\" class=\"dataframe\">\n",
              "  <thead>\n",
              "    <tr style=\"text-align: right;\">\n",
              "      <th></th>\n",
              "      <th>index</th>\n",
              "      <th>0</th>\n",
              "      <th>1</th>\n",
              "      <th>2</th>\n",
              "    </tr>\n",
              "  </thead>\n",
              "  <tbody>\n",
              "    <tr>\n",
              "      <th>0</th>\n",
              "      <td>26457</td>\n",
              "      <td>0.049213</td>\n",
              "      <td>0.141508</td>\n",
              "      <td>0.809279</td>\n",
              "    </tr>\n",
              "    <tr>\n",
              "      <th>1</th>\n",
              "      <td>26458</td>\n",
              "      <td>0.311101</td>\n",
              "      <td>0.112029</td>\n",
              "      <td>0.576870</td>\n",
              "    </tr>\n",
              "    <tr>\n",
              "      <th>2</th>\n",
              "      <td>26459</td>\n",
              "      <td>0.054821</td>\n",
              "      <td>0.155063</td>\n",
              "      <td>0.790116</td>\n",
              "    </tr>\n",
              "    <tr>\n",
              "      <th>3</th>\n",
              "      <td>26460</td>\n",
              "      <td>0.045511</td>\n",
              "      <td>0.079300</td>\n",
              "      <td>0.875189</td>\n",
              "    </tr>\n",
              "    <tr>\n",
              "      <th>4</th>\n",
              "      <td>26461</td>\n",
              "      <td>0.083925</td>\n",
              "      <td>0.174212</td>\n",
              "      <td>0.741863</td>\n",
              "    </tr>\n",
              "    <tr>\n",
              "      <th>5</th>\n",
              "      <td>26462</td>\n",
              "      <td>0.067856</td>\n",
              "      <td>0.255505</td>\n",
              "      <td>0.676638</td>\n",
              "    </tr>\n",
              "    <tr>\n",
              "      <th>6</th>\n",
              "      <td>26463</td>\n",
              "      <td>0.198667</td>\n",
              "      <td>0.758700</td>\n",
              "      <td>0.042633</td>\n",
              "    </tr>\n",
              "    <tr>\n",
              "      <th>7</th>\n",
              "      <td>26464</td>\n",
              "      <td>0.103434</td>\n",
              "      <td>0.175930</td>\n",
              "      <td>0.720636</td>\n",
              "    </tr>\n",
              "    <tr>\n",
              "      <th>8</th>\n",
              "      <td>26465</td>\n",
              "      <td>0.043730</td>\n",
              "      <td>0.086594</td>\n",
              "      <td>0.869676</td>\n",
              "    </tr>\n",
              "    <tr>\n",
              "      <th>9</th>\n",
              "      <td>26466</td>\n",
              "      <td>0.030617</td>\n",
              "      <td>0.190771</td>\n",
              "      <td>0.778611</td>\n",
              "    </tr>\n",
              "    <tr>\n",
              "      <th>10</th>\n",
              "      <td>26467</td>\n",
              "      <td>0.092723</td>\n",
              "      <td>0.120032</td>\n",
              "      <td>0.787245</td>\n",
              "    </tr>\n",
              "    <tr>\n",
              "      <th>11</th>\n",
              "      <td>26468</td>\n",
              "      <td>0.065088</td>\n",
              "      <td>0.150404</td>\n",
              "      <td>0.784508</td>\n",
              "    </tr>\n",
              "    <tr>\n",
              "      <th>12</th>\n",
              "      <td>26469</td>\n",
              "      <td>0.450763</td>\n",
              "      <td>0.088071</td>\n",
              "      <td>0.461167</td>\n",
              "    </tr>\n",
              "    <tr>\n",
              "      <th>13</th>\n",
              "      <td>26470</td>\n",
              "      <td>0.050947</td>\n",
              "      <td>0.154276</td>\n",
              "      <td>0.794776</td>\n",
              "    </tr>\n",
              "    <tr>\n",
              "      <th>14</th>\n",
              "      <td>26471</td>\n",
              "      <td>0.108827</td>\n",
              "      <td>0.147434</td>\n",
              "      <td>0.743739</td>\n",
              "    </tr>\n",
              "    <tr>\n",
              "      <th>15</th>\n",
              "      <td>26472</td>\n",
              "      <td>0.098675</td>\n",
              "      <td>0.367860</td>\n",
              "      <td>0.533464</td>\n",
              "    </tr>\n",
              "    <tr>\n",
              "      <th>16</th>\n",
              "      <td>26473</td>\n",
              "      <td>0.116373</td>\n",
              "      <td>0.173879</td>\n",
              "      <td>0.709748</td>\n",
              "    </tr>\n",
              "    <tr>\n",
              "      <th>17</th>\n",
              "      <td>26474</td>\n",
              "      <td>0.254429</td>\n",
              "      <td>0.713821</td>\n",
              "      <td>0.031750</td>\n",
              "    </tr>\n",
              "    <tr>\n",
              "      <th>18</th>\n",
              "      <td>26475</td>\n",
              "      <td>0.099616</td>\n",
              "      <td>0.264451</td>\n",
              "      <td>0.635932</td>\n",
              "    </tr>\n",
              "    <tr>\n",
              "      <th>19</th>\n",
              "      <td>26476</td>\n",
              "      <td>0.064312</td>\n",
              "      <td>0.150191</td>\n",
              "      <td>0.785496</td>\n",
              "    </tr>\n",
              "  </tbody>\n",
              "</table>\n",
              "</div>\n",
              "      <button class=\"colab-df-convert\" onclick=\"convertToInteractive('df-16a54aa0-7042-4f2b-92b6-d829bcd9f76b')\"\n",
              "              title=\"Convert this dataframe to an interactive table.\"\n",
              "              style=\"display:none;\">\n",
              "        \n",
              "  <svg xmlns=\"http://www.w3.org/2000/svg\" height=\"24px\"viewBox=\"0 0 24 24\"\n",
              "       width=\"24px\">\n",
              "    <path d=\"M0 0h24v24H0V0z\" fill=\"none\"/>\n",
              "    <path d=\"M18.56 5.44l.94 2.06.94-2.06 2.06-.94-2.06-.94-.94-2.06-.94 2.06-2.06.94zm-11 1L8.5 8.5l.94-2.06 2.06-.94-2.06-.94L8.5 2.5l-.94 2.06-2.06.94zm10 10l.94 2.06.94-2.06 2.06-.94-2.06-.94-.94-2.06-.94 2.06-2.06.94z\"/><path d=\"M17.41 7.96l-1.37-1.37c-.4-.4-.92-.59-1.43-.59-.52 0-1.04.2-1.43.59L10.3 9.45l-7.72 7.72c-.78.78-.78 2.05 0 2.83L4 21.41c.39.39.9.59 1.41.59.51 0 1.02-.2 1.41-.59l7.78-7.78 2.81-2.81c.8-.78.8-2.07 0-2.86zM5.41 20L4 18.59l7.72-7.72 1.47 1.35L5.41 20z\"/>\n",
              "  </svg>\n",
              "      </button>\n",
              "      \n",
              "  <style>\n",
              "    .colab-df-container {\n",
              "      display:flex;\n",
              "      flex-wrap:wrap;\n",
              "      gap: 12px;\n",
              "    }\n",
              "\n",
              "    .colab-df-convert {\n",
              "      background-color: #E8F0FE;\n",
              "      border: none;\n",
              "      border-radius: 50%;\n",
              "      cursor: pointer;\n",
              "      display: none;\n",
              "      fill: #1967D2;\n",
              "      height: 32px;\n",
              "      padding: 0 0 0 0;\n",
              "      width: 32px;\n",
              "    }\n",
              "\n",
              "    .colab-df-convert:hover {\n",
              "      background-color: #E2EBFA;\n",
              "      box-shadow: 0px 1px 2px rgba(60, 64, 67, 0.3), 0px 1px 3px 1px rgba(60, 64, 67, 0.15);\n",
              "      fill: #174EA6;\n",
              "    }\n",
              "\n",
              "    [theme=dark] .colab-df-convert {\n",
              "      background-color: #3B4455;\n",
              "      fill: #D2E3FC;\n",
              "    }\n",
              "\n",
              "    [theme=dark] .colab-df-convert:hover {\n",
              "      background-color: #434B5C;\n",
              "      box-shadow: 0px 1px 3px 1px rgba(0, 0, 0, 0.15);\n",
              "      filter: drop-shadow(0px 1px 2px rgba(0, 0, 0, 0.3));\n",
              "      fill: #FFFFFF;\n",
              "    }\n",
              "  </style>\n",
              "\n",
              "      <script>\n",
              "        const buttonEl =\n",
              "          document.querySelector('#df-16a54aa0-7042-4f2b-92b6-d829bcd9f76b button.colab-df-convert');\n",
              "        buttonEl.style.display =\n",
              "          google.colab.kernel.accessAllowed ? 'block' : 'none';\n",
              "\n",
              "        async function convertToInteractive(key) {\n",
              "          const element = document.querySelector('#df-16a54aa0-7042-4f2b-92b6-d829bcd9f76b');\n",
              "          const dataTable =\n",
              "            await google.colab.kernel.invokeFunction('convertToInteractive',\n",
              "                                                     [key], {});\n",
              "          if (!dataTable) return;\n",
              "\n",
              "          const docLinkHtml = 'Like what you see? Visit the ' +\n",
              "            '<a target=\"_blank\" href=https://colab.research.google.com/notebooks/data_table.ipynb>data table notebook</a>'\n",
              "            + ' to learn more about interactive tables.';\n",
              "          element.innerHTML = '';\n",
              "          dataTable['output_type'] = 'display_data';\n",
              "          await google.colab.output.renderOutput(dataTable, element);\n",
              "          const docLink = document.createElement('div');\n",
              "          docLink.innerHTML = docLinkHtml;\n",
              "          element.appendChild(docLink);\n",
              "        }\n",
              "      </script>\n",
              "    </div>\n",
              "  </div>\n",
              "  "
            ]
          },
          "metadata": {},
          "execution_count": 16
        }
      ],
      "source": [
        "submit.head(20)"
      ]
    },
    {
      "cell_type": "code",
      "execution_count": 16,
      "metadata": {
        "id": "_kdsyNQlMMMr"
      },
      "outputs": [],
      "source": []
    }
  ],
  "metadata": {
    "accelerator": "GPU",
    "colab": {
      "machine_shape": "hm",
      "provenance": [],
      "include_colab_link": true
    },
    "gpuClass": "standard",
    "kernelspec": {
      "display_name": "Python 3",
      "name": "python3"
    },
    "language_info": {
      "name": "python"
    }
  },
  "nbformat": 4,
  "nbformat_minor": 0
}